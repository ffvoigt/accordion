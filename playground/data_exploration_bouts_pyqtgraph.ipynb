{
 "cells": [
  {
   "cell_type": "code",
   "execution_count": 1,
   "id": "b3dcd0cc",
   "metadata": {},
   "outputs": [],
   "source": [
    "%matplotlib inline\n",
    "%load_ext autoreload\n",
    "%autoreload 2"
   ]
  },
  {
   "cell_type": "code",
   "execution_count": 2,
   "id": "bc0889e8",
   "metadata": {
    "scrolled": true
   },
   "outputs": [],
   "source": [
    "import sys\n",
    "import os\n",
    "import numpy as np\n",
    "import napari\n",
    "from matplotlib import pyplot as plt  # graphic library, for plots\n",
    "import numba as nb\n",
    "\n",
    "from bokeh.plotting import figure, show\n",
    "from bokeh.io import output_notebook\n",
    "from bokeh.layouts import column\n",
    "from bokeh.models import ColumnDataSource, RangeTool\n",
    "from bokeh.plotting import figure, show\n",
    "from bokeh.sampledata.stocks import AAPL"
   ]
  },
  {
   "cell_type": "code",
   "execution_count": 3,
   "id": "29002ec3",
   "metadata": {
    "scrolled": true
   },
   "outputs": [
    {
     "data": {
      "text/html": [
       "<style>\n",
       "        .bk-notebook-logo {\n",
       "            display: block;\n",
       "            width: 20px;\n",
       "            height: 20px;\n",
       "            background-image: url(data:image/png;base64,iVBORw0KGgoAAAANSUhEUgAAABQAAAAUCAYAAACNiR0NAAAABHNCSVQICAgIfAhkiAAAAAlwSFlzAAALEgAACxIB0t1+/AAAABx0RVh0U29mdHdhcmUAQWRvYmUgRmlyZXdvcmtzIENTNui8sowAAAOkSURBVDiNjZRtaJVlGMd/1/08zzln5zjP1LWcU9N0NkN8m2CYjpgQYQXqSs0I84OLIC0hkEKoPtiH3gmKoiJDU7QpLgoLjLIQCpEsNJ1vqUOdO7ppbuec5+V+rj4ctwzd8IIbbi6u+8f1539dt3A78eXC7QizUF7gyV1fD1Yqg4JWz84yffhm0qkFqBogB9rM8tZdtwVsPUhWhGcFJngGeWrPzHm5oaMmkfEg1usvLFyc8jLRqDOMru7AyC8saQr7GG7f5fvDeH7Ej8CM66nIF+8yngt6HWaKh7k49Soy9nXurCi1o3qUbS3zWfrYeQDTB/Qj6kX6Ybhw4B+bOYoLKCC9H3Nu/leUTZ1JdRWkkn2ldcCamzrcf47KKXdAJllSlxAOkRgyHsGC/zRday5Qld9DyoM4/q/rUoy/CXh3jzOu3bHUVZeU+DEn8FInkPBFlu3+nW3Nw0mk6vCDiWg8CeJaxEwuHS3+z5RgY+YBR6V1Z1nxSOfoaPa4LASWxxdNp+VWTk7+4vzaou8v8PN+xo+KY2xsw6une2frhw05CTYOmQvsEhjhWjn0bmXPjpE1+kplmmkP3suftwTubK9Vq22qKmrBhpY4jvd5afdRA3wGjFAgcnTK2s4hY0/GPNIb0nErGMCRxWOOX64Z8RAC4oCXdklmEvcL8o0BfkNK4lUg9HTl+oPlQxdNo3Mg4Nv175e/1LDGzZen30MEjRUtmXSfiTVu1kK8W4txyV6BMKlbgk3lMwYCiusNy9fVfvvwMxv8Ynl6vxoByANLTWplvuj/nF9m2+PDtt1eiHPBr1oIfhCChQMBw6Aw0UulqTKZdfVvfG7VcfIqLG9bcldL/+pdWTLxLUy8Qq38heUIjh4XlzZxzQm19lLFlr8vdQ97rjZVOLf8nclzckbcD4wxXMidpX30sFd37Fv/GtwwhzhxGVAprjbg0gCAEeIgwCZyTV2Z1REEW8O4py0wsjeloKoMr6iCY6dP92H6Vw/oTyICIthibxjm/DfN9lVz8IqtqKYLUXfoKVMVQVVJOElGjrnnUt9T9wbgp8AyYKaGlqingHZU/uG2NTZSVqwHQTWkx9hxjkpWDaCg6Ckj5qebgBVbT3V3NNXMSiWSDdGV3hrtzla7J+duwPOToIg42ChPQOQjspnSlp1V+Gjdged7+8UN5CRAV7a5EdFNwCjEaBR27b3W890TE7g24NAP/mMDXRWrGoFPQI9ls/MWO2dWFAar/xcOIImbbpA3zgAAAABJRU5ErkJggg==);\n",
       "        }\n",
       "    </style>\n",
       "    <div>\n",
       "        <a href=\"https://bokeh.org\" target=\"_blank\" class=\"bk-notebook-logo\"></a>\n",
       "        <span id=\"cd321010-d61a-41ae-a486-ac39a848b0c4\">Loading BokehJS ...</span>\n",
       "    </div>\n"
      ]
     },
     "metadata": {},
     "output_type": "display_data"
    },
    {
     "data": {
      "application/javascript": [
       "(function(root) {\n",
       "  function now() {\n",
       "    return new Date();\n",
       "  }\n",
       "\n",
       "  const force = true;\n",
       "\n",
       "  if (typeof root._bokeh_onload_callbacks === \"undefined\" || force === true) {\n",
       "    root._bokeh_onload_callbacks = [];\n",
       "    root._bokeh_is_loading = undefined;\n",
       "  }\n",
       "\n",
       "const JS_MIME_TYPE = 'application/javascript';\n",
       "  const HTML_MIME_TYPE = 'text/html';\n",
       "  const EXEC_MIME_TYPE = 'application/vnd.bokehjs_exec.v0+json';\n",
       "  const CLASS_NAME = 'output_bokeh rendered_html';\n",
       "\n",
       "  /**\n",
       "   * Render data to the DOM node\n",
       "   */\n",
       "  function render(props, node) {\n",
       "    const script = document.createElement(\"script\");\n",
       "    node.appendChild(script);\n",
       "  }\n",
       "\n",
       "  /**\n",
       "   * Handle when an output is cleared or removed\n",
       "   */\n",
       "  function handleClearOutput(event, handle) {\n",
       "    const cell = handle.cell;\n",
       "\n",
       "    const id = cell.output_area._bokeh_element_id;\n",
       "    const server_id = cell.output_area._bokeh_server_id;\n",
       "    // Clean up Bokeh references\n",
       "    if (id != null && id in Bokeh.index) {\n",
       "      Bokeh.index[id].model.document.clear();\n",
       "      delete Bokeh.index[id];\n",
       "    }\n",
       "\n",
       "    if (server_id !== undefined) {\n",
       "      // Clean up Bokeh references\n",
       "      const cmd_clean = \"from bokeh.io.state import curstate; print(curstate().uuid_to_server['\" + server_id + \"'].get_sessions()[0].document.roots[0]._id)\";\n",
       "      cell.notebook.kernel.execute(cmd_clean, {\n",
       "        iopub: {\n",
       "          output: function(msg) {\n",
       "            const id = msg.content.text.trim();\n",
       "            if (id in Bokeh.index) {\n",
       "              Bokeh.index[id].model.document.clear();\n",
       "              delete Bokeh.index[id];\n",
       "            }\n",
       "          }\n",
       "        }\n",
       "      });\n",
       "      // Destroy server and session\n",
       "      const cmd_destroy = \"import bokeh.io.notebook as ion; ion.destroy_server('\" + server_id + \"')\";\n",
       "      cell.notebook.kernel.execute(cmd_destroy);\n",
       "    }\n",
       "  }\n",
       "\n",
       "  /**\n",
       "   * Handle when a new output is added\n",
       "   */\n",
       "  function handleAddOutput(event, handle) {\n",
       "    const output_area = handle.output_area;\n",
       "    const output = handle.output;\n",
       "\n",
       "    // limit handleAddOutput to display_data with EXEC_MIME_TYPE content only\n",
       "    if ((output.output_type != \"display_data\") || (!Object.prototype.hasOwnProperty.call(output.data, EXEC_MIME_TYPE))) {\n",
       "      return\n",
       "    }\n",
       "\n",
       "    const toinsert = output_area.element.find(\".\" + CLASS_NAME.split(' ')[0]);\n",
       "\n",
       "    if (output.metadata[EXEC_MIME_TYPE][\"id\"] !== undefined) {\n",
       "      toinsert[toinsert.length - 1].firstChild.textContent = output.data[JS_MIME_TYPE];\n",
       "      // store reference to embed id on output_area\n",
       "      output_area._bokeh_element_id = output.metadata[EXEC_MIME_TYPE][\"id\"];\n",
       "    }\n",
       "    if (output.metadata[EXEC_MIME_TYPE][\"server_id\"] !== undefined) {\n",
       "      const bk_div = document.createElement(\"div\");\n",
       "      bk_div.innerHTML = output.data[HTML_MIME_TYPE];\n",
       "      const script_attrs = bk_div.children[0].attributes;\n",
       "      for (let i = 0; i < script_attrs.length; i++) {\n",
       "        toinsert[toinsert.length - 1].firstChild.setAttribute(script_attrs[i].name, script_attrs[i].value);\n",
       "        toinsert[toinsert.length - 1].firstChild.textContent = bk_div.children[0].textContent\n",
       "      }\n",
       "      // store reference to server id on output_area\n",
       "      output_area._bokeh_server_id = output.metadata[EXEC_MIME_TYPE][\"server_id\"];\n",
       "    }\n",
       "  }\n",
       "\n",
       "  function register_renderer(events, OutputArea) {\n",
       "\n",
       "    function append_mime(data, metadata, element) {\n",
       "      // create a DOM node to render to\n",
       "      const toinsert = this.create_output_subarea(\n",
       "        metadata,\n",
       "        CLASS_NAME,\n",
       "        EXEC_MIME_TYPE\n",
       "      );\n",
       "      this.keyboard_manager.register_events(toinsert);\n",
       "      // Render to node\n",
       "      const props = {data: data, metadata: metadata[EXEC_MIME_TYPE]};\n",
       "      render(props, toinsert[toinsert.length - 1]);\n",
       "      element.append(toinsert);\n",
       "      return toinsert\n",
       "    }\n",
       "\n",
       "    /* Handle when an output is cleared or removed */\n",
       "    events.on('clear_output.CodeCell', handleClearOutput);\n",
       "    events.on('delete.Cell', handleClearOutput);\n",
       "\n",
       "    /* Handle when a new output is added */\n",
       "    events.on('output_added.OutputArea', handleAddOutput);\n",
       "\n",
       "    /**\n",
       "     * Register the mime type and append_mime function with output_area\n",
       "     */\n",
       "    OutputArea.prototype.register_mime_type(EXEC_MIME_TYPE, append_mime, {\n",
       "      /* Is output safe? */\n",
       "      safe: true,\n",
       "      /* Index of renderer in `output_area.display_order` */\n",
       "      index: 0\n",
       "    });\n",
       "  }\n",
       "\n",
       "  // register the mime type if in Jupyter Notebook environment and previously unregistered\n",
       "  if (root.Jupyter !== undefined) {\n",
       "    const events = require('base/js/events');\n",
       "    const OutputArea = require('notebook/js/outputarea').OutputArea;\n",
       "\n",
       "    if (OutputArea.prototype.mime_types().indexOf(EXEC_MIME_TYPE) == -1) {\n",
       "      register_renderer(events, OutputArea);\n",
       "    }\n",
       "  }\n",
       "  if (typeof (root._bokeh_timeout) === \"undefined\" || force === true) {\n",
       "    root._bokeh_timeout = Date.now() + 5000;\n",
       "    root._bokeh_failed_load = false;\n",
       "  }\n",
       "\n",
       "  const NB_LOAD_WARNING = {'data': {'text/html':\n",
       "     \"<div style='background-color: #fdd'>\\n\"+\n",
       "     \"<p>\\n\"+\n",
       "     \"BokehJS does not appear to have successfully loaded. If loading BokehJS from CDN, this \\n\"+\n",
       "     \"may be due to a slow or bad network connection. Possible fixes:\\n\"+\n",
       "     \"</p>\\n\"+\n",
       "     \"<ul>\\n\"+\n",
       "     \"<li>re-rerun `output_notebook()` to attempt to load from CDN again, or</li>\\n\"+\n",
       "     \"<li>use INLINE resources instead, as so:</li>\\n\"+\n",
       "     \"</ul>\\n\"+\n",
       "     \"<code>\\n\"+\n",
       "     \"from bokeh.resources import INLINE\\n\"+\n",
       "     \"output_notebook(resources=INLINE)\\n\"+\n",
       "     \"</code>\\n\"+\n",
       "     \"</div>\"}};\n",
       "\n",
       "  function display_loaded() {\n",
       "    const el = document.getElementById(\"cd321010-d61a-41ae-a486-ac39a848b0c4\");\n",
       "    if (el != null) {\n",
       "      el.textContent = \"BokehJS is loading...\";\n",
       "    }\n",
       "    if (root.Bokeh !== undefined) {\n",
       "      if (el != null) {\n",
       "        el.textContent = \"BokehJS \" + root.Bokeh.version + \" successfully loaded.\";\n",
       "      }\n",
       "    } else if (Date.now() < root._bokeh_timeout) {\n",
       "      setTimeout(display_loaded, 100)\n",
       "    }\n",
       "  }\n",
       "\n",
       "  function run_callbacks() {\n",
       "    try {\n",
       "      root._bokeh_onload_callbacks.forEach(function(callback) {\n",
       "        if (callback != null)\n",
       "          callback();\n",
       "      });\n",
       "    } finally {\n",
       "      delete root._bokeh_onload_callbacks\n",
       "    }\n",
       "    console.debug(\"Bokeh: all callbacks have finished\");\n",
       "  }\n",
       "\n",
       "  function load_libs(css_urls, js_urls, callback) {\n",
       "    if (css_urls == null) css_urls = [];\n",
       "    if (js_urls == null) js_urls = [];\n",
       "\n",
       "    root._bokeh_onload_callbacks.push(callback);\n",
       "    if (root._bokeh_is_loading > 0) {\n",
       "      console.debug(\"Bokeh: BokehJS is being loaded, scheduling callback at\", now());\n",
       "      return null;\n",
       "    }\n",
       "    if (js_urls == null || js_urls.length === 0) {\n",
       "      run_callbacks();\n",
       "      return null;\n",
       "    }\n",
       "    console.debug(\"Bokeh: BokehJS not loaded, scheduling load and callback at\", now());\n",
       "    root._bokeh_is_loading = css_urls.length + js_urls.length;\n",
       "\n",
       "    function on_load() {\n",
       "      root._bokeh_is_loading--;\n",
       "      if (root._bokeh_is_loading === 0) {\n",
       "        console.debug(\"Bokeh: all BokehJS libraries/stylesheets loaded\");\n",
       "        run_callbacks()\n",
       "      }\n",
       "    }\n",
       "\n",
       "    function on_error(url) {\n",
       "      console.error(\"failed to load \" + url);\n",
       "    }\n",
       "\n",
       "    for (let i = 0; i < css_urls.length; i++) {\n",
       "      const url = css_urls[i];\n",
       "      const element = document.createElement(\"link\");\n",
       "      element.onload = on_load;\n",
       "      element.onerror = on_error.bind(null, url);\n",
       "      element.rel = \"stylesheet\";\n",
       "      element.type = \"text/css\";\n",
       "      element.href = url;\n",
       "      console.debug(\"Bokeh: injecting link tag for BokehJS stylesheet: \", url);\n",
       "      document.body.appendChild(element);\n",
       "    }\n",
       "\n",
       "    for (let i = 0; i < js_urls.length; i++) {\n",
       "      const url = js_urls[i];\n",
       "      const element = document.createElement('script');\n",
       "      element.onload = on_load;\n",
       "      element.onerror = on_error.bind(null, url);\n",
       "      element.async = false;\n",
       "      element.src = url;\n",
       "      console.debug(\"Bokeh: injecting script tag for BokehJS library: \", url);\n",
       "      document.head.appendChild(element);\n",
       "    }\n",
       "  };\n",
       "\n",
       "  function inject_raw_css(css) {\n",
       "    const element = document.createElement(\"style\");\n",
       "    element.appendChild(document.createTextNode(css));\n",
       "    document.body.appendChild(element);\n",
       "  }\n",
       "\n",
       "  const js_urls = [\"https://cdn.bokeh.org/bokeh/release/bokeh-3.2.0.min.js\", \"https://cdn.bokeh.org/bokeh/release/bokeh-gl-3.2.0.min.js\", \"https://cdn.bokeh.org/bokeh/release/bokeh-widgets-3.2.0.min.js\", \"https://cdn.bokeh.org/bokeh/release/bokeh-tables-3.2.0.min.js\", \"https://cdn.bokeh.org/bokeh/release/bokeh-mathjax-3.2.0.min.js\"];\n",
       "  const css_urls = [];\n",
       "\n",
       "  const inline_js = [    function(Bokeh) {\n",
       "      Bokeh.set_log_level(\"info\");\n",
       "    },\n",
       "function(Bokeh) {\n",
       "    }\n",
       "  ];\n",
       "\n",
       "  function run_inline_js() {\n",
       "    if (root.Bokeh !== undefined || force === true) {\n",
       "          for (let i = 0; i < inline_js.length; i++) {\n",
       "      inline_js[i].call(root, root.Bokeh);\n",
       "    }\n",
       "if (force === true) {\n",
       "        display_loaded();\n",
       "      }} else if (Date.now() < root._bokeh_timeout) {\n",
       "      setTimeout(run_inline_js, 100);\n",
       "    } else if (!root._bokeh_failed_load) {\n",
       "      console.log(\"Bokeh: BokehJS failed to load within specified timeout.\");\n",
       "      root._bokeh_failed_load = true;\n",
       "    } else if (force !== true) {\n",
       "      const cell = $(document.getElementById(\"cd321010-d61a-41ae-a486-ac39a848b0c4\")).parents('.cell').data().cell;\n",
       "      cell.output_area.append_execute_result(NB_LOAD_WARNING)\n",
       "    }\n",
       "  }\n",
       "\n",
       "  if (root._bokeh_is_loading === 0) {\n",
       "    console.debug(\"Bokeh: BokehJS loaded, going straight to plotting\");\n",
       "    run_inline_js();\n",
       "  } else {\n",
       "    load_libs(css_urls, js_urls, function() {\n",
       "      console.debug(\"Bokeh: BokehJS plotting callback run at\", now());\n",
       "      run_inline_js();\n",
       "    });\n",
       "  }\n",
       "}(window));"
      ],
      "application/vnd.bokehjs_load.v0+json": "(function(root) {\n  function now() {\n    return new Date();\n  }\n\n  const force = true;\n\n  if (typeof root._bokeh_onload_callbacks === \"undefined\" || force === true) {\n    root._bokeh_onload_callbacks = [];\n    root._bokeh_is_loading = undefined;\n  }\n\n\n  if (typeof (root._bokeh_timeout) === \"undefined\" || force === true) {\n    root._bokeh_timeout = Date.now() + 5000;\n    root._bokeh_failed_load = false;\n  }\n\n  const NB_LOAD_WARNING = {'data': {'text/html':\n     \"<div style='background-color: #fdd'>\\n\"+\n     \"<p>\\n\"+\n     \"BokehJS does not appear to have successfully loaded. If loading BokehJS from CDN, this \\n\"+\n     \"may be due to a slow or bad network connection. Possible fixes:\\n\"+\n     \"</p>\\n\"+\n     \"<ul>\\n\"+\n     \"<li>re-rerun `output_notebook()` to attempt to load from CDN again, or</li>\\n\"+\n     \"<li>use INLINE resources instead, as so:</li>\\n\"+\n     \"</ul>\\n\"+\n     \"<code>\\n\"+\n     \"from bokeh.resources import INLINE\\n\"+\n     \"output_notebook(resources=INLINE)\\n\"+\n     \"</code>\\n\"+\n     \"</div>\"}};\n\n  function display_loaded() {\n    const el = document.getElementById(\"cd321010-d61a-41ae-a486-ac39a848b0c4\");\n    if (el != null) {\n      el.textContent = \"BokehJS is loading...\";\n    }\n    if (root.Bokeh !== undefined) {\n      if (el != null) {\n        el.textContent = \"BokehJS \" + root.Bokeh.version + \" successfully loaded.\";\n      }\n    } else if (Date.now() < root._bokeh_timeout) {\n      setTimeout(display_loaded, 100)\n    }\n  }\n\n  function run_callbacks() {\n    try {\n      root._bokeh_onload_callbacks.forEach(function(callback) {\n        if (callback != null)\n          callback();\n      });\n    } finally {\n      delete root._bokeh_onload_callbacks\n    }\n    console.debug(\"Bokeh: all callbacks have finished\");\n  }\n\n  function load_libs(css_urls, js_urls, callback) {\n    if (css_urls == null) css_urls = [];\n    if (js_urls == null) js_urls = [];\n\n    root._bokeh_onload_callbacks.push(callback);\n    if (root._bokeh_is_loading > 0) {\n      console.debug(\"Bokeh: BokehJS is being loaded, scheduling callback at\", now());\n      return null;\n    }\n    if (js_urls == null || js_urls.length === 0) {\n      run_callbacks();\n      return null;\n    }\n    console.debug(\"Bokeh: BokehJS not loaded, scheduling load and callback at\", now());\n    root._bokeh_is_loading = css_urls.length + js_urls.length;\n\n    function on_load() {\n      root._bokeh_is_loading--;\n      if (root._bokeh_is_loading === 0) {\n        console.debug(\"Bokeh: all BokehJS libraries/stylesheets loaded\");\n        run_callbacks()\n      }\n    }\n\n    function on_error(url) {\n      console.error(\"failed to load \" + url);\n    }\n\n    for (let i = 0; i < css_urls.length; i++) {\n      const url = css_urls[i];\n      const element = document.createElement(\"link\");\n      element.onload = on_load;\n      element.onerror = on_error.bind(null, url);\n      element.rel = \"stylesheet\";\n      element.type = \"text/css\";\n      element.href = url;\n      console.debug(\"Bokeh: injecting link tag for BokehJS stylesheet: \", url);\n      document.body.appendChild(element);\n    }\n\n    for (let i = 0; i < js_urls.length; i++) {\n      const url = js_urls[i];\n      const element = document.createElement('script');\n      element.onload = on_load;\n      element.onerror = on_error.bind(null, url);\n      element.async = false;\n      element.src = url;\n      console.debug(\"Bokeh: injecting script tag for BokehJS library: \", url);\n      document.head.appendChild(element);\n    }\n  };\n\n  function inject_raw_css(css) {\n    const element = document.createElement(\"style\");\n    element.appendChild(document.createTextNode(css));\n    document.body.appendChild(element);\n  }\n\n  const js_urls = [\"https://cdn.bokeh.org/bokeh/release/bokeh-3.2.0.min.js\", \"https://cdn.bokeh.org/bokeh/release/bokeh-gl-3.2.0.min.js\", \"https://cdn.bokeh.org/bokeh/release/bokeh-widgets-3.2.0.min.js\", \"https://cdn.bokeh.org/bokeh/release/bokeh-tables-3.2.0.min.js\", \"https://cdn.bokeh.org/bokeh/release/bokeh-mathjax-3.2.0.min.js\"];\n  const css_urls = [];\n\n  const inline_js = [    function(Bokeh) {\n      Bokeh.set_log_level(\"info\");\n    },\nfunction(Bokeh) {\n    }\n  ];\n\n  function run_inline_js() {\n    if (root.Bokeh !== undefined || force === true) {\n          for (let i = 0; i < inline_js.length; i++) {\n      inline_js[i].call(root, root.Bokeh);\n    }\nif (force === true) {\n        display_loaded();\n      }} else if (Date.now() < root._bokeh_timeout) {\n      setTimeout(run_inline_js, 100);\n    } else if (!root._bokeh_failed_load) {\n      console.log(\"Bokeh: BokehJS failed to load within specified timeout.\");\n      root._bokeh_failed_load = true;\n    } else if (force !== true) {\n      const cell = $(document.getElementById(\"cd321010-d61a-41ae-a486-ac39a848b0c4\")).parents('.cell').data().cell;\n      cell.output_area.append_execute_result(NB_LOAD_WARNING)\n    }\n  }\n\n  if (root._bokeh_is_loading === 0) {\n    console.debug(\"Bokeh: BokehJS loaded, going straight to plotting\");\n    run_inline_js();\n  } else {\n    load_libs(css_urls, js_urls, function() {\n      console.debug(\"Bokeh: BokehJS plotting callback run at\", now());\n      run_inline_js();\n    });\n  }\n}(window));"
     },
     "metadata": {},
     "output_type": "display_data"
    }
   ],
   "source": [
    "output_notebook()"
   ]
  },
  {
   "cell_type": "code",
   "execution_count": 4,
   "id": "c990096f",
   "metadata": {},
   "outputs": [],
   "source": [
    "import filedialogs"
   ]
  },
  {
   "cell_type": "code",
   "execution_count": 5,
   "id": "c653f4b8",
   "metadata": {},
   "outputs": [],
   "source": [
    "from metavision_core.event_io.raw_reader import RawReader\n",
    "from metavision_core.event_io.py_reader import EventDatReader\n",
    "from metavision_core.event_io import EventsIterator"
   ]
  },
  {
   "cell_type": "code",
   "execution_count": 29,
   "id": "f4236cd8",
   "metadata": {},
   "outputs": [],
   "source": [
    "dt=1000"
   ]
  },
  {
   "cell_type": "code",
   "execution_count": 6,
   "id": "0201a266",
   "metadata": {},
   "outputs": [],
   "source": [
    "path = filedialogs.gui_fname('example_data/')\n",
    "path = path.decode('ascii')"
   ]
  },
  {
   "cell_type": "code",
   "execution_count": 7,
   "id": "f75acc6b",
   "metadata": {},
   "outputs": [
    {
     "name": "stdout",
     "output_type": "stream",
     "text": [
      "RawReader(E:/code/github-ffvoigt/accordion/playground/example_data/fish_bouts_recording_2023-06-27_10-42-58.raw)\n",
      "current time : 0us done : False\n",
      "current event index : 0\n",
      "_begin_buffer 0,_end_buffer_ 0,  buffer_size 10000000\n"
     ]
    }
   ],
   "source": [
    "record_raw = RawReader(path)\n",
    "print(record_raw)"
   ]
  },
  {
   "cell_type": "code",
   "execution_count": 8,
   "id": "56aa4197",
   "metadata": {
    "scrolled": true
   },
   "outputs": [
    {
     "name": "stdout",
     "output_type": "stream",
     "text": [
      "[(834, 596, 1,     8214) (925,   4, 0,     9194) (767, 127, 0,     9410)\n",
      " ... (829, 542, 0, 15191063) (771, 162, 0, 15191064)\n",
      " (810, 484, 0, 15191067)]\n"
     ]
    }
   ],
   "source": [
    "events = record_raw.load_n_events(1000000)\n",
    "print(events)"
   ]
  },
  {
   "cell_type": "code",
   "execution_count": 9,
   "id": "d7e6b4e3",
   "metadata": {
    "scrolled": true
   },
   "outputs": [
    {
     "data": {
      "text/plain": [
       "15191067"
      ]
     },
     "execution_count": 9,
     "metadata": {},
     "output_type": "execute_result"
    }
   ],
   "source": [
    "events['t'].max()"
   ]
  },
  {
   "cell_type": "code",
   "execution_count": 10,
   "id": "8c8f8788",
   "metadata": {},
   "outputs": [
    {
     "data": {
      "text/plain": [
       "15.191066999999999"
      ]
     },
     "execution_count": 10,
     "metadata": {},
     "output_type": "execute_result"
    }
   ],
   "source": [
    "events['t'].max()/1000/1000"
   ]
  },
  {
   "cell_type": "code",
   "execution_count": 11,
   "id": "29a86273",
   "metadata": {},
   "outputs": [],
   "source": [
    "def calculate_bins(events, dt=1000):\n",
    "    # calculate events for timestep dt in us\n",
    "    min_timepoint = events['t'].min()\n",
    "    max_timepoint = events['t'].max()\n",
    "    interval_us = max_timepoint-min_timepoint\n",
    "    timepoints = int(interval_us / (dt))\n",
    "    bins = np.linspace(min_timepoint, max_timepoint, timepoints)\n",
    "    return bins\n",
    "\n",
    "def calculate_bin_number(events, dt=1000):\n",
    "    # calculate events for timestep dt in us\n",
    "    min_timepoint = events['t'].min()\n",
    "    max_timepoint = events['t'].max()\n",
    "    timepoints = int(np.floor((max_timepoint-min_timepoint) / (dt)))\n",
    "    return timepoints"
   ]
  },
  {
   "cell_type": "code",
   "execution_count": 12,
   "id": "3a13fde9",
   "metadata": {},
   "outputs": [],
   "source": [
    "@nb.njit\n",
    "def inside_circle(x, y, x_center, y_center, r):\n",
    "    return np.power(x-x_center,2)+np.power(y-y_center,2) <= np.power(r,2)\n",
    "\n",
    "def is_on_event(event):\n",
    "    return event[2]==1\n",
    "\n",
    "@nb.njit\n",
    "def filter_array(arr, condition):\n",
    "    result = np.empty_like(arr)\n",
    "    j = 0\n",
    "    for i in range(arr.size):\n",
    "        if condition(arr[i]):\n",
    "            result[j] = arr[i]\n",
    "            j += 1\n",
    "    return result[:j].copy()"
   ]
  },
  {
   "cell_type": "code",
   "execution_count": 13,
   "id": "9ee0b683",
   "metadata": {},
   "outputs": [],
   "source": [
    "@nb.njit\n",
    "def events_inside_circular_roi(events, x_center, y_center, radius):\n",
    "    result = np.empty_like(events)\n",
    "    j = 0\n",
    "    for i in range(events.size):\n",
    "        if inside_circle(events[i]['x'],events[i]['y'],x_center,y_center, radius):\n",
    "            result[j] = events[i]\n",
    "            j += 1\n",
    "    return result[:j].copy()"
   ]
  },
  {
   "cell_type": "code",
   "execution_count": 14,
   "id": "29737ddc",
   "metadata": {},
   "outputs": [],
   "source": [
    "@nb.njit\n",
    "def split_events(events):\n",
    "    on_events = np.empty_like(events)\n",
    "    off_events = np.empty_like(events)\n",
    "    on_counter = 0\n",
    "    off_counter = 0\n",
    "    \n",
    "    for i in range(events.size):\n",
    "        if events[i][2]==1:\n",
    "            on_events[on_counter] = events[i]\n",
    "            on_counter += 1\n",
    "        else: \n",
    "            off_events[off_counter] = events[i]\n",
    "            off_counter += 1\n",
    "   \n",
    "    return on_events[:on_counter].copy(),off_events[:off_counter].copy()"
   ]
  },
  {
   "cell_type": "code",
   "execution_count": 15,
   "id": "6fdb3300",
   "metadata": {},
   "outputs": [],
   "source": [
    "def viz_events(events, height, width):\n",
    "    img = np.full((height, width, 3), 128, dtype=np.uint8)\n",
    "    img[events['y'], events['x']] = 255 * events['p'][:, None]\n",
    "    return img"
   ]
  },
  {
   "cell_type": "code",
   "execution_count": 16,
   "id": "8ee30ad4",
   "metadata": {},
   "outputs": [],
   "source": [
    "inside_events = events_inside_circular_roi(events, 560, 375, 400)\n",
    "on_events, off_events = split_events(inside_events)"
   ]
  },
  {
   "cell_type": "code",
   "execution_count": 17,
   "id": "b38059fa",
   "metadata": {
    "scrolled": true
   },
   "outputs": [
    {
     "data": {
      "text/plain": [
       "225214"
      ]
     },
     "execution_count": 17,
     "metadata": {},
     "output_type": "execute_result"
    }
   ],
   "source": [
    "len(inside_events)"
   ]
  },
  {
   "cell_type": "code",
   "execution_count": 18,
   "id": "081f4965",
   "metadata": {},
   "outputs": [],
   "source": [
    "bins = calculate_bin_number(events, dt=1000)"
   ]
  },
  {
   "cell_type": "code",
   "execution_count": 19,
   "id": "cf4d7a72",
   "metadata": {},
   "outputs": [
    {
     "data": {
      "text/plain": [
       "15182"
      ]
     },
     "execution_count": 19,
     "metadata": {},
     "output_type": "execute_result"
    }
   ],
   "source": [
    "bins"
   ]
  },
  {
   "cell_type": "code",
   "execution_count": 20,
   "id": "e68b853b",
   "metadata": {
    "scrolled": false
   },
   "outputs": [
    {
     "data": {
      "image/png": "[encoded data removed]",
      "text/plain": [
       "<Figure size 640x480 with 1 Axes>"
      ]
     },
     "metadata": {},
     "output_type": "display_data"
    }
   ],
   "source": [
    "height, width = record_raw.get_size()\n",
    "\n",
    "# load the next 50 ms worth of events\n",
    "# events = record_raw.load_delta_t(50000)\n",
    "im = viz_events(inside_events, height, width)\n",
    "\n",
    "plt.imshow(im)\n",
    "plt.tight_layout()"
   ]
  },
  {
   "cell_type": "markdown",
   "id": "4cc706ad",
   "metadata": {},
   "source": [
    "Note: The on/off edges are slightly different as the event timestamps are slightly different \n",
    "* might be solvable by shifting the first and the last events in time?\n",
    "* or hardcoding the edges based on the original event data?"
   ]
  },
  {
   "cell_type": "code",
   "execution_count": 21,
   "id": "0095c214",
   "metadata": {},
   "outputs": [],
   "source": [
    "on_hist, on_edges = np.histogram(on_events['t'], density=False, bins=bins)\n",
    "off_hist, off_edges = np.histogram(off_events['t'], density=False, bins=bins)\n",
    "on_edges = on_edges[1:]\n",
    "off_edges = off_edges[1:]"
   ]
  },
  {
   "cell_type": "markdown",
   "id": "ff8bc7e8",
   "metadata": {},
   "source": [
    "### Numpy arrays have names for columns!"
   ]
  },
  {
   "cell_type": "code",
   "execution_count": null,
   "id": "1eef4b37",
   "metadata": {},
   "outputs": [],
   "source": [
    "events.dtype.names"
   ]
  },
  {
   "cell_type": "markdown",
   "id": "61465ae2",
   "metadata": {},
   "source": [
    "### Pyqtgraph Helper Tool"
   ]
  },
  {
   "cell_type": "code",
   "execution_count": 22,
   "id": "a5404916",
   "metadata": {},
   "outputs": [],
   "source": [
    "%gui qt5\n",
    "from PyQt5.Qt import QApplication\n",
    "import qdarkstyle\n",
    "import pyqtgraph as pg"
   ]
  },
  {
   "cell_type": "code",
   "execution_count": 23,
   "id": "7369e8fc",
   "metadata": {},
   "outputs": [],
   "source": [
    "# start qt event loop\n",
    "_instance = QApplication.instance()\n",
    "if not _instance:\n",
    "    _instance = QApplication([])\n",
    "app = _instance"
   ]
  },
  {
   "cell_type": "code",
   "execution_count": 32,
   "id": "c863a417",
   "metadata": {},
   "outputs": [],
   "source": [
    "class EventExplorer():\n",
    "    def __init__(self):\n",
    "        self.graphicsView = pg.GraphicsView()\n",
    "        self.graphicsView.setWindowTitle('Event Explorer')\n",
    "        self.layout = pg.GraphicsLayout()\n",
    "        self.graphicsView.setCentralItem(self.layout)\n",
    "        self.graphicsView.show()\n",
    "        \n",
    "        self.XY_plot = self.layout.addPlot(row=0, col=0, rowspan=2, colspan=1)\n",
    "        self.ET_plot = self.layout.addPlot(row=2, col=0, rowspan=1, colspan=2)\n",
    "        self.ET_region_selection_plot = self.layout.addPlot(row=3, col=0, rowspan=1, colspan=2)\n",
    "        self.YT_plot = self.layout.addPlot(row=0, col=3)\n",
    "        self.XY_plot.setAspectLocked(True, ratio=1.77)\n",
    "        self.XY_plot.invertY(True)\n",
    "        self.YT_plot.invertY(True)\n",
    "        self.YT_plot.enableAutoRange()\n",
    "        \n",
    "        self.ET_plot.plot(x = on_edges, y = on_hist, pen=\"b\")\n",
    "        self.ET_plot.plot(x = on_edges, y = on_hist+off_hist, pen=\"r\")\n",
    "        self.ET_region_selection_plot.plot(x = on_edges, y = on_hist+off_hist, pen=\"r\")\n",
    "        \n",
    "        len_data = len(on_hist)\n",
    "        left_start_range = on_edges[int(len_data/3)]\n",
    "        right_start_range = on_edges[int(2*len_data/3)] \n",
    "        \n",
    "        self.ET_region = pg.LinearRegionItem(values=[left_start_range,right_start_range])\n",
    "        self.ET_region.setZValue(10) # Move item up\n",
    "        self.ET_region_selection_plot.addItem(self.ET_region, ignoreBounds = True)\n",
    "        self.ET_plot.setAutoVisible(y=True)\n",
    "        \n",
    "        self.s4 = pg.ScatterPlotItem(\n",
    "            size=3,\n",
    "            pen=pg.mkPen(None),\n",
    "            brush=pg.mkBrush(255, 255, 255, 20))\n",
    "\n",
    "        self.s4.addPoints(x=on_events['x'],\n",
    "            y=on_events['y'],\n",
    "                # size=(np.random.random(n) * 20.).astype(int),\n",
    "            #brush=[pg.mkBrush(x) for x in np.random.randint(0, 256, (len(on_events), 3))],\n",
    "                #data=np.arange(n)\n",
    "                )\n",
    "\n",
    "        self.XY_plot.addItem(self.s4)\n",
    "        \n",
    "        self.s5 = pg.ScatterPlotItem(\n",
    "            size=3,\n",
    "            pen=pg.mkPen(None),\n",
    "            brush=pg.mkBrush(255, 255, 255, 20))\n",
    "        \n",
    "        self.YT_plot.addItem(self.s5)\n",
    "        \n",
    "        #ET_plot.sigRangeChanged.connect(updateRegion) \n",
    "        self.ET_region.sigRegionChanged.connect(self.update)\n",
    "        \n",
    "    def updateRegion(self, window, viewRange):\n",
    "        rgn = viewRange[0]\n",
    "        self.ET_region_selection_plot.setRegion(rgn)\n",
    "\n",
    "    def event_time_slice(self, events, t_start, t_stop):\n",
    "        start_index = int(np.sum(on_hist[0:int(np.floor((t_start-on_edges[0])/dt))]))\n",
    "        stop_index = int(np.sum(on_hist[0:int(np.ceil((t_stop-on_edges[0])/dt))]))\n",
    "        return events[start_index:stop_index]\n",
    "\n",
    "    def update_XY_plot(self, events_subset):\n",
    "        self.s4.clear()\n",
    "        self.s4.addPoints(x=events_subset['x'],\n",
    "                y=-events_subset['y']+720,\n",
    "                     )\n",
    "\n",
    "    def update_YT_plot(self, events_subset):\n",
    "        self.s5.clear()\n",
    "        self.s5.addPoints(x=events_subset['t'],\n",
    "                y=-events_subset['y']+720,\n",
    "                     )\n",
    "\n",
    "    def update(self):\n",
    "        self.ET_region.setZValue(10)\n",
    "        minX, maxX = self.ET_region.getRegion()\n",
    "        self.ET_plot.setXRange(minX, maxX, padding=0)\n",
    "        events_subset = self.event_time_slice(on_events, minX, maxX)\n",
    "        self.update_XY_plot(events_subset)\n",
    "        self.update_YT_plot(events_subset)"
   ]
  },
  {
   "cell_type": "code",
   "execution_count": 33,
   "id": "ffd8cab4",
   "metadata": {},
   "outputs": [],
   "source": [
    "myexplorer2 = EventExplorer()"
   ]
  },
  {
   "cell_type": "code",
   "execution_count": null,
   "id": "8bba688c",
   "metadata": {
    "scrolled": true
   },
   "outputs": [],
   "source": [
    "%gui qt5\n",
    "from PyQt5.Qt import QApplication\n",
    "import qdarkstyle\n",
    "import pyqtgraph as pg\n",
    "\n",
    "dt=1000 # bin interval in us!\n",
    "\n",
    "# start qt event loop\n",
    "_instance = QApplication.instance()\n",
    "if not _instance:\n",
    "    _instance = QApplication([])\n",
    "app = _instance\n",
    "\n",
    "\n",
    "\n",
    "def updateRegion(window, viewRange):\n",
    "    rgn = viewRange[0]\n",
    "    ET_region_selection_plot.setRegion(rgn)\n",
    "    \n",
    "def event_time_slice(events, t_start, t_stop):\n",
    "    start_index = int(np.sum(on_hist[0:int(np.floor((t_start-on_edges[0])/dt))]))\n",
    "    stop_index = int(np.sum(on_hist[0:int(np.ceil((t_stop-on_edges[0])/dt))]))\n",
    "    return events[start_index:stop_index]\n",
    "    \n",
    "def update_XY_plot(events_subset):\n",
    "    s4.clear()\n",
    "    s4.addPoints(x=events_subset['x'],\n",
    "            y=-events_subset['y']+720,\n",
    "                 )\n",
    "    \n",
    "def update_YT_plot(events_subset):\n",
    "    s5.clear()\n",
    "    s5.addPoints(x=events_subset['t'],\n",
    "            y=-events_subset['y']+720,\n",
    "                 )\n",
    "    \n",
    "def update():\n",
    "    ET_region.setZValue(10)\n",
    "    minX, maxX = ET_region.getRegion()\n",
    "    ET_plot.setXRange(minX, maxX, padding=0)\n",
    "    events_subset = self.event_time_slice(on_events, minX, maxX)\n",
    "    update_XY_plot(events_subset)\n",
    "    update_YT_plot(events_subset)\n",
    "    \n",
    "#ET_plot.sigRangeChanged.connect(updateRegion) \n",
    "ET_region.sigRegionChanged.connect(update)\n",
    "\n"
   ]
  },
  {
   "cell_type": "code",
   "execution_count": null,
   "id": "098175aa",
   "metadata": {},
   "outputs": [],
   "source": [
    "on['events']"
   ]
  },
  {
   "cell_type": "code",
   "execution_count": null,
   "id": "b1f12964",
   "metadata": {},
   "outputs": [],
   "source": [
    "np.cumsum(on_hist[0:int(np.floor((t_start-on_edges[0])/dt))])"
   ]
  },
  {
   "cell_type": "code",
   "execution_count": null,
   "id": "582982b2",
   "metadata": {},
   "outputs": [],
   "source": [
    "np.max(on_events['y'])"
   ]
  },
  {
   "cell_type": "code",
   "execution_count": null,
   "id": "15c1b5c9",
   "metadata": {},
   "outputs": [],
   "source": [
    "len(on_events)"
   ]
  },
  {
   "cell_type": "code",
   "execution_count": null,
   "id": "2b7de539",
   "metadata": {},
   "outputs": [],
   "source": [
    "on_events['t'][-1]"
   ]
  },
  {
   "cell_type": "code",
   "execution_count": null,
   "id": "f75bc61d",
   "metadata": {},
   "outputs": [],
   "source": [
    "np.max(np.cumsum(on_hist))"
   ]
  },
  {
   "cell_type": "code",
   "execution_count": null,
   "id": "b73699e9",
   "metadata": {},
   "outputs": [],
   "source": [
    "np.arange(0,len(on_edges))"
   ]
  },
  {
   "cell_type": "code",
   "execution_count": null,
   "id": "11e2c7ac",
   "metadata": {},
   "outputs": [],
   "source": []
  },
  {
   "cell_type": "code",
   "execution_count": null,
   "id": "7b4d5e62",
   "metadata": {},
   "outputs": [],
   "source": [
    "np.cumsum(on_hist[0])"
   ]
  },
  {
   "cell_type": "code",
   "execution_count": null,
   "id": "3069cfc5",
   "metadata": {},
   "outputs": [],
   "source": [
    "plt.plot(np.arange(0,len(on_edges)), np.cumsum(on_hist))"
   ]
  },
  {
   "cell_type": "code",
   "execution_count": null,
   "id": "58a748b3",
   "metadata": {},
   "outputs": [],
   "source": [
    "def "
   ]
  },
  {
   "cell_type": "code",
   "execution_count": null,
   "id": "9fd3d742",
   "metadata": {},
   "outputs": [],
   "source": [
    "8062910.12239982<on_events['t']<8390959.26645485"
   ]
  },
  {
   "cell_type": "code",
   "execution_count": null,
   "id": "ec7a0bd7",
   "metadata": {},
   "outputs": [],
   "source": [
    "N = 100\n",
    "Z = np.random.normal(size = N)\n",
    "# method 1\n",
    "H,X1 = np.histogram( Z, bins = 10, normed = True )\n",
    "dx = X1[1] - X1[0]\n",
    "F1 = np.cumsum(H)*dx\n",
    "#method 2\n",
    "X2 = np.sort(Z)\n",
    "F2 = np.array(range(N))/float(N)\n",
    "\n",
    "plt.plot(X1[1:], F1)\n",
    "plt.plot(X2, F2)\n",
    "plt.show()"
   ]
  }
 ],
 "metadata": {
  "kernelspec": {
   "display_name": "Python 3 (ipykernel)",
   "language": "python",
   "name": "python3"
  },
  "language_info": {
   "codemirror_mode": {
    "name": "ipython",
    "version": 3
   },
   "file_extension": ".py",
   "mimetype": "text/x-python",
   "name": "python",
   "nbconvert_exporter": "python",
   "pygments_lexer": "ipython3",
   "version": "3.9.16"
  }
 },
 "nbformat": 4,
 "nbformat_minor": 5
}
