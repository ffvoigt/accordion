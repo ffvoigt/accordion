{
 "cells": [
  {
   "cell_type": "code",
   "execution_count": 1,
   "id": "b3dcd0cc",
   "metadata": {},
   "outputs": [],
   "source": [
    "%matplotlib inline\n",
    "%load_ext autoreload\n",
    "%autoreload 2"
   ]
  },
  {
   "cell_type": "code",
   "execution_count": 2,
   "id": "bc0889e8",
   "metadata": {
    "scrolled": true
   },
   "outputs": [],
   "source": [
    "import sys\n",
    "import os\n",
    "import numpy as np\n",
    "import napari\n",
    "from matplotlib import pyplot as plt  # graphic library, for plots\n",
    "import numba as nb\n",
    "\n",
    "from bokeh.plotting import figure, show\n",
    "from bokeh.io import output_notebook\n",
    "from bokeh.layouts import column\n",
    "from bokeh.models import ColumnDataSource, RangeTool\n",
    "from bokeh.plotting import figure, show\n",
    "from bokeh.sampledata.stocks import AAPL"
   ]
  },
  {
   "cell_type": "code",
   "execution_count": 3,
   "id": "29002ec3",
   "metadata": {
    "scrolled": true
   },
   "outputs": [
    {
     "data": {
      "text/html": [
       "<style>\n",
       "        .bk-notebook-logo {\n",
       "            display: block;\n",
       "            width: 20px;\n",
       "            height: 20px;\n",
       "            background-image: url(data:image/png;base64,iVBORw0KGgoAAAANSUhEUgAAABQAAAAUCAYAAACNiR0NAAAABHNCSVQICAgIfAhkiAAAAAlwSFlzAAALEgAACxIB0t1+/AAAABx0RVh0U29mdHdhcmUAQWRvYmUgRmlyZXdvcmtzIENTNui8sowAAAOkSURBVDiNjZRtaJVlGMd/1/08zzln5zjP1LWcU9N0NkN8m2CYjpgQYQXqSs0I84OLIC0hkEKoPtiH3gmKoiJDU7QpLgoLjLIQCpEsNJ1vqUOdO7ppbuec5+V+rj4ctwzd8IIbbi6u+8f1539dt3A78eXC7QizUF7gyV1fD1Yqg4JWz84yffhm0qkFqBogB9rM8tZdtwVsPUhWhGcFJngGeWrPzHm5oaMmkfEg1usvLFyc8jLRqDOMru7AyC8saQr7GG7f5fvDeH7Ej8CM66nIF+8yngt6HWaKh7k49Soy9nXurCi1o3qUbS3zWfrYeQDTB/Qj6kX6Ybhw4B+bOYoLKCC9H3Nu/leUTZ1JdRWkkn2ldcCamzrcf47KKXdAJllSlxAOkRgyHsGC/zRday5Qld9DyoM4/q/rUoy/CXh3jzOu3bHUVZeU+DEn8FInkPBFlu3+nW3Nw0mk6vCDiWg8CeJaxEwuHS3+z5RgY+YBR6V1Z1nxSOfoaPa4LASWxxdNp+VWTk7+4vzaou8v8PN+xo+KY2xsw6une2frhw05CTYOmQvsEhjhWjn0bmXPjpE1+kplmmkP3suftwTubK9Vq22qKmrBhpY4jvd5afdRA3wGjFAgcnTK2s4hY0/GPNIb0nErGMCRxWOOX64Z8RAC4oCXdklmEvcL8o0BfkNK4lUg9HTl+oPlQxdNo3Mg4Nv175e/1LDGzZen30MEjRUtmXSfiTVu1kK8W4txyV6BMKlbgk3lMwYCiusNy9fVfvvwMxv8Ynl6vxoByANLTWplvuj/nF9m2+PDtt1eiHPBr1oIfhCChQMBw6Aw0UulqTKZdfVvfG7VcfIqLG9bcldL/+pdWTLxLUy8Qq38heUIjh4XlzZxzQm19lLFlr8vdQ97rjZVOLf8nclzckbcD4wxXMidpX30sFd37Fv/GtwwhzhxGVAprjbg0gCAEeIgwCZyTV2Z1REEW8O4py0wsjeloKoMr6iCY6dP92H6Vw/oTyICIthibxjm/DfN9lVz8IqtqKYLUXfoKVMVQVVJOElGjrnnUt9T9wbgp8AyYKaGlqingHZU/uG2NTZSVqwHQTWkx9hxjkpWDaCg6Ckj5qebgBVbT3V3NNXMSiWSDdGV3hrtzla7J+duwPOToIg42ChPQOQjspnSlp1V+Gjdged7+8UN5CRAV7a5EdFNwCjEaBR27b3W890TE7g24NAP/mMDXRWrGoFPQI9ls/MWO2dWFAar/xcOIImbbpA3zgAAAABJRU5ErkJggg==);\n",
       "        }\n",
       "    </style>\n",
       "    <div>\n",
       "        <a href=\"https://bokeh.org\" target=\"_blank\" class=\"bk-notebook-logo\"></a>\n",
       "        <span id=\"c5a12227-c602-4cc7-88e6-996989a3b96e\">Loading BokehJS ...</span>\n",
       "    </div>\n"
      ]
     },
     "metadata": {},
     "output_type": "display_data"
    },
    {
     "data": {
      "application/javascript": [
       "(function(root) {\n",
       "  function now() {\n",
       "    return new Date();\n",
       "  }\n",
       "\n",
       "  const force = true;\n",
       "\n",
       "  if (typeof root._bokeh_onload_callbacks === \"undefined\" || force === true) {\n",
       "    root._bokeh_onload_callbacks = [];\n",
       "    root._bokeh_is_loading = undefined;\n",
       "  }\n",
       "\n",
       "const JS_MIME_TYPE = 'application/javascript';\n",
       "  const HTML_MIME_TYPE = 'text/html';\n",
       "  const EXEC_MIME_TYPE = 'application/vnd.bokehjs_exec.v0+json';\n",
       "  const CLASS_NAME = 'output_bokeh rendered_html';\n",
       "\n",
       "  /**\n",
       "   * Render data to the DOM node\n",
       "   */\n",
       "  function render(props, node) {\n",
       "    const script = document.createElement(\"script\");\n",
       "    node.appendChild(script);\n",
       "  }\n",
       "\n",
       "  /**\n",
       "   * Handle when an output is cleared or removed\n",
       "   */\n",
       "  function handleClearOutput(event, handle) {\n",
       "    const cell = handle.cell;\n",
       "\n",
       "    const id = cell.output_area._bokeh_element_id;\n",
       "    const server_id = cell.output_area._bokeh_server_id;\n",
       "    // Clean up Bokeh references\n",
       "    if (id != null && id in Bokeh.index) {\n",
       "      Bokeh.index[id].model.document.clear();\n",
       "      delete Bokeh.index[id];\n",
       "    }\n",
       "\n",
       "    if (server_id !== undefined) {\n",
       "      // Clean up Bokeh references\n",
       "      const cmd_clean = \"from bokeh.io.state import curstate; print(curstate().uuid_to_server['\" + server_id + \"'].get_sessions()[0].document.roots[0]._id)\";\n",
       "      cell.notebook.kernel.execute(cmd_clean, {\n",
       "        iopub: {\n",
       "          output: function(msg) {\n",
       "            const id = msg.content.text.trim();\n",
       "            if (id in Bokeh.index) {\n",
       "              Bokeh.index[id].model.document.clear();\n",
       "              delete Bokeh.index[id];\n",
       "            }\n",
       "          }\n",
       "        }\n",
       "      });\n",
       "      // Destroy server and session\n",
       "      const cmd_destroy = \"import bokeh.io.notebook as ion; ion.destroy_server('\" + server_id + \"')\";\n",
       "      cell.notebook.kernel.execute(cmd_destroy);\n",
       "    }\n",
       "  }\n",
       "\n",
       "  /**\n",
       "   * Handle when a new output is added\n",
       "   */\n",
       "  function handleAddOutput(event, handle) {\n",
       "    const output_area = handle.output_area;\n",
       "    const output = handle.output;\n",
       "\n",
       "    // limit handleAddOutput to display_data with EXEC_MIME_TYPE content only\n",
       "    if ((output.output_type != \"display_data\") || (!Object.prototype.hasOwnProperty.call(output.data, EXEC_MIME_TYPE))) {\n",
       "      return\n",
       "    }\n",
       "\n",
       "    const toinsert = output_area.element.find(\".\" + CLASS_NAME.split(' ')[0]);\n",
       "\n",
       "    if (output.metadata[EXEC_MIME_TYPE][\"id\"] !== undefined) {\n",
       "      toinsert[toinsert.length - 1].firstChild.textContent = output.data[JS_MIME_TYPE];\n",
       "      // store reference to embed id on output_area\n",
       "      output_area._bokeh_element_id = output.metadata[EXEC_MIME_TYPE][\"id\"];\n",
       "    }\n",
       "    if (output.metadata[EXEC_MIME_TYPE][\"server_id\"] !== undefined) {\n",
       "      const bk_div = document.createElement(\"div\");\n",
       "      bk_div.innerHTML = output.data[HTML_MIME_TYPE];\n",
       "      const script_attrs = bk_div.children[0].attributes;\n",
       "      for (let i = 0; i < script_attrs.length; i++) {\n",
       "        toinsert[toinsert.length - 1].firstChild.setAttribute(script_attrs[i].name, script_attrs[i].value);\n",
       "        toinsert[toinsert.length - 1].firstChild.textContent = bk_div.children[0].textContent\n",
       "      }\n",
       "      // store reference to server id on output_area\n",
       "      output_area._bokeh_server_id = output.metadata[EXEC_MIME_TYPE][\"server_id\"];\n",
       "    }\n",
       "  }\n",
       "\n",
       "  function register_renderer(events, OutputArea) {\n",
       "\n",
       "    function append_mime(data, metadata, element) {\n",
       "      // create a DOM node to render to\n",
       "      const toinsert = this.create_output_subarea(\n",
       "        metadata,\n",
       "        CLASS_NAME,\n",
       "        EXEC_MIME_TYPE\n",
       "      );\n",
       "      this.keyboard_manager.register_events(toinsert);\n",
       "      // Render to node\n",
       "      const props = {data: data, metadata: metadata[EXEC_MIME_TYPE]};\n",
       "      render(props, toinsert[toinsert.length - 1]);\n",
       "      element.append(toinsert);\n",
       "      return toinsert\n",
       "    }\n",
       "\n",
       "    /* Handle when an output is cleared or removed */\n",
       "    events.on('clear_output.CodeCell', handleClearOutput);\n",
       "    events.on('delete.Cell', handleClearOutput);\n",
       "\n",
       "    /* Handle when a new output is added */\n",
       "    events.on('output_added.OutputArea', handleAddOutput);\n",
       "\n",
       "    /**\n",
       "     * Register the mime type and append_mime function with output_area\n",
       "     */\n",
       "    OutputArea.prototype.register_mime_type(EXEC_MIME_TYPE, append_mime, {\n",
       "      /* Is output safe? */\n",
       "      safe: true,\n",
       "      /* Index of renderer in `output_area.display_order` */\n",
       "      index: 0\n",
       "    });\n",
       "  }\n",
       "\n",
       "  // register the mime type if in Jupyter Notebook environment and previously unregistered\n",
       "  if (root.Jupyter !== undefined) {\n",
       "    const events = require('base/js/events');\n",
       "    const OutputArea = require('notebook/js/outputarea').OutputArea;\n",
       "\n",
       "    if (OutputArea.prototype.mime_types().indexOf(EXEC_MIME_TYPE) == -1) {\n",
       "      register_renderer(events, OutputArea);\n",
       "    }\n",
       "  }\n",
       "  if (typeof (root._bokeh_timeout) === \"undefined\" || force === true) {\n",
       "    root._bokeh_timeout = Date.now() + 5000;\n",
       "    root._bokeh_failed_load = false;\n",
       "  }\n",
       "\n",
       "  const NB_LOAD_WARNING = {'data': {'text/html':\n",
       "     \"<div style='background-color: #fdd'>\\n\"+\n",
       "     \"<p>\\n\"+\n",
       "     \"BokehJS does not appear to have successfully loaded. If loading BokehJS from CDN, this \\n\"+\n",
       "     \"may be due to a slow or bad network connection. Possible fixes:\\n\"+\n",
       "     \"</p>\\n\"+\n",
       "     \"<ul>\\n\"+\n",
       "     \"<li>re-rerun `output_notebook()` to attempt to load from CDN again, or</li>\\n\"+\n",
       "     \"<li>use INLINE resources instead, as so:</li>\\n\"+\n",
       "     \"</ul>\\n\"+\n",
       "     \"<code>\\n\"+\n",
       "     \"from bokeh.resources import INLINE\\n\"+\n",
       "     \"output_notebook(resources=INLINE)\\n\"+\n",
       "     \"</code>\\n\"+\n",
       "     \"</div>\"}};\n",
       "\n",
       "  function display_loaded() {\n",
       "    const el = document.getElementById(\"c5a12227-c602-4cc7-88e6-996989a3b96e\");\n",
       "    if (el != null) {\n",
       "      el.textContent = \"BokehJS is loading...\";\n",
       "    }\n",
       "    if (root.Bokeh !== undefined) {\n",
       "      if (el != null) {\n",
       "        el.textContent = \"BokehJS \" + root.Bokeh.version + \" successfully loaded.\";\n",
       "      }\n",
       "    } else if (Date.now() < root._bokeh_timeout) {\n",
       "      setTimeout(display_loaded, 100)\n",
       "    }\n",
       "  }\n",
       "\n",
       "  function run_callbacks() {\n",
       "    try {\n",
       "      root._bokeh_onload_callbacks.forEach(function(callback) {\n",
       "        if (callback != null)\n",
       "          callback();\n",
       "      });\n",
       "    } finally {\n",
       "      delete root._bokeh_onload_callbacks\n",
       "    }\n",
       "    console.debug(\"Bokeh: all callbacks have finished\");\n",
       "  }\n",
       "\n",
       "  function load_libs(css_urls, js_urls, callback) {\n",
       "    if (css_urls == null) css_urls = [];\n",
       "    if (js_urls == null) js_urls = [];\n",
       "\n",
       "    root._bokeh_onload_callbacks.push(callback);\n",
       "    if (root._bokeh_is_loading > 0) {\n",
       "      console.debug(\"Bokeh: BokehJS is being loaded, scheduling callback at\", now());\n",
       "      return null;\n",
       "    }\n",
       "    if (js_urls == null || js_urls.length === 0) {\n",
       "      run_callbacks();\n",
       "      return null;\n",
       "    }\n",
       "    console.debug(\"Bokeh: BokehJS not loaded, scheduling load and callback at\", now());\n",
       "    root._bokeh_is_loading = css_urls.length + js_urls.length;\n",
       "\n",
       "    function on_load() {\n",
       "      root._bokeh_is_loading--;\n",
       "      if (root._bokeh_is_loading === 0) {\n",
       "        console.debug(\"Bokeh: all BokehJS libraries/stylesheets loaded\");\n",
       "        run_callbacks()\n",
       "      }\n",
       "    }\n",
       "\n",
       "    function on_error(url) {\n",
       "      console.error(\"failed to load \" + url);\n",
       "    }\n",
       "\n",
       "    for (let i = 0; i < css_urls.length; i++) {\n",
       "      const url = css_urls[i];\n",
       "      const element = document.createElement(\"link\");\n",
       "      element.onload = on_load;\n",
       "      element.onerror = on_error.bind(null, url);\n",
       "      element.rel = \"stylesheet\";\n",
       "      element.type = \"text/css\";\n",
       "      element.href = url;\n",
       "      console.debug(\"Bokeh: injecting link tag for BokehJS stylesheet: \", url);\n",
       "      document.body.appendChild(element);\n",
       "    }\n",
       "\n",
       "    for (let i = 0; i < js_urls.length; i++) {\n",
       "      const url = js_urls[i];\n",
       "      const element = document.createElement('script');\n",
       "      element.onload = on_load;\n",
       "      element.onerror = on_error.bind(null, url);\n",
       "      element.async = false;\n",
       "      element.src = url;\n",
       "      console.debug(\"Bokeh: injecting script tag for BokehJS library: \", url);\n",
       "      document.head.appendChild(element);\n",
       "    }\n",
       "  };\n",
       "\n",
       "  function inject_raw_css(css) {\n",
       "    const element = document.createElement(\"style\");\n",
       "    element.appendChild(document.createTextNode(css));\n",
       "    document.body.appendChild(element);\n",
       "  }\n",
       "\n",
       "  const js_urls = [\"https://cdn.bokeh.org/bokeh/release/bokeh-3.2.0.min.js\", \"https://cdn.bokeh.org/bokeh/release/bokeh-gl-3.2.0.min.js\", \"https://cdn.bokeh.org/bokeh/release/bokeh-widgets-3.2.0.min.js\", \"https://cdn.bokeh.org/bokeh/release/bokeh-tables-3.2.0.min.js\", \"https://cdn.bokeh.org/bokeh/release/bokeh-mathjax-3.2.0.min.js\"];\n",
       "  const css_urls = [];\n",
       "\n",
       "  const inline_js = [    function(Bokeh) {\n",
       "      Bokeh.set_log_level(\"info\");\n",
       "    },\n",
       "function(Bokeh) {\n",
       "    }\n",
       "  ];\n",
       "\n",
       "  function run_inline_js() {\n",
       "    if (root.Bokeh !== undefined || force === true) {\n",
       "          for (let i = 0; i < inline_js.length; i++) {\n",
       "      inline_js[i].call(root, root.Bokeh);\n",
       "    }\n",
       "if (force === true) {\n",
       "        display_loaded();\n",
       "      }} else if (Date.now() < root._bokeh_timeout) {\n",
       "      setTimeout(run_inline_js, 100);\n",
       "    } else if (!root._bokeh_failed_load) {\n",
       "      console.log(\"Bokeh: BokehJS failed to load within specified timeout.\");\n",
       "      root._bokeh_failed_load = true;\n",
       "    } else if (force !== true) {\n",
       "      const cell = $(document.getElementById(\"c5a12227-c602-4cc7-88e6-996989a3b96e\")).parents('.cell').data().cell;\n",
       "      cell.output_area.append_execute_result(NB_LOAD_WARNING)\n",
       "    }\n",
       "  }\n",
       "\n",
       "  if (root._bokeh_is_loading === 0) {\n",
       "    console.debug(\"Bokeh: BokehJS loaded, going straight to plotting\");\n",
       "    run_inline_js();\n",
       "  } else {\n",
       "    load_libs(css_urls, js_urls, function() {\n",
       "      console.debug(\"Bokeh: BokehJS plotting callback run at\", now());\n",
       "      run_inline_js();\n",
       "    });\n",
       "  }\n",
       "}(window));"
      ],
      "application/vnd.bokehjs_load.v0+json": "(function(root) {\n  function now() {\n    return new Date();\n  }\n\n  const force = true;\n\n  if (typeof root._bokeh_onload_callbacks === \"undefined\" || force === true) {\n    root._bokeh_onload_callbacks = [];\n    root._bokeh_is_loading = undefined;\n  }\n\n\n  if (typeof (root._bokeh_timeout) === \"undefined\" || force === true) {\n    root._bokeh_timeout = Date.now() + 5000;\n    root._bokeh_failed_load = false;\n  }\n\n  const NB_LOAD_WARNING = {'data': {'text/html':\n     \"<div style='background-color: #fdd'>\\n\"+\n     \"<p>\\n\"+\n     \"BokehJS does not appear to have successfully loaded. If loading BokehJS from CDN, this \\n\"+\n     \"may be due to a slow or bad network connection. Possible fixes:\\n\"+\n     \"</p>\\n\"+\n     \"<ul>\\n\"+\n     \"<li>re-rerun `output_notebook()` to attempt to load from CDN again, or</li>\\n\"+\n     \"<li>use INLINE resources instead, as so:</li>\\n\"+\n     \"</ul>\\n\"+\n     \"<code>\\n\"+\n     \"from bokeh.resources import INLINE\\n\"+\n     \"output_notebook(resources=INLINE)\\n\"+\n     \"</code>\\n\"+\n     \"</div>\"}};\n\n  function display_loaded() {\n    const el = document.getElementById(\"c5a12227-c602-4cc7-88e6-996989a3b96e\");\n    if (el != null) {\n      el.textContent = \"BokehJS is loading...\";\n    }\n    if (root.Bokeh !== undefined) {\n      if (el != null) {\n        el.textContent = \"BokehJS \" + root.Bokeh.version + \" successfully loaded.\";\n      }\n    } else if (Date.now() < root._bokeh_timeout) {\n      setTimeout(display_loaded, 100)\n    }\n  }\n\n  function run_callbacks() {\n    try {\n      root._bokeh_onload_callbacks.forEach(function(callback) {\n        if (callback != null)\n          callback();\n      });\n    } finally {\n      delete root._bokeh_onload_callbacks\n    }\n    console.debug(\"Bokeh: all callbacks have finished\");\n  }\n\n  function load_libs(css_urls, js_urls, callback) {\n    if (css_urls == null) css_urls = [];\n    if (js_urls == null) js_urls = [];\n\n    root._bokeh_onload_callbacks.push(callback);\n    if (root._bokeh_is_loading > 0) {\n      console.debug(\"Bokeh: BokehJS is being loaded, scheduling callback at\", now());\n      return null;\n    }\n    if (js_urls == null || js_urls.length === 0) {\n      run_callbacks();\n      return null;\n    }\n    console.debug(\"Bokeh: BokehJS not loaded, scheduling load and callback at\", now());\n    root._bokeh_is_loading = css_urls.length + js_urls.length;\n\n    function on_load() {\n      root._bokeh_is_loading--;\n      if (root._bokeh_is_loading === 0) {\n        console.debug(\"Bokeh: all BokehJS libraries/stylesheets loaded\");\n        run_callbacks()\n      }\n    }\n\n    function on_error(url) {\n      console.error(\"failed to load \" + url);\n    }\n\n    for (let i = 0; i < css_urls.length; i++) {\n      const url = css_urls[i];\n      const element = document.createElement(\"link\");\n      element.onload = on_load;\n      element.onerror = on_error.bind(null, url);\n      element.rel = \"stylesheet\";\n      element.type = \"text/css\";\n      element.href = url;\n      console.debug(\"Bokeh: injecting link tag for BokehJS stylesheet: \", url);\n      document.body.appendChild(element);\n    }\n\n    for (let i = 0; i < js_urls.length; i++) {\n      const url = js_urls[i];\n      const element = document.createElement('script');\n      element.onload = on_load;\n      element.onerror = on_error.bind(null, url);\n      element.async = false;\n      element.src = url;\n      console.debug(\"Bokeh: injecting script tag for BokehJS library: \", url);\n      document.head.appendChild(element);\n    }\n  };\n\n  function inject_raw_css(css) {\n    const element = document.createElement(\"style\");\n    element.appendChild(document.createTextNode(css));\n    document.body.appendChild(element);\n  }\n\n  const js_urls = [\"https://cdn.bokeh.org/bokeh/release/bokeh-3.2.0.min.js\", \"https://cdn.bokeh.org/bokeh/release/bokeh-gl-3.2.0.min.js\", \"https://cdn.bokeh.org/bokeh/release/bokeh-widgets-3.2.0.min.js\", \"https://cdn.bokeh.org/bokeh/release/bokeh-tables-3.2.0.min.js\", \"https://cdn.bokeh.org/bokeh/release/bokeh-mathjax-3.2.0.min.js\"];\n  const css_urls = [];\n\n  const inline_js = [    function(Bokeh) {\n      Bokeh.set_log_level(\"info\");\n    },\nfunction(Bokeh) {\n    }\n  ];\n\n  function run_inline_js() {\n    if (root.Bokeh !== undefined || force === true) {\n          for (let i = 0; i < inline_js.length; i++) {\n      inline_js[i].call(root, root.Bokeh);\n    }\nif (force === true) {\n        display_loaded();\n      }} else if (Date.now() < root._bokeh_timeout) {\n      setTimeout(run_inline_js, 100);\n    } else if (!root._bokeh_failed_load) {\n      console.log(\"Bokeh: BokehJS failed to load within specified timeout.\");\n      root._bokeh_failed_load = true;\n    } else if (force !== true) {\n      const cell = $(document.getElementById(\"c5a12227-c602-4cc7-88e6-996989a3b96e\")).parents('.cell').data().cell;\n      cell.output_area.append_execute_result(NB_LOAD_WARNING)\n    }\n  }\n\n  if (root._bokeh_is_loading === 0) {\n    console.debug(\"Bokeh: BokehJS loaded, going straight to plotting\");\n    run_inline_js();\n  } else {\n    load_libs(css_urls, js_urls, function() {\n      console.debug(\"Bokeh: BokehJS plotting callback run at\", now());\n      run_inline_js();\n    });\n  }\n}(window));"
     },
     "metadata": {},
     "output_type": "display_data"
    }
   ],
   "source": [
    "output_notebook()"
   ]
  },
  {
   "cell_type": "code",
   "execution_count": 4,
   "id": "c990096f",
   "metadata": {},
   "outputs": [],
   "source": [
    "import filedialogs"
   ]
  },
  {
   "cell_type": "code",
   "execution_count": 5,
   "id": "c653f4b8",
   "metadata": {},
   "outputs": [],
   "source": [
    "from metavision_core.event_io.raw_reader import RawReader\n",
    "from metavision_core.event_io.py_reader import EventDatReader\n",
    "from metavision_core.event_io import EventsIterator"
   ]
  },
  {
   "cell_type": "code",
   "execution_count": 6,
   "id": "f4236cd8",
   "metadata": {},
   "outputs": [],
   "source": [
    "dt=1000"
   ]
  },
  {
   "cell_type": "code",
   "execution_count": 7,
   "id": "0201a266",
   "metadata": {},
   "outputs": [],
   "source": [
    "path = filedialogs.gui_fname('example_data/')\n",
    "path = path.decode('ascii')"
   ]
  },
  {
   "cell_type": "code",
   "execution_count": 8,
   "id": "f75acc6b",
   "metadata": {},
   "outputs": [
    {
     "name": "stdout",
     "output_type": "stream",
     "text": [
      "RawReader(E:/code/github-ffvoigt/accordion/playground/example_data/fish_bouts_recording_2023-06-27_10-42-58.raw)\n",
      "current time : 0us done : False\n",
      "current event index : 0\n",
      "_begin_buffer 0,_end_buffer_ 0,  buffer_size 10000000\n"
     ]
    }
   ],
   "source": [
    "record_raw = RawReader(path)\n",
    "print(record_raw)"
   ]
  },
  {
   "cell_type": "code",
   "execution_count": 9,
   "id": "56aa4197",
   "metadata": {
    "scrolled": false
   },
   "outputs": [
    {
     "name": "stdout",
     "output_type": "stream",
     "text": [
      "[(834, 596, 1,     8214) (925,   4, 0,     9194) (767, 127, 0,     9410)\n",
      " ... (829, 542, 0, 15191063) (771, 162, 0, 15191064)\n",
      " (810, 484, 0, 15191067)]\n"
     ]
    }
   ],
   "source": [
    "events = record_raw.load_n_events(1000000)\n",
    "print(events)"
   ]
  },
  {
   "cell_type": "code",
   "execution_count": 10,
   "id": "d7e6b4e3",
   "metadata": {
    "scrolled": true
   },
   "outputs": [
    {
     "data": {
      "text/plain": [
       "15191067"
      ]
     },
     "execution_count": 10,
     "metadata": {},
     "output_type": "execute_result"
    }
   ],
   "source": [
    "events['t'].max()"
   ]
  },
  {
   "cell_type": "code",
   "execution_count": 11,
   "id": "8c8f8788",
   "metadata": {},
   "outputs": [
    {
     "data": {
      "text/plain": [
       "15.191066999999999"
      ]
     },
     "execution_count": 11,
     "metadata": {},
     "output_type": "execute_result"
    }
   ],
   "source": [
    "events['t'].max()/1000/1000"
   ]
  },
  {
   "cell_type": "code",
   "execution_count": 12,
   "id": "29a86273",
   "metadata": {},
   "outputs": [],
   "source": [
    "def calculate_bins(events, dt=1000):\n",
    "    # calculate events for timestep dt in us\n",
    "    min_timepoint = events['t'].min()\n",
    "    max_timepoint = events['t'].max()\n",
    "    interval_us = max_timepoint-min_timepoint\n",
    "    timepoints = int(interval_us / (dt))\n",
    "    bins = np.linspace(min_timepoint, max_timepoint, timepoints)\n",
    "    return bins\n",
    "\n",
    "def calculate_bin_number(events, dt=1000):\n",
    "    # calculate events for timestep dt in us\n",
    "    min_timepoint = events['t'].min()\n",
    "    max_timepoint = events['t'].max()\n",
    "    timepoints = int(np.floor((max_timepoint-min_timepoint) / (dt)))\n",
    "    return timepoints\n",
    "\n",
    "@nb.njit\n",
    "def inside_circle(x, y, x_center, y_center, r):\n",
    "    return np.power(x-x_center,2)+np.power(y-y_center,2) <= np.power(r,2)\n",
    "\n",
    "def is_on_event(event):\n",
    "    return event[2]==1\n",
    "\n",
    "@nb.njit\n",
    "def filter_array(arr, condition):\n",
    "    result = np.empty_like(arr)\n",
    "    j = 0\n",
    "    for i in range(arr.size):\n",
    "        if condition(arr[i]):\n",
    "            result[j] = arr[i]\n",
    "            j += 1\n",
    "    return result[:j].copy()\n",
    "\n",
    "@nb.njit\n",
    "def events_inside_circular_roi(events, x_center, y_center, radius):\n",
    "    result = np.empty_like(events)\n",
    "    j = 0\n",
    "    for i in range(events.size):\n",
    "        if inside_circle(events[i]['x'],events[i]['y'],x_center,y_center, radius):\n",
    "            result[j] = events[i]\n",
    "            j += 1\n",
    "    return result[:j].copy()\n",
    "\n",
    "@nb.njit\n",
    "def split_events(events):\n",
    "    on_events = np.empty_like(events)\n",
    "    off_events = np.empty_like(events)\n",
    "    on_counter = 0\n",
    "    off_counter = 0\n",
    "    \n",
    "    for i in range(events.size):\n",
    "        if events[i][2]==1:\n",
    "            on_events[on_counter] = events[i]\n",
    "            on_counter += 1\n",
    "        else: \n",
    "            off_events[off_counter] = events[i]\n",
    "            off_counter += 1\n",
    "   \n",
    "    return on_events[:on_counter].copy(),off_events[:off_counter].copy()"
   ]
  },
  {
   "cell_type": "code",
   "execution_count": 13,
   "id": "8ee30ad4",
   "metadata": {},
   "outputs": [],
   "source": [
    "inside_events = events_inside_circular_roi(events, 560, 375, 400)\n",
    "#on_events, off_events = split_events(inside_events)"
   ]
  },
  {
   "cell_type": "markdown",
   "id": "4cc706ad",
   "metadata": {},
   "source": [
    "Note: The on/off edges are slightly different as the event timestamps are slightly different \n",
    "* might be solvable by shifting the first and the last events in time?\n",
    "* or hardcoding the edges based on the original event data?"
   ]
  },
  {
   "cell_type": "code",
   "execution_count": null,
   "id": "11aa2416",
   "metadata": {},
   "outputs": [],
   "source": [
    "def create_event_dict(events, dt=1000):\n",
    "    on_events, off_events = split_events(events)\n",
    "    event_dict = {}\n",
    "    event_dict['on_events'] = on_events\n",
    "    event_dict['off_events'] = off_events\n",
    "    event_dict['metadata'] = {'num_events'    : len(events), \n",
    "                              'num_on_events' : len(on_events),\n",
    "                              'num_off_events': len(off_events),\n",
    "                             }\n",
    "    bins = calculate_bins(events, dt)\n",
    "    event_dict['on_hist']  , on_edges  = np.histogram(on_events['t'],  density=False, bins=bins)\n",
    "    event_dict['off_hist'] , off_edges = np.histogram(off_events['t'], density=False, bins=bins)\n",
    "    event_dict['on_edges'] = on_edges[1:]\n",
    "    event_dict['off_edges'] = off_edges[1:]\n",
    "    return event_dict"
   ]
  },
  {
   "cell_type": "code",
   "execution_count": null,
   "id": "c3af0984",
   "metadata": {},
   "outputs": [],
   "source": [
    "myarray[2]"
   ]
  },
  {
   "cell_type": "code",
   "execution_count": null,
   "id": "40f71508",
   "metadata": {},
   "outputs": [],
   "source": [
    "on_off_filter = np.zeros(10, dtype=bool)"
   ]
  },
  {
   "cell_type": "code",
   "execution_count": null,
   "id": "1cfb6e11",
   "metadata": {},
   "outputs": [],
   "source": [
    "on_off_filter[4] = True"
   ]
  },
  {
   "cell_type": "code",
   "execution_count": null,
   "id": "43f00c47",
   "metadata": {},
   "outputs": [],
   "source": [
    "minievents = events[0:20]"
   ]
  },
  {
   "cell_type": "code",
   "execution_count": null,
   "id": "2c93b639",
   "metadata": {},
   "outputs": [],
   "source": [
    "on_off_filter = np.zeros(len(minievents), dtype=bool)"
   ]
  },
  {
   "cell_type": "code",
   "execution_count": null,
   "id": "032633a6",
   "metadata": {},
   "outputs": [],
   "source": [
    "on_off_filter[4] = True\n",
    "on_off_filter[5] = True\n",
    "on_off_filter[6] = True"
   ]
  },
  {
   "cell_type": "code",
   "execution_count": null,
   "id": "17079e51",
   "metadata": {
    "scrolled": true
   },
   "outputs": [],
   "source": [
    "minievents[on_off_filter]"
   ]
  },
  {
   "cell_type": "code",
   "execution_count": null,
   "id": "a1f87f33",
   "metadata": {},
   "outputs": [],
   "source": [
    "on_off_filter"
   ]
  },
  {
   "cell_type": "code",
   "execution_count": null,
   "id": "aa999a4b",
   "metadata": {
    "scrolled": true
   },
   "outputs": [],
   "source": [
    "np.invert(on_off_filter)"
   ]
  },
  {
   "cell_type": "code",
   "execution_count": null,
   "id": "429ab515",
   "metadata": {},
   "outputs": [],
   "source": [
    "### API ideas"
   ]
  },
  {
   "cell_type": "markdown",
   "id": "fb49bcc3",
   "metadata": {},
   "source": [
    "As usual: What datatype makes sense here? \n",
    "\n",
    "filters have len(events) and are bool vectors that can be used by np.filter\n",
    "\n",
    "events.get_filtered_events(filter) # returns all events filtered by a filter\n",
    "events.get_on_events(filter) # returns On events filtered by a filter \n",
    "events.get_off_events(filter) # returns Off events "
   ]
  },
  {
   "cell_type": "code",
   "execution_count": 14,
   "id": "d6ffbbd5",
   "metadata": {},
   "outputs": [],
   "source": [
    "class Events():\n",
    "   \n",
    "    def __init__(self, events, dt=1000):\n",
    "        # super().__init__()\n",
    "        \n",
    "        self.events = events\n",
    "        self.dt = dt\n",
    "        self.num_events =  len(self.events)\n",
    "        \n",
    "        # create on/off event filter:\n",
    "        self.on_filter = self.initialize_filter()\n",
    "        \n",
    "        for i in range(len(events)):\n",
    "            if events[i][2]==1:\n",
    "                self.on_filter[i] = True\n",
    "       \n",
    "        self.num_on_events = np.sum(self.on_filter)\n",
    "        self.num_off_events = self.num_events - self.num_on_events\n",
    "        \n",
    "        self.bins = self.calculate_bins(self.events, dt)\n",
    "        self.num_bins = len(self.bins)\n",
    "        \n",
    "        self.on_hist , self.on_edges = np.histogram(self.get_on_events()['t'],  density=False, bins=self.bins)\n",
    "        self.off_hist , self.off_edges = np.histogram(self.get_off_events()['t'],  density=False, bins=self.bins)\n",
    "        self.on_edges = self.on_edges[1:]\n",
    "        self.off_edges = self.off_edges[1:]\n",
    "        \n",
    "    def initialize_filter():\n",
    "        return np.zeros(self.num_events, dtype=bool)\n",
    "                \n",
    "    def get_filtered_events(self, filter):\n",
    "        if len(filter) == self.num_events:\n",
    "            return self.events[filter]\n",
    "        else:\n",
    "            print('Number of elements in the filter does not equal number of events')\n",
    "\n",
    "    def get_on_events(self):\n",
    "        return self.events[self.on_filter]\n",
    "    \n",
    "    def get_off_events(self):\n",
    "        return self.events[np.invert(self.on_filter)]\n",
    "    \n",
    "    def get_events_in_time_interval(self, t_start, t_stop):\n",
    "        start_index = int(np.sum(self.events.on_hist[0:int(np.floor((t_start-self.events.on_edges[0])/dt))]))\n",
    "        stop_index = int(np.sum(self.events.on_hist[0:int(np.ceil((t_stop-self.events.on_edges[0])/dt))]))\n",
    "        return self.events[start_index:stop_index]\n",
    "    \n",
    "    def calculate_bins(self, events, dt=1000):\n",
    "        # calculate events for timestep dt in us\n",
    "        min_timepoint = self.events['t'].min()\n",
    "        max_timepoint = self.events['t'].max()\n",
    "        interval_us = max_timepoint-min_timepoint\n",
    "        timepoints = int(interval_us / (dt))\n",
    "        bins = np.linspace(min_timepoint, max_timepoint, timepoints)\n",
    "        return bins\n",
    "    \n",
    "    def get_events_in_rect_roi(self, events, x_pos, y_pos, x_width, y_width):\n",
    "        # how many events are in the bounding box?\n",
    "        # create a filter vector for events and then apply it to the numpy array\n",
    "        \n",
    "        rect_roi_filter = self.initialize_filter()\n",
    "        \n",
    "        counter = 0\n",
    "        for event in events:\n",
    "            event_x_pos = event[1]\n",
    "            event_y_pos = event[0]\n",
    "            if x_pos < event_x_pos & event_x_pos < x_pos+x_width:\n",
    "                if y_pos < event_y_pos & event_y_pos < y_pos+y_width:\n",
    "                    counter+=1\n",
    "        \n",
    "        filtered_events = np.zeros(i)\n",
    "    \n",
    "        for event in events:\n",
    "            event_x_pos = event[1]\n",
    "            event_y_pos = event[0]\n",
    "            if x_pos < event_x_pos & event_x_pos < x_pos+x_width:\n",
    "                if y_pos < event_y_pos & event_y_pos < y_pos+y_width:\n",
    "                    filtered_events = np.append(filtered_events, event)\n",
    "                   \n",
    "        return filtered_events\n",
    "    \n",
    "    def get_events_in_circ_roi(self, events, x_pos, y_pos, x_width, y_width)\n",
    "        result = np.empty_like(events)\n",
    "        j = 0\n",
    "        for i in range(events.size):\n",
    "            if inside_circle(events[i]['x'],events[i]['y'],x_center,y_center, radius):\n",
    "                result[j] = events[i]\n",
    "                j += 1\n",
    "        return result[:j].copy()\n"
   ]
  },
  {
   "cell_type": "code",
   "execution_count": 15,
   "id": "1d4bc6c4",
   "metadata": {},
   "outputs": [],
   "source": [
    "myevents = Events(events, 1000)"
   ]
  },
  {
   "cell_type": "code",
   "execution_count": null,
   "id": "b6a9a9cf",
   "metadata": {},
   "outputs": [],
   "source": [
    "myevents.get_off_events()[9:10]"
   ]
  },
  {
   "cell_type": "code",
   "execution_count": null,
   "id": "0095c214",
   "metadata": {},
   "outputs": [],
   "source": [
    "event_dict = create_event_dict(events)"
   ]
  },
  {
   "cell_type": "code",
   "execution_count": null,
   "id": "e03ad467",
   "metadata": {},
   "outputs": [],
   "source": [
    "event_dict.keys()"
   ]
  },
  {
   "cell_type": "markdown",
   "id": "ff8bc7e8",
   "metadata": {},
   "source": [
    "### Numpy arrays have names for columns!"
   ]
  },
  {
   "cell_type": "code",
   "execution_count": null,
   "id": "1eef4b37",
   "metadata": {},
   "outputs": [],
   "source": [
    "events.dtype.names"
   ]
  },
  {
   "cell_type": "markdown",
   "id": "61465ae2",
   "metadata": {},
   "source": [
    "### Pyqtgraph Helper Tool"
   ]
  },
  {
   "cell_type": "code",
   "execution_count": 16,
   "id": "a5404916",
   "metadata": {},
   "outputs": [],
   "source": [
    "%gui qt5\n",
    "from PyQt5.Qt import QApplication\n",
    "import qdarkstyle\n",
    "import pyqtgraph as pg"
   ]
  },
  {
   "cell_type": "code",
   "execution_count": 17,
   "id": "7369e8fc",
   "metadata": {},
   "outputs": [],
   "source": [
    "# start qt event loop\n",
    "_instance = QApplication.instance()\n",
    "if not _instance:\n",
    "    _instance = QApplication([])\n",
    "app = _instance"
   ]
  },
  {
   "cell_type": "code",
   "execution_count": 18,
   "id": "a0770f52",
   "metadata": {},
   "outputs": [],
   "source": [
    "class EventExplorer():\n",
    "    def __init__(self, events):\n",
    "        self.ET_window = EventTimeSelector(events)\n",
    "        self.ET_window.graphicsView.show()\n",
    "                \n",
    "        #self.EventXY_window = EventXYPlot(events)\n",
    "        #self.EventXY_window.graphicsView.show()\n",
    "        \n",
    "        #self.EventYT_window = EventYTPlot(events)\n",
    "        #self.EventYT_window.graphicsView.show()\n",
    "        \n",
    "        #self.TestWindow = TestWindow()\n",
    "        #self.TestWindow.view.show()\n",
    "                \n",
    "class TestWindow():\n",
    "    def __init__(self):\n",
    "        self.view = pg.GraphicsView()   \n",
    "        self.view.setWindowTitle('Event-Time-Selector')\n",
    "        self.layout = pg.GraphicsLayout()\n",
    "        self.view.setCentralItem(self.layout)\n",
    "        \n",
    "        # add subplots\n",
    "        self.p0 = self.layout.addPlot(0,0)\n",
    "        self.p0.addLegend()\n",
    "        self.p0.plot([1,2,3,4,5], pen='b', name='p0')\n",
    "\n",
    "        self.p1 = self.layout.addPlot(1,0)\n",
    "        self.p1.addLegend()\n",
    "        self.p1.plot([2,2,2,2,], pen='r', name='p1')\n",
    "\n",
    "class EventTimeSelector():\n",
    "    def __init__(self, events):\n",
    "        self.events = events\n",
    "        self.graphicsView = pg.GraphicsView()\n",
    "        self.graphicsView.setWindowTitle('Event Time Selector')\n",
    "        self.layout = pg.GraphicsLayout()\n",
    "        self.graphicsView.setCentralItem(self.layout)\n",
    "        #self.graphicsView.show()\n",
    "        \n",
    "        self.ET_plot = self.layout.addPlot(row=0, col=0)\n",
    "        self.ET_region_selection_plot = self.layout.addPlot(row=1, col=0)\n",
    "        \n",
    "        self.ET_plot.plot(x = self.events.on_edges, y = self.events.on_hist, pen=\"b\")\n",
    "        self.ET_plot.plot(x = self.events.on_edges, y = self.events.on_hist+self.events.off_hist, pen=\"r\")\n",
    "        self.ET_region_selection_plot.plot(x = self.events.on_edges, y = self.events.on_hist+self.events.off_hist, pen=\"r\")\n",
    "        self.ET_region_selection_plot.setLabel('left', \"Y Axis\", units='Events')\n",
    "        self.ET_region_selection_plot.setLabel('bottom', \"X Axis\", units='s')\n",
    "        \n",
    "        len_data = self.events.num_bins\n",
    "        left_start_range = self.events.on_edges[int(len_data/3)]\n",
    "        right_start_range = self.events.on_edges[int(2*len_data/3)]\n",
    "        \n",
    "        self.ET_region = pg.LinearRegionItem(values=[left_start_range,right_start_range])\n",
    "        self.ET_region.setZValue(10) # Move item up\n",
    "        self.ET_region_selection_plot.addItem(self.ET_region, ignoreBounds = True)\n",
    "        self.ET_plot.setAutoVisible(y=True)\n",
    "        \n",
    "        #ET_plot.sigRangeChanged.connect(updateRegion) \n",
    "        self.ET_region.sigRegionChanged.connect(self.update)\n",
    "        self.update()\n",
    "        \n",
    "    def updateRegion(self, window, viewRange):\n",
    "        rgn = viewRange[0]\n",
    "        self.ET_region_selection_plot.setRegion(rgn)\n",
    "        \n",
    "    def update(self):\n",
    "        self.ET_region.setZValue(10)\n",
    "        minT, maxT = self.ET_region.getRegion()\n",
    "        self.ET_plot.setXRange(minT, maxT, padding=0)\n",
    "        '''\n",
    "        self.events_subset = self.event_time_slice(self.events['on_events'], minT, maxT)\n",
    "        self.update_XY_plot(self.events_subset)\n",
    "        self.update_YT_plot(self.events_subset)\n",
    "        '''\n",
    "        \n",
    "class EventXYPlot():\n",
    "    def __init__(self, events):\n",
    "        self.events = events\n",
    "        self.graphicsView = pg.GraphicsView()\n",
    "        self.graphicsView.setWindowTitle('Event XY View')\n",
    "        self.layout = pg.GraphicsLayout()\n",
    "        self.graphicsView.setCentralItem(self.layout)\n",
    "                \n",
    "        self.XY_plot = self.layout.addPlot(row=0, col=0, rowspan=2, colspan=1)\n",
    "        self.XY_plot.setAspectLocked(True, ratio=1.77)\n",
    "        self.XY_plot.invertY(True)\n",
    "            \n",
    "        self.s4 = pg.ScatterPlotItem(\n",
    "            size=5,\n",
    "            pen=pg.mkPen(None),\n",
    "            brush=pg.mkBrush(255, 255, 255, 20))\n",
    "\n",
    "        self.s4.addPoints(x=self.events.on_events['x'],\n",
    "            y=self.events.off_events['y'],\n",
    "                # size=(np.random.random(n) * 20.).astype(int),\n",
    "            #brush=[pg.mkBrush(x) for x in np.random.randint(0, 256, (len(on_events), 3))],\n",
    "                #data=np.arange(n)\n",
    "                )\n",
    "\n",
    "        self.XY_plot.addItem(self.s4)     \n",
    "        \n",
    "        self.create_roi()\n",
    "        \n",
    "    def create_roi(self):\n",
    "        self.roi = pg.RectROI([20, 20], [100, 100], pen=(0,9))\n",
    "        #self.roi.addRotateHandle([1,0], [0.5, 0.5])\n",
    "        self.XY_plot.addItem(self.roi)\n",
    "        self.roi.sigRegionChangeFinished.connect(self.update_from_ROI)\n",
    "        \n",
    "    def updateRegion(self, window, viewRange):\n",
    "        rgn = viewRange[0]\n",
    "        # self.ET_region_selection_plot.setRegion(rgn)\n",
    "        \n",
    "    def update_from_ROI(self):\n",
    "        self.roi_state = self.roi.getState()\n",
    "        x_pos = self.roi_state['pos'].x()\n",
    "        y_pos = self.roi_state['pos'].y()\n",
    "        x_width = self.roi_state['size'].x()\n",
    "        y_width = self.roi_state['size'].y()\n",
    "        \n",
    "        self.events_subset = self.rect_filter_events(self.events, x_pos, y_pos, x_width, y_width)\n",
    "        self.update_YT_plot(self.events_subset)\n",
    "        \n",
    "    \n",
    "    def update_XY_plot(self, events_subset):\n",
    "        self.s4.clear()\n",
    "        self.s4.addPoints(x=events_subset['x'],\n",
    "                y=-events_subset['y']+720,\n",
    "                     )\n",
    "        \n",
    "class EventYTPlot():\n",
    "    def __init__(self, eventdict):\n",
    "        self.events = eventdict\n",
    "        self.graphicsView = pg.GraphicsView()\n",
    "        self.graphicsView.setWindowTitle('Event YT View')\n",
    "        self.layout = pg.GraphicsLayout()\n",
    "        self.graphicsView.setCentralItem(self.layout)\n",
    "        \n",
    "        self.YT_plot = self.layout.addPlot(row=0, col=3)\n",
    "        self.YT_plot.invertY(True)\n",
    "        self.YT_plot.enableAutoRange()\n",
    "        self.s5 = pg.ScatterPlotItem(\n",
    "            size=3,\n",
    "            pen=pg.mkPen(None),\n",
    "            brush=pg.mkBrush(255, 255, 255, 20))\n",
    "        \n",
    "        self.YT_plot.addItem(self.s5)\n",
    "        \n",
    "    def update_YT_plot(self, events_subset):\n",
    "        self.s5.clear()\n",
    "        self.s5.addPoints(x=events_subset['t'],\n",
    "                y=events_subset['y'],\n",
    "                     )"
   ]
  },
  {
   "cell_type": "code",
   "execution_count": 19,
   "id": "ffd8cab4",
   "metadata": {},
   "outputs": [],
   "source": [
    "myexplorer2 = EventExplorer(myevents)"
   ]
  },
  {
   "cell_type": "code",
   "execution_count": null,
   "id": "327533e4",
   "metadata": {},
   "outputs": [],
   "source": [
    "x_pos = myexplorer2.roi_state['pos'].x()\n",
    "y_pos = myexplorer2.roi_state['pos'].y()\n",
    "x_width = myexplorer2.roi_state['size'].x()\n",
    "y_width = myexplorer2.roi_state['size'].y()"
   ]
  },
  {
   "cell_type": "code",
   "execution_count": null,
   "id": "106b0bb0",
   "metadata": {},
   "outputs": [],
   "source": [
    "filtered_events = np.array([])"
   ]
  },
  {
   "cell_type": "code",
   "execution_count": null,
   "id": "55f3618a",
   "metadata": {
    "scrolled": true
   },
   "outputs": [],
   "source": [
    "np.append(filtered_events, [4,6])"
   ]
  },
  {
   "cell_type": "code",
   "execution_count": null,
   "id": "f6d45157",
   "metadata": {},
   "outputs": [],
   "source": [
    "myexplorer2.events['on_events'].shape"
   ]
  },
  {
   "cell_type": "code",
   "execution_count": null,
   "id": "5dc57130",
   "metadata": {},
   "outputs": [],
   "source": [
    "myexplorer2.events['on_events'][0]"
   ]
  },
  {
   "cell_type": "code",
   "execution_count": null,
   "id": "a463fd46",
   "metadata": {},
   "outputs": [],
   "source": []
  },
  {
   "cell_type": "code",
   "execution_count": null,
   "id": "5791c9d6",
   "metadata": {},
   "outputs": [],
   "source": [
    "True & True"
   ]
  },
  {
   "cell_type": "code",
   "execution_count": null,
   "id": "77f8ee8c",
   "metadata": {},
   "outputs": [],
   "source": [
    "print(x_pos)"
   ]
  },
  {
   "cell_type": "code",
   "execution_count": null,
   "id": "a8c7b9d5",
   "metadata": {},
   "outputs": [],
   "source": [
    "myexplorer2.events_subset.shape"
   ]
  },
  {
   "cell_type": "code",
   "execution_count": null,
   "id": "4679fb61",
   "metadata": {},
   "outputs": [],
   "source": [
    "import pyqtgraph as pg\n",
    "from pyqtgraph import functions as fn\n",
    "from pyqtgraph.Qt import QtCore, QtGui\n",
    "import pyqtgraph.opengl as gl\n",
    "import numpy as np\n",
    "'''\n",
    "# start qt event loop\n",
    "_instance2 = QApplication.instance()\n",
    "if not _instance2:\n",
    "    _instance2 = QApplication([])\n",
    "app = _instance2\n",
    "'''\n",
    "app = pg.mkQApp(\"GLScatterPlotItem Example\")\n",
    "\n",
    "\n",
    "\n",
    "w = gl.GLViewWidget()\n",
    "w.show()\n",
    "w.setWindowTitle('pyqtgraph example: GLScatterPlotItem')\n",
    "w.setCameraPosition(distance=20)\n",
    "\n",
    "g = gl.GLGridItem()\n",
    "w.addItem(g)\n",
    "\n",
    "pos = np.random.random(size=(100000,3))\n",
    "pos *= [10,-10,10]\n",
    "\n",
    "sp2 = gl.GLScatterPlotItem(pos=pos, color=(1,1,1,1), size=10)\n",
    "w.addItem(sp2)"
   ]
  }
 ],
 "metadata": {
  "kernelspec": {
   "display_name": "Python 3 (ipykernel)",
   "language": "python",
   "name": "python3"
  },
  "language_info": {
   "codemirror_mode": {
    "name": "ipython",
    "version": 3
   },
   "file_extension": ".py",
   "mimetype": "text/x-python",
   "name": "python",
   "nbconvert_exporter": "python",
   "pygments_lexer": "ipython3",
   "version": "3.9.16"
  }
 },
 "nbformat": 4,
 "nbformat_minor": 5
}
