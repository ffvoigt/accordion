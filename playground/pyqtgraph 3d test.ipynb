{
 "cells": [
  {
   "cell_type": "code",
   "execution_count": null,
   "id": "8aa390d6",
   "metadata": {},
   "outputs": [],
   "source": [
    "%gui qt5\n",
    "from PyQt5.Qt import QApplication\n",
    "import qdarkstyle\n",
    "import pyqtgraph as pg\n",
    "from pyqtgraph import functions as fn\n",
    "#from pyqtgraph.Qt import QtCore, QtGui\n",
    "import pyqtgraph.opengl as gl\n",
    "import numpy as np"
   ]
  },
  {
   "cell_type": "code",
   "execution_count": null,
   "id": "24ec0c59",
   "metadata": {},
   "outputs": [],
   "source": [
    "# start qt event loop\n",
    "_instance = QApplication.instance()\n",
    "if not _instance:\n",
    "    _instance = QApplication([])\n",
    "app = _instance"
   ]
  },
  {
   "cell_type": "code",
   "execution_count": null,
   "id": "1f0182d2",
   "metadata": {},
   "outputs": [],
   "source": [
    "w = gl.GLViewWidget()\n",
    "w.show()\n",
    "w.setWindowTitle('pyqtgraph example: GLScatterPlotItem')\n",
    "w.setCameraPosition(distance=20)\n",
    "\n",
    "g = gl.GLGridItem()\n",
    "w.addItem(g)\n",
    "\n",
    "pos = np.random.random(size=(100000,3))\n",
    "pos *= [10,-10,10]\n",
    "\n",
    "sp2 = gl.GLScatterPlotItem(pos=pos, color=(50,125,255,127), size=1)\n",
    "w.addItem(sp2)"
   ]
  },
  {
   "cell_type": "code",
   "execution_count": null,
   "id": "3ee0fcee",
   "metadata": {},
   "outputs": [],
   "source": [
    "pos = np.random.random(size=(10000,3))\n",
    "pos *= [10,10,10]"
   ]
  },
  {
   "cell_type": "code",
   "execution_count": null,
   "id": "64d2418f",
   "metadata": {},
   "outputs": [],
   "source": [
    "sp3 = gl.GLScatterPlotItem(pos=pos, color=(150,0,0,127), size=1)\n",
    "w.addItem(sp3)"
   ]
  }
 ],
 "metadata": {
  "kernelspec": {
   "display_name": "Python 3 (ipykernel)",
   "language": "python",
   "name": "python3"
  },
  "language_info": {
   "codemirror_mode": {
    "name": "ipython",
    "version": 3
   },
   "file_extension": ".py",
   "mimetype": "text/x-python",
   "name": "python",
   "nbconvert_exporter": "python",
   "pygments_lexer": "ipython3",
   "version": "3.9.16"
  }
 },
 "nbformat": 4,
 "nbformat_minor": 5
}
