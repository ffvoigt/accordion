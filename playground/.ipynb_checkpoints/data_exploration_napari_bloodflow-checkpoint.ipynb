{
 "cells": [
  {
   "cell_type": "code",
   "execution_count": 8,
   "id": "bc0889e8",
   "metadata": {
    "scrolled": true
   },
   "outputs": [],
   "source": [
    "import sys\n",
    "import os\n",
    "import numpy as np\n",
    "import napari\n",
    "%matplotlib inline\n",
    "from matplotlib import pyplot as plt  # graphic library, for plots\n",
    "import numba as nb\n",
    "import tifffile\n",
    "import skimage"
   ]
  },
  {
   "cell_type": "code",
   "execution_count": 2,
   "id": "c990096f",
   "metadata": {},
   "outputs": [],
   "source": [
    "import filedialogs"
   ]
  },
  {
   "cell_type": "code",
   "execution_count": 3,
   "id": "c653f4b8",
   "metadata": {},
   "outputs": [],
   "source": [
    "from metavision_core.event_io.raw_reader import RawReader\n",
    "from metavision_core.event_io.py_reader import EventDatReader\n",
    "from metavision_core.event_io import EventsIterator\n",
    "from metavision_sdk_cv import ActivityNoiseFilterAlgorithm"
   ]
  },
  {
   "cell_type": "markdown",
   "id": "7f5a53d7",
   "metadata": {},
   "source": [
    "### Loading Datasets"
   ]
  },
  {
   "cell_type": "code",
   "execution_count": 4,
   "id": "0201a266",
   "metadata": {},
   "outputs": [],
   "source": [
    "#path = filedialogs.gui_fname('example_data/')\n",
    "#path = path.decode('ascii')"
   ]
  },
  {
   "cell_type": "code",
   "execution_count": 5,
   "id": "127a8313",
   "metadata": {},
   "outputs": [],
   "source": [
    "path = 'C:/Users/B0067-WS-2/Documents/code/github-ffvoigt/accordion/playground/example_data/bloodflow_5s.raw'"
   ]
  },
  {
   "cell_type": "code",
   "execution_count": 6,
   "id": "f75acc6b",
   "metadata": {},
   "outputs": [
    {
     "name": "stdout",
     "output_type": "stream",
     "text": [
      "RawReader(C:/Users/B0067-WS-2/Documents/code/github-ffvoigt/accordion/playground/example_data/bloodflow1.raw)\n",
      "current time : 0us done : False\n",
      "current event index : 0\n",
      "_begin_buffer 0,_end_buffer_ 0,  buffer_size 10000000\n"
     ]
    }
   ],
   "source": [
    "record_raw = RawReader(path)\n",
    "print(record_raw)"
   ]
  },
  {
   "cell_type": "code",
   "execution_count": 7,
   "id": "56aa4197",
   "metadata": {
    "scrolled": false
   },
   "outputs": [
    {
     "ename": "ValueError",
     "evalue": "RawReader buffer size too small. Please increase max_events",
     "output_type": "error",
     "traceback": [
      "\u001b[1;31m---------------------------------------------------------------------------\u001b[0m",
      "\u001b[1;31mValueError\u001b[0m                                Traceback (most recent call last)",
      "Cell \u001b[1;32mIn[7], line 1\u001b[0m\n\u001b[1;32m----> 1\u001b[0m events \u001b[38;5;241m=\u001b[39m \u001b[43mrecord_raw\u001b[49m\u001b[38;5;241;43m.\u001b[39;49m\u001b[43mload_n_events\u001b[49m\u001b[43m(\u001b[49m\u001b[38;5;241;43m10000000\u001b[39;49m\u001b[43m)\u001b[49m\n\u001b[0;32m      2\u001b[0m \u001b[38;5;28mprint\u001b[39m(\u001b[38;5;124m'\u001b[39m\u001b[38;5;124mStart Time:  \u001b[39m\u001b[38;5;124m'\u001b[39m, events[\u001b[38;5;124m'\u001b[39m\u001b[38;5;124mt\u001b[39m\u001b[38;5;124m'\u001b[39m][\u001b[38;5;241m0\u001b[39m]\u001b[38;5;241m/\u001b[39m\u001b[38;5;241m1000\u001b[39m, \u001b[38;5;124m'\u001b[39m\u001b[38;5;124m ms\u001b[39m\u001b[38;5;124m'\u001b[39m)\n\u001b[0;32m      3\u001b[0m \u001b[38;5;28mprint\u001b[39m(\u001b[38;5;124m'\u001b[39m\u001b[38;5;124mEnd Time:    \u001b[39m\u001b[38;5;124m'\u001b[39m, events[\u001b[38;5;124m'\u001b[39m\u001b[38;5;124mt\u001b[39m\u001b[38;5;124m'\u001b[39m][\u001b[38;5;241m-\u001b[39m\u001b[38;5;241m1\u001b[39m]\u001b[38;5;241m/\u001b[39m\u001b[38;5;241m1000\u001b[39m, \u001b[38;5;124m'\u001b[39m\u001b[38;5;124m ms\u001b[39m\u001b[38;5;124m'\u001b[39m)\n",
      "File \u001b[1;32mC:\\Program Files\\Prophesee\\lib\\python3\\site-packages\\metavision_core\\event_io\\raw_reader.py:495\u001b[0m, in \u001b[0;36mRawReader.load_n_events\u001b[1;34m(self, n_events)\u001b[0m\n\u001b[0;32m    485\u001b[0m \u001b[38;5;250m\u001b[39m\u001b[38;5;124;03m\"\"\"\u001b[39;00m\n\u001b[0;32m    486\u001b[0m \u001b[38;5;124;03mLoads a batch of *n_events* events.\u001b[39;00m\n\u001b[0;32m    487\u001b[0m \n\u001b[1;32m   (...)\u001b[0m\n\u001b[0;32m    492\u001b[0m \u001b[38;5;124;03m    events (numpy array): structured numpy array containing the events.\u001b[39;00m\n\u001b[0;32m    493\u001b[0m \u001b[38;5;124;03m\"\"\"\u001b[39;00m\n\u001b[0;32m    494\u001b[0m n_events \u001b[38;5;241m=\u001b[39m \u001b[38;5;28mint\u001b[39m(n_events)\n\u001b[1;32m--> 495\u001b[0m \u001b[38;5;28;43mself\u001b[39;49m\u001b[38;5;241;43m.\u001b[39;49m\u001b[43m_advance\u001b[49m\u001b[43m(\u001b[49m\u001b[43mn_events\u001b[49m\u001b[43m)\u001b[49m\n\u001b[0;32m    497\u001b[0m \u001b[38;5;66;03m# if all events are decoded, there is only this classes buffer left.\u001b[39;00m\n\u001b[0;32m    498\u001b[0m \u001b[38;5;28;01mif\u001b[39;00m \u001b[38;5;28mself\u001b[39m\u001b[38;5;241m.\u001b[39m_decode_done:\n",
      "File \u001b[1;32mC:\\Program Files\\Prophesee\\lib\\python3\\site-packages\\metavision_core\\event_io\\raw_reader.py:176\u001b[0m, in \u001b[0;36mRawReaderBase._advance\u001b[1;34m(self, n_events, delta_t, drop_events)\u001b[0m\n\u001b[0;32m    173\u001b[0m         \u001b[38;5;28mself\u001b[39m\u001b[38;5;241m.\u001b[39m_seek_event \u001b[38;5;241m=\u001b[39m n_events\n\u001b[0;32m    175\u001b[0m \u001b[38;5;28;01mwhile\u001b[39;00m \u001b[38;5;129;01mnot\u001b[39;00m (\u001b[38;5;28mself\u001b[39m\u001b[38;5;241m.\u001b[39m_decode_done \u001b[38;5;129;01mor\u001b[39;00m _are_enough_ev_loaded(final_time, n_events)):\n\u001b[1;32m--> 176\u001b[0m     \u001b[38;5;28;43mself\u001b[39;49m\u001b[38;5;241;43m.\u001b[39;49m\u001b[43m_run\u001b[49m\u001b[43m(\u001b[49m\u001b[43m)\u001b[49m\n",
      "File \u001b[1;32mC:\\Program Files\\Prophesee\\lib\\python3\\site-packages\\metavision_core\\event_io\\raw_reader.py:146\u001b[0m, in \u001b[0;36mRawReaderBase._run\u001b[1;34m(self)\u001b[0m\n\u001b[0;32m    144\u001b[0m     \u001b[38;5;28;01mreturn\u001b[39;00m \u001b[38;5;28;01mFalse\u001b[39;00m\n\u001b[0;32m    145\u001b[0m data \u001b[38;5;241m=\u001b[39m \u001b[38;5;28mself\u001b[39m\u001b[38;5;241m.\u001b[39mi_events_stream\u001b[38;5;241m.\u001b[39mget_latest_raw_data()\n\u001b[1;32m--> 146\u001b[0m \u001b[38;5;28;43mself\u001b[39;49m\u001b[38;5;241;43m.\u001b[39;49m\u001b[43mi_events_stream_decoder\u001b[49m\u001b[38;5;241;43m.\u001b[39;49m\u001b[43mdecode\u001b[49m\u001b[43m(\u001b[49m\u001b[43mdata\u001b[49m\u001b[43m)\u001b[49m\n\u001b[0;32m    148\u001b[0m \u001b[38;5;28;01mreturn\u001b[39;00m \u001b[38;5;28;01mTrue\u001b[39;00m\n",
      "File \u001b[1;32mC:\\Program Files\\Prophesee\\lib\\python3\\site-packages\\metavision_core\\event_io\\raw_reader.py:456\u001b[0m, in \u001b[0;36mRawReader._process_batch\u001b[1;34m(self, ts, batch)\u001b[0m\n\u001b[0;32m    454\u001b[0m remaining_size \u001b[38;5;241m=\u001b[39m batch\u001b[38;5;241m.\u001b[39msize \u001b[38;5;241m-\u001b[39m n_evs_before_end_buffer\n\u001b[0;32m    455\u001b[0m \u001b[38;5;28;01mif\u001b[39;00m remaining_size \u001b[38;5;241m>\u001b[39m \u001b[38;5;28mself\u001b[39m\u001b[38;5;241m.\u001b[39m_begin_buffer:\n\u001b[1;32m--> 456\u001b[0m     \u001b[38;5;28;01mraise\u001b[39;00m \u001b[38;5;167;01mValueError\u001b[39;00m(\u001b[38;5;124m'\u001b[39m\u001b[38;5;124mRawReader buffer size too small. Please increase max_events\u001b[39m\u001b[38;5;124m'\u001b[39m)\n\u001b[0;32m    457\u001b[0m \u001b[38;5;28mself\u001b[39m\u001b[38;5;241m.\u001b[39m_event_buffer[:remaining_size] \u001b[38;5;241m=\u001b[39m batch[n_evs_before_end_buffer:]\n\u001b[0;32m    459\u001b[0m \u001b[38;5;28mself\u001b[39m\u001b[38;5;241m.\u001b[39m_end_buffer \u001b[38;5;241m=\u001b[39m remaining_size\n",
      "\u001b[1;31mValueError\u001b[0m: RawReader buffer size too small. Please increase max_events"
     ]
    }
   ],
   "source": [
    "events = record_raw.load_n_events(10000000)\n",
    "print('Start Time:  ', events['t'][0]/1000, ' ms')\n",
    "print('End Time:    ', events['t'][-1]/1000, ' ms')\n",
    "print('Total Events:', len(events))"
   ]
  },
  {
   "cell_type": "markdown",
   "id": "3ca3fbd4",
   "metadata": {},
   "source": [
    "### Noise filtering\n",
    "For whatever reason: If `filtered_events_` and `filtered_events` are the same variable, the export doesn't work"
   ]
  },
  {
   "cell_type": "code",
   "execution_count": null,
   "id": "a41ae054",
   "metadata": {
    "scrolled": false
   },
   "outputs": [],
   "source": [
    "print('Started with: ', len(events),' events' )\n",
    "noisereductionfilter = ActivityNoiseFilterAlgorithm(1280,720,1000)\n",
    "filtered_events_ = noisereductionfilter.get_empty_output_buffer()\n",
    "noisereductionfilter.process_events(events, filtered_events_)\n",
    "filtered_events = filtered_events_.numpy()\n",
    "print('After filtering: ', len(filtered_events),' events' )"
   ]
  },
  {
   "cell_type": "markdown",
   "id": "c0c8ede4",
   "metadata": {},
   "source": [
    "### Quick visualization"
   ]
  },
  {
   "cell_type": "code",
   "execution_count": null,
   "id": "a6992b9c",
   "metadata": {},
   "outputs": [],
   "source": [
    "def viz_events(events, height, width):\n",
    "    img = np.full((height, width, 3), 128, dtype=np.uint8)\n",
    "    img[events['y'], events['x']] = 255 * events['p'][:, None]\n",
    "    return img"
   ]
  },
  {
   "cell_type": "code",
   "execution_count": null,
   "id": "c7097b3d",
   "metadata": {
    "scrolled": false
   },
   "outputs": [],
   "source": [
    "height, width = record_raw.get_size()\n",
    "im = viz_events(events, height, width)\n",
    "plt.imshow(im)\n",
    "plt.tight_layout()"
   ]
  },
  {
   "cell_type": "code",
   "execution_count": null,
   "id": "7d38c26d",
   "metadata": {
    "scrolled": false
   },
   "outputs": [],
   "source": [
    "height, width = record_raw.get_size()\n",
    "im = viz_events(filtered_events, height, width)\n",
    "plt.imshow(im)\n",
    "plt.tight_layout()"
   ]
  },
  {
   "cell_type": "code",
   "execution_count": null,
   "id": "8d4ca5b8",
   "metadata": {},
   "outputs": [],
   "source": [
    "im_rotated = skimage.transform.rotate(im, -36)"
   ]
  },
  {
   "cell_type": "code",
   "execution_count": null,
   "id": "1c18ef1f",
   "metadata": {},
   "outputs": [],
   "source": [
    "plt.imshow(im_rotated)\n",
    "plt.tight_layout()"
   ]
  },
  {
   "cell_type": "code",
   "execution_count": null,
   "id": "1ab539e9",
   "metadata": {},
   "outputs": [],
   "source": [
    "im_rotated_crop = im_rotated[120:400]"
   ]
  },
  {
   "cell_type": "code",
   "execution_count": null,
   "id": "dfcb26fb",
   "metadata": {},
   "outputs": [],
   "source": [
    "plt.imshow(im_rotated_crop)\n",
    "plt.tight_layout()"
   ]
  },
  {
   "cell_type": "markdown",
   "id": "cc965fb7",
   "metadata": {},
   "source": [
    "### Conversion to image-like array\n",
    "* 8bit, Z or T, X, Y, C \n",
    "* e.g. np.random.randint(0, 255, (100, 720, 1280, 3), 'uint8')"
   ]
  },
  {
   "cell_type": "code",
   "execution_count": null,
   "id": "6742c061",
   "metadata": {},
   "outputs": [],
   "source": [
    "@nb.njit\n",
    "def events_to_stack(events, dt=1000, imagesize=(720, 1280)):\n",
    "    height, width = imagesize\n",
    "    min_timepoint = events['t'].min()\n",
    "    max_timepoint = events['t'].max()\n",
    "    \n",
    "    timepoints = int(np.ceil((max_timepoint - min_timepoint)/dt))    \n",
    "    \n",
    "    # generate a numpy array with the width \n",
    "    eventstack = np.zeros((timepoints,height,width,2), dtype='uint8')\n",
    "    \n",
    "    for event in events:\n",
    "        x_pos = event[1]\n",
    "        y_pos = event[0]\n",
    "        timepoint = np.floor_divide((event[3]-min_timepoint),dt)\n",
    "        if event[2] == 0:\n",
    "            if eventstack[timepoint, x_pos, y_pos, 0] < 255:\n",
    "                eventstack[timepoint, x_pos, y_pos, 0] += 1\n",
    "        else: \n",
    "            if eventstack[timepoint, x_pos, y_pos, 1] < 255:\n",
    "                eventstack[timepoint, x_pos, y_pos, 1] += 1\n",
    "             \n",
    "    \n",
    "    return eventstack "
   ]
  },
  {
   "cell_type": "code",
   "execution_count": null,
   "id": "438294d3",
   "metadata": {
    "scrolled": true
   },
   "outputs": [],
   "source": [
    "eventstack = events_to_stack(events, dt=1000)\n",
    "print('Size of the eventstack in GB: ', eventstack.size/8/1024/1024/1024)"
   ]
  },
  {
   "cell_type": "code",
   "execution_count": null,
   "id": "1794c8c3",
   "metadata": {},
   "outputs": [],
   "source": [
    "eventstack.shape"
   ]
  },
  {
   "cell_type": "code",
   "execution_count": null,
   "id": "3e0d72c2",
   "metadata": {},
   "outputs": [],
   "source": [
    "filtered_eventstack = events_to_stack(filtered_events, dt=1000)"
   ]
  },
  {
   "cell_type": "markdown",
   "id": "baca7833",
   "metadata": {},
   "source": [
    "### Rotate Dataset"
   ]
  },
  {
   "cell_type": "code",
   "execution_count": null,
   "id": "1c0004d1",
   "metadata": {},
   "outputs": [],
   "source": [
    "testim = filtered_eventstack[0]"
   ]
  },
  {
   "cell_type": "code",
   "execution_count": null,
   "id": "056e13bb",
   "metadata": {},
   "outputs": [],
   "source": [
    "plt.imshow(testim[:,:,0])\n",
    "plt.tight_layout()"
   ]
  },
  {
   "cell_type": "code",
   "execution_count": null,
   "id": "dd7b2ba5",
   "metadata": {},
   "outputs": [],
   "source": [
    "def rotate_stack(stack, angle):\n",
    "    rotated_stack = np.zeros_like(stack)\n",
    "    for plane in range(len(stack)):\n",
    "        rotated_stack[plane,:,:,0] = skimage.transform.rotate(stack[plane,:,:,0], angle)\n",
    "        rotated_stack[plane,:,:,1] = skimage.transform.rotate(stack[plane,:,:,1], angle)\n",
    "    return rotated_stack"
   ]
  },
  {
   "cell_type": "code",
   "execution_count": null,
   "id": "5cca315e",
   "metadata": {},
   "outputs": [],
   "source": [
    "import time"
   ]
  },
  {
   "cell_type": "code",
   "execution_count": null,
   "id": "3f1f40d9",
   "metadata": {},
   "outputs": [],
   "source": [
    "rotated_stack_plane = skimage.transform.rotate(filtered_eventstack[300,:,:,0], -36)"
   ]
  },
  {
   "cell_type": "code",
   "execution_count": null,
   "id": "9e5f6009",
   "metadata": {
    "scrolled": true
   },
   "outputs": [],
   "source": [
    "time1 = time.time()\n",
    "filtered_events_rotated = rotate_stack(filtered_eventstack, -36)\n",
    "time2 = time.time()\n",
    "dt = time2-time1\n",
    "print('Time in s: ', dt)"
   ]
  },
  {
   "cell_type": "code",
   "execution_count": null,
   "id": "3487dc9f",
   "metadata": {},
   "outputs": [],
   "source": [
    "filtered_eventstack_crop = filtered_events_rotated[:,120:400,:]"
   ]
  },
  {
   "cell_type": "code",
   "execution_count": null,
   "id": "1b9a40ac",
   "metadata": {},
   "outputs": [],
   "source": [
    "testim2 = filtered_eventstack_crop[10]"
   ]
  },
  {
   "cell_type": "code",
   "execution_count": null,
   "id": "eaf8c2d2",
   "metadata": {},
   "outputs": [],
   "source": [
    "plt.imshow(rotated_stack_plane)\n",
    "plt.tight_layout()"
   ]
  },
  {
   "cell_type": "code",
   "execution_count": null,
   "id": "bebf4798",
   "metadata": {},
   "outputs": [],
   "source": [
    "filtered_eventstack_crop = filtered_events_rotated[:,120:400,:]"
   ]
  },
  {
   "cell_type": "code",
   "execution_count": null,
   "id": "ff1f453c",
   "metadata": {},
   "outputs": [],
   "source": [
    "filtered_eventstack_crop.shape"
   ]
  },
  {
   "cell_type": "code",
   "execution_count": null,
   "id": "1742f1c5",
   "metadata": {},
   "outputs": [],
   "source": [
    "np.max(filtered_eventstack_crop)"
   ]
  },
  {
   "cell_type": "markdown",
   "id": "7939bc70",
   "metadata": {},
   "source": [
    "### Napari visualization"
   ]
  },
  {
   "cell_type": "code",
   "execution_count": null,
   "id": "d5c78baf",
   "metadata": {},
   "outputs": [],
   "source": [
    "viewer = napari.Viewer()"
   ]
  },
  {
   "cell_type": "code",
   "execution_count": null,
   "id": "360cd1b2",
   "metadata": {},
   "outputs": [],
   "source": [
    "my_new_layer = viewer.add_image(filtered_eventstack, channel_axis=3, contrast_limits=[[0,2],[0,2]], name=['ON Events', 'Off Events'])"
   ]
  },
  {
   "cell_type": "code",
   "execution_count": null,
   "id": "e84b8212",
   "metadata": {},
   "outputs": [],
   "source": [
    "my_new_layer = viewer.add_image(filtered_eventstack_crop, channel_axis=3, contrast_limits=[[0,2],[0,2]], name=['ON Events', 'Off Events'])"
   ]
  },
  {
   "cell_type": "markdown",
   "id": "63809c9c",
   "metadata": {},
   "source": [
    "### Exporting data"
   ]
  },
  {
   "cell_type": "code",
   "execution_count": null,
   "id": "f9fbd9d1",
   "metadata": {},
   "outputs": [],
   "source": [
    "#tifffile.imwrite('eventstack.tif', eventstack, photometric='minisblack')"
   ]
  }
 ],
 "metadata": {
  "kernelspec": {
   "display_name": "Python 3 (ipykernel)",
   "language": "python",
   "name": "python3"
  },
  "language_info": {
   "codemirror_mode": {
    "name": "ipython",
    "version": 3
   },
   "file_extension": ".py",
   "mimetype": "text/x-python",
   "name": "python",
   "nbconvert_exporter": "python",
   "pygments_lexer": "ipython3",
   "version": "3.9.16"
  }
 },
 "nbformat": 4,
 "nbformat_minor": 5
}
