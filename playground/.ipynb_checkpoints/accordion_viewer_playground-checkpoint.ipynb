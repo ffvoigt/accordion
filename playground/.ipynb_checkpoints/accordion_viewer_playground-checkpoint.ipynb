{
 "cells": [
  {
   "cell_type": "code",
   "execution_count": 1,
   "id": "de5070cd",
   "metadata": {},
   "outputs": [],
   "source": [
    "import numpy as np\n"
   ]
  },
  {
   "cell_type": "code",
   "execution_count": 3,
   "id": "9ad850f2",
   "metadata": {},
   "outputs": [],
   "source": [
    "data = np.random.rand(10,2)"
   ]
  },
  {
   "cell_type": "code",
   "execution_count": 6,
   "id": "50269a1a",
   "metadata": {},
   "outputs": [
    {
     "data": {
      "text/plain": [
       "array([[0.38250626, 0.47710842],\n",
       "       [0.06804447, 0.67905177],\n",
       "       [0.30426776, 0.38733615],\n",
       "       [0.1512292 , 0.57159859],\n",
       "       [0.46431301, 0.3012122 ],\n",
       "       [0.6996288 , 0.0891823 ],\n",
       "       [0.31283163, 0.95327801],\n",
       "       [0.85195765, 0.43173639],\n",
       "       [0.00935728, 0.21672897],\n",
       "       [0.29033498, 0.54066562]])"
      ]
     },
     "execution_count": 6,
     "metadata": {},
     "output_type": "execute_result"
    }
   ],
   "source": [
    "data"
   ]
  },
  {
   "cell_type": "code",
   "execution_count": 5,
   "id": "6f1db3a1",
   "metadata": {
    "scrolled": true
   },
   "outputs": [
    {
     "data": {
      "text/plain": [
       "array([0.38250626, 0.06804447, 0.30426776, 0.1512292 , 0.46431301,\n",
       "       0.6996288 , 0.31283163, 0.85195765, 0.00935728, 0.29033498])"
      ]
     },
     "execution_count": 5,
     "metadata": {},
     "output_type": "execute_result"
    }
   ],
   "source": [
    "data[:,0]*"
   ]
  },
  {
   "cell_type": "code",
   "execution_count": 21,
   "id": "28b595bb",
   "metadata": {},
   "outputs": [],
   "source": [
    "a = np.random.randint(0, 1281, (10))\n",
    "b = np.random.randint(0, 721, (10))"
   ]
  },
  {
   "cell_type": "code",
   "execution_count": 22,
   "id": "c5abd338-f82a-44c8-8e05-768448ca5b65",
   "metadata": {},
   "outputs": [
    {
     "data": {
      "text/plain": [
       "array([1062, 1126,  581,  712,   62, 1228, 1152,   94,  805, 1216])"
      ]
     },
     "execution_count": 22,
     "metadata": {},
     "output_type": "execute_result"
    }
   ],
   "source": [
    "a"
   ]
  },
  {
   "cell_type": "code",
   "execution_count": 23,
   "id": "1c8576d4-57f3-4792-a0c2-8f40dad4ee3a",
   "metadata": {},
   "outputs": [
    {
     "data": {
      "text/plain": [
       "array([562, 166,  53, 651,  24, 362,  60, 199, 226, 576])"
      ]
     },
     "execution_count": 23,
     "metadata": {},
     "output_type": "execute_result"
    }
   ],
   "source": [
    "b"
   ]
  },
  {
   "cell_type": "code",
   "execution_count": 24,
   "id": "1150b44c-51ca-45a7-a13e-54fc6610aefa",
   "metadata": {},
   "outputs": [
    {
     "data": {
      "text/plain": [
       "[array([1062, 1126,  581,  712,   62, 1228, 1152,   94,  805, 1216]),\n",
       " array([562, 166,  53, 651,  24, 362,  60, 199, 226, 576])]"
      ]
     },
     "execution_count": 24,
     "metadata": {},
     "output_type": "execute_result"
    }
   ],
   "source": [
    "[a,b]"
   ]
  },
  {
   "cell_type": "code",
   "execution_count": 30,
   "id": "ec27b1b5-642e-4172-85fe-905b9bcab6d6",
   "metadata": {},
   "outputs": [
    {
     "data": {
      "text/plain": [
       "array([[1062,  562,  562],\n",
       "       [1126,  166,  166],\n",
       "       [ 581,   53,   53],\n",
       "       [ 712,  651,  651],\n",
       "       [  62,   24,   24],\n",
       "       [1228,  362,  362],\n",
       "       [1152,   60,   60],\n",
       "       [  94,  199,  199],\n",
       "       [ 805,  226,  226],\n",
       "       [1216,  576,  576]])"
      ]
     },
     "execution_count": 30,
     "metadata": {},
     "output_type": "execute_result"
    }
   ],
   "source": [
    "np.stack((a,b)).T"
   ]
  },
  {
   "cell_type": "code",
   "execution_count": 13,
   "id": "f48a2a50",
   "metadata": {},
   "outputs": [
    {
     "data": {
      "text/plain": [
       "array([[0],\n",
       "       [1],\n",
       "       [1],\n",
       "       [0],\n",
       "       [1],\n",
       "       [0],\n",
       "       [0],\n",
       "       [1],\n",
       "       [0],\n",
       "       [0]])"
      ]
     },
     "execution_count": 13,
     "metadata": {},
     "output_type": "execute_result"
    }
   ],
   "source": [
    "np.random.randint(0, 2, (10,1))"
   ]
  },
  {
   "cell_type": "code",
   "execution_count": 33,
   "id": "7ce27fa2",
   "metadata": {},
   "outputs": [
    {
     "data": {
      "text/plain": [
       "array([1, 0, 0, 1, 0, 0, 0, 0, 0, 0])"
      ]
     },
     "execution_count": 33,
     "metadata": {},
     "output_type": "execute_result"
    }
   ],
   "source": [
    "np.random.randint(0,2,10)"
   ]
  },
  {
   "cell_type": "code",
   "execution_count": 35,
   "id": "4d9b8767-6d5c-43fb-8f52-69a47bb5ba26",
   "metadata": {},
   "outputs": [],
   "source": [
    "event_type = np.random.randint(0,500,500)"
   ]
  },
  {
   "cell_type": "code",
   "execution_count": 36,
   "id": "e21e6426-1c05-4490-9169-f6b39346d637",
   "metadata": {},
   "outputs": [
    {
     "data": {
      "text/plain": [
       "dtype('int64')"
      ]
     },
     "execution_count": 36,
     "metadata": {},
     "output_type": "execute_result"
    }
   ],
   "source": [
    "event_type.dtype"
   ]
  },
  {
   "cell_type": "code",
   "execution_count": 42,
   "id": "4f766ae6-bda3-4dfe-ac28-ebc242ad0db6",
   "metadata": {},
   "outputs": [
    {
     "name": "stdout",
     "output_type": "stream",
     "text": [
      "4.36 µs ± 43 ns per loop (mean ± std. dev. of 7 runs, 100,000 loops each)\n"
     ]
    }
   ],
   "source": [
    "%timeit np.random.randint(0,500,500)"
   ]
  },
  {
   "cell_type": "code",
   "execution_count": 52,
   "id": "72d763ed-72e7-4353-acb9-31c5a7ecfb90",
   "metadata": {},
   "outputs": [],
   "source": [
    "def create_and_sort_values(n):\n",
    "    return np.sort(np.random.randint(0,500,n))"
   ]
  },
  {
   "cell_type": "code",
   "execution_count": 54,
   "id": "77113054-1b7d-4ef2-8992-9dc4233d92f3",
   "metadata": {},
   "outputs": [
    {
     "name": "stdout",
     "output_type": "stream",
     "text": [
      "24.5 µs ± 134 ns per loop (mean ± std. dev. of 7 runs, 10,000 loops each)\n"
     ]
    }
   ],
   "source": [
    "%timeit create_and_sort_values(500)"
   ]
  },
  {
   "cell_type": "code",
   "execution_count": 47,
   "id": "7f068a5e-d86e-4efa-be3d-27107abe5f96",
   "metadata": {},
   "outputs": [],
   "source": [
    "from numba import jit"
   ]
  },
  {
   "cell_type": "code",
   "execution_count": 57,
   "id": "3ef84f9b-5276-49eb-8379-43ed9494705b",
   "metadata": {},
   "outputs": [],
   "source": [
    "@jit(nopython=True)\n",
    "def create_and_sort_values_numba(n):\n",
    "    data = np.random.randint(0,500,n)\n",
    "    data = np.sort(data)"
   ]
  },
  {
   "cell_type": "code",
   "execution_count": 59,
   "id": "69cbb763-d795-46aa-a85e-9a3fbc55d664",
   "metadata": {},
   "outputs": [
    {
     "name": "stdout",
     "output_type": "stream",
     "text": [
      "15.8 µs ± 56.9 ns per loop (mean ± std. dev. of 7 runs, 100,000 loops each)\n"
     ]
    }
   ],
   "source": [
    "%timeit create_and_sort_values_numba(500)"
   ]
  }
 ],
 "metadata": {
  "kernelspec": {
   "display_name": "Python 3 (ipykernel)",
   "language": "python",
   "name": "python3"
  },
  "language_info": {
   "codemirror_mode": {
    "name": "ipython",
    "version": 3
   },
   "file_extension": ".py",
   "mimetype": "text/x-python",
   "name": "python",
   "nbconvert_exporter": "python",
   "pygments_lexer": "ipython3",
   "version": "3.11.5"
  }
 },
 "nbformat": 4,
 "nbformat_minor": 5
}
