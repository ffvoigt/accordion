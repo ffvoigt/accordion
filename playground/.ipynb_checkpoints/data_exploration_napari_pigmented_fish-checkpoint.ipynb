{
 "cells": [
  {
   "cell_type": "code",
   "execution_count": 1,
   "id": "bc0889e8",
   "metadata": {
    "scrolled": true
   },
   "outputs": [],
   "source": [
    "import sys\n",
    "import os\n",
    "import numpy as np\n",
    "import napari\n",
    "%matplotlib inline\n",
    "from matplotlib import pyplot as plt  # graphic library, for plots\n",
    "import numba as nb\n",
    "import tifffile\n",
    "import skimage"
   ]
  },
  {
   "cell_type": "code",
   "execution_count": 2,
   "id": "c990096f",
   "metadata": {},
   "outputs": [],
   "source": [
    "import filedialogs"
   ]
  },
  {
   "cell_type": "code",
   "execution_count": 3,
   "id": "c653f4b8",
   "metadata": {},
   "outputs": [],
   "source": [
    "from metavision_core.event_io.raw_reader import RawReader\n",
    "from metavision_core.event_io.py_reader import EventDatReader\n",
    "from metavision_core.event_io import EventsIterator\n",
    "from metavision_sdk_cv import ActivityNoiseFilterAlgorithm"
   ]
  },
  {
   "cell_type": "markdown",
   "id": "98ee8136",
   "metadata": {},
   "source": [
    "### Loading Datasets"
   ]
  },
  {
   "cell_type": "code",
   "execution_count": null,
   "id": "0201a266",
   "metadata": {},
   "outputs": [],
   "source": [
    "#path = filedialogs.gui_fname('example_data/')\n",
    "#path = path.decode('ascii')"
   ]
  },
  {
   "cell_type": "code",
   "execution_count": 4,
   "id": "67a212c0",
   "metadata": {},
   "outputs": [],
   "source": [
    "path = 'C:/Users/B0067-WS-2/Documents/code/github-ffvoigt/accordion/playground/example_data/bloodflow_5s.raw'"
   ]
  },
  {
   "cell_type": "code",
   "execution_count": 5,
   "id": "f75acc6b",
   "metadata": {},
   "outputs": [
    {
     "name": "stdout",
     "output_type": "stream",
     "text": [
      "RawReader(C:/Users/B0067-WS-2/Documents/code/github-ffvoigt/accordion/playground/example_data/bloodflow_5s.raw)\n",
      "current time : 0us done : False\n",
      "current event index : 0\n",
      "_begin_buffer 0,_end_buffer_ 0,  buffer_size 100000000\n"
     ]
    }
   ],
   "source": [
    "record_raw = RawReader(path, max_events=100000000)\n",
    "print(record_raw)"
   ]
  },
  {
   "cell_type": "code",
   "execution_count": 6,
   "id": "56aa4197",
   "metadata": {
    "scrolled": false
   },
   "outputs": [
    {
     "name": "stdout",
     "output_type": "stream",
     "text": [
      "Start Time:   6.96  ms\n",
      "End Time:     4999.998  ms\n",
      "Total Events: 76169784\n"
     ]
    }
   ],
   "source": [
    "events = record_raw.load_n_events(90000000)\n",
    "print('Start Time:  ', events['t'][0]/1000, ' ms')\n",
    "print('End Time:    ', events['t'][-1]/1000, ' ms')\n",
    "print('Total Events:', len(events))"
   ]
  },
  {
   "cell_type": "markdown",
   "id": "d7dac072",
   "metadata": {},
   "source": [
    "### Noise filtering\n",
    "For whatever reason: If `filtered_events_` and `filtered_events` are the same variable, the export doesn't work"
   ]
  },
  {
   "cell_type": "code",
   "execution_count": 7,
   "id": "b7955d75",
   "metadata": {
    "scrolled": false
   },
   "outputs": [
    {
     "name": "stdout",
     "output_type": "stream",
     "text": [
      "Started with:  76169784  events\n",
      "After filtering:  57327737  events\n"
     ]
    }
   ],
   "source": [
    "print('Started with: ', len(events),' events' )\n",
    "noisereductionfilter = ActivityNoiseFilterAlgorithm(1280,720,1000)\n",
    "filtered_events_ = noisereductionfilter.get_empty_output_buffer()\n",
    "noisereductionfilter.process_events(events, filtered_events_)\n",
    "filtered_events = filtered_events_.numpy()\n",
    "print('After filtering: ', len(filtered_events),' events' )"
   ]
  },
  {
   "cell_type": "markdown",
   "id": "f07c470c",
   "metadata": {},
   "source": [
    "### Quick visualization"
   ]
  },
  {
   "cell_type": "code",
   "execution_count": null,
   "id": "c9c636cc",
   "metadata": {},
   "outputs": [],
   "source": [
    "def viz_events(events, height, width):\n",
    "    img = np.full((height, width, 3), 128, dtype=np.uint8)\n",
    "    img[events['y'], events['x']] = 255 * events['p'][:, None]\n",
    "    return img"
   ]
  },
  {
   "cell_type": "code",
   "execution_count": null,
   "id": "2d478432",
   "metadata": {
    "scrolled": false
   },
   "outputs": [],
   "source": [
    "height, width = record_raw.get_size()\n",
    "im = viz_events(events, height, width)\n",
    "plt.imshow(im)\n",
    "plt.tight_layout()"
   ]
  },
  {
   "cell_type": "code",
   "execution_count": null,
   "id": "40c90b63",
   "metadata": {
    "scrolled": false
   },
   "outputs": [],
   "source": [
    "height, width = record_raw.get_size()\n",
    "im = viz_events(filtered_events, height, width)\n",
    "plt.imshow(im)\n",
    "plt.tight_layout()"
   ]
  },
  {
   "cell_type": "code",
   "execution_count": null,
   "id": "73bd5981",
   "metadata": {},
   "outputs": [],
   "source": [
    "im_rotated = skimage.transform.rotate(im, -36)"
   ]
  },
  {
   "cell_type": "code",
   "execution_count": null,
   "id": "7173f733",
   "metadata": {},
   "outputs": [],
   "source": [
    "plt.imshow(im_rotated)\n",
    "plt.tight_layout()"
   ]
  },
  {
   "cell_type": "code",
   "execution_count": null,
   "id": "07e51f2c",
   "metadata": {},
   "outputs": [],
   "source": [
    "im_rotated_crop = im_rotated[120:400]"
   ]
  },
  {
   "cell_type": "code",
   "execution_count": null,
   "id": "6029ed1a",
   "metadata": {},
   "outputs": [],
   "source": [
    "plt.imshow(im_rotated_crop)\n",
    "plt.tight_layout()"
   ]
  },
  {
   "cell_type": "markdown",
   "id": "f804c6ca",
   "metadata": {},
   "source": [
    "### Conversion to image-like array\n",
    "* 8bit, Z or T, X, Y, C \n",
    "* e.g. np.random.randint(0, 255, (100, 720, 1280, 3), 'uint8')"
   ]
  },
  {
   "cell_type": "code",
   "execution_count": 8,
   "id": "d8541ed3",
   "metadata": {},
   "outputs": [],
   "source": [
    "@nb.njit\n",
    "def events_to_stack(events, dt=1000, imagesize=(720, 1280)):\n",
    "    height, width = imagesize\n",
    "    min_timepoint = events['t'].min()\n",
    "    max_timepoint = events['t'].max()\n",
    "    \n",
    "    timepoints = int(np.ceil((max_timepoint - min_timepoint)/dt))    \n",
    "    \n",
    "    # generate a numpy array with the width \n",
    "    eventstack = np.zeros((timepoints,height,width,2), dtype='uint8')\n",
    "    \n",
    "    for event in events:\n",
    "        x_pos = event[1]\n",
    "        y_pos = event[0]\n",
    "        timepoint = np.floor_divide((event[3]-min_timepoint),dt)\n",
    "        if event[2] == 0:\n",
    "            if eventstack[timepoint, x_pos, y_pos, 0] < 255:\n",
    "                eventstack[timepoint, x_pos, y_pos, 0] += 1\n",
    "        else: \n",
    "            if eventstack[timepoint, x_pos, y_pos, 1] < 255:\n",
    "                eventstack[timepoint, x_pos, y_pos, 1] += 1\n",
    "             \n",
    "    \n",
    "    return eventstack "
   ]
  },
  {
   "cell_type": "code",
   "execution_count": 9,
   "id": "2f78c03b",
   "metadata": {
    "scrolled": true
   },
   "outputs": [
    {
     "name": "stdout",
     "output_type": "stream",
     "text": [
      "Size of the eventstack in GB:  1.0715961456298828\n"
     ]
    }
   ],
   "source": [
    "eventstack = events_to_stack(events, dt=1000)\n",
    "print('Size of the eventstack in GB: ', eventstack.size/8/1024/1024/1024)"
   ]
  },
  {
   "cell_type": "code",
   "execution_count": null,
   "id": "8966af29",
   "metadata": {},
   "outputs": [],
   "source": [
    "eventstack.shape"
   ]
  },
  {
   "cell_type": "code",
   "execution_count": 10,
   "id": "6f665aef",
   "metadata": {},
   "outputs": [
    {
     "name": "stdout",
     "output_type": "stream",
     "text": [
      "Size of the filtered eventstack in GB:  1.0715961456298828\n"
     ]
    }
   ],
   "source": [
    "filtered_eventstack = events_to_stack(filtered_events, dt=1000)\n",
    "print('Size of the filtered eventstack in GB: ', eventstack.size/8/1024/1024/1024)"
   ]
  },
  {
   "cell_type": "markdown",
   "id": "1b14aea5",
   "metadata": {},
   "source": [
    "### Rotate Dataset"
   ]
  },
  {
   "cell_type": "code",
   "execution_count": null,
   "id": "156cb332",
   "metadata": {},
   "outputs": [],
   "source": [
    "testim = filtered_eventstack[0]"
   ]
  },
  {
   "cell_type": "code",
   "execution_count": null,
   "id": "7b9221ae",
   "metadata": {},
   "outputs": [],
   "source": [
    "plt.imshow(testim[:,:,0])\n",
    "plt.tight_layout()"
   ]
  },
  {
   "cell_type": "code",
   "execution_count": null,
   "id": "85520730",
   "metadata": {},
   "outputs": [],
   "source": [
    "def rotate_stack(stack, angle):\n",
    "    rotated_stack = np.zeros_like(stack)\n",
    "    for plane in range(len(stack)):\n",
    "        rotated_stack[plane,:,:,0] = skimage.transform.rotate(stack[plane,:,:,0], angle)\n",
    "        rotated_stack[plane,:,:,1] = skimage.transform.rotate(stack[plane,:,:,1], angle)\n",
    "    return rotated_stack"
   ]
  },
  {
   "cell_type": "code",
   "execution_count": null,
   "id": "e178a01c",
   "metadata": {},
   "outputs": [],
   "source": [
    "import time"
   ]
  },
  {
   "cell_type": "code",
   "execution_count": null,
   "id": "889bf4b1",
   "metadata": {},
   "outputs": [],
   "source": [
    "rotated_stack_plane = skimage.transform.rotate(filtered_eventstack[300,:,:,0], -36)"
   ]
  },
  {
   "cell_type": "code",
   "execution_count": null,
   "id": "09054eb3",
   "metadata": {
    "scrolled": true
   },
   "outputs": [],
   "source": [
    "time1 = time.time()\n",
    "filtered_events_rotated = rotate_stack(filtered_eventstack, -36)\n",
    "time2 = time.time()\n",
    "dt = time2-time1\n",
    "print('Time in s: ', dt)"
   ]
  },
  {
   "cell_type": "code",
   "execution_count": null,
   "id": "e84bba2e",
   "metadata": {},
   "outputs": [],
   "source": [
    "filtered_eventstack_crop = filtered_events_rotated[:,120:400,:]"
   ]
  },
  {
   "cell_type": "code",
   "execution_count": null,
   "id": "e6c9b157",
   "metadata": {},
   "outputs": [],
   "source": [
    "testim2 = filtered_eventstack_crop[10]"
   ]
  },
  {
   "cell_type": "code",
   "execution_count": null,
   "id": "eb215de3",
   "metadata": {},
   "outputs": [],
   "source": [
    "plt.imshow(rotated_stack_plane)\n",
    "plt.tight_layout()"
   ]
  },
  {
   "cell_type": "code",
   "execution_count": null,
   "id": "80ff12a2",
   "metadata": {},
   "outputs": [],
   "source": [
    "filtered_eventstack_crop = filtered_events_rotated[:,120:400,:]"
   ]
  },
  {
   "cell_type": "code",
   "execution_count": null,
   "id": "de28e621",
   "metadata": {},
   "outputs": [],
   "source": [
    "filtered_eventstack_crop.shape"
   ]
  },
  {
   "cell_type": "code",
   "execution_count": null,
   "id": "07806fd2",
   "metadata": {},
   "outputs": [],
   "source": [
    "np.max(filtered_eventstack_crop)"
   ]
  },
  {
   "cell_type": "markdown",
   "id": "157ca140",
   "metadata": {},
   "source": [
    "### Napari visualization"
   ]
  },
  {
   "cell_type": "code",
   "execution_count": 16,
   "id": "0caa11b8",
   "metadata": {},
   "outputs": [
    {
     "name": "stderr",
     "output_type": "stream",
     "text": [
      "toggle_ndisplay() missing 1 required positional argument: 'viewer'\n",
      "Traceback (most recent call last):\n",
      "  File \"C:\\Users\\B0067-WS-2\\.conda\\envs\\eventcam1\\lib\\site-packages\\in_n_out\\_store.py\", line 805, in _exec\n",
      "    result = func(**bound.arguments)\n",
      "TypeError: toggle_ndisplay() missing 1 required positional argument: 'viewer'\n",
      "roll_axes() missing 1 required positional argument: 'viewer'\n",
      "Traceback (most recent call last):\n",
      "  File \"C:\\Users\\B0067-WS-2\\.conda\\envs\\eventcam1\\lib\\site-packages\\in_n_out\\_store.py\", line 805, in _exec\n",
      "    result = func(**bound.arguments)\n",
      "TypeError: roll_axes() missing 1 required positional argument: 'viewer'\n"
     ]
    }
   ],
   "source": [
    "viewer = napari.Viewer()"
   ]
  },
  {
   "cell_type": "code",
   "execution_count": null,
   "id": "f6657b1f",
   "metadata": {},
   "outputs": [],
   "source": [
    "my_new_layer = viewer.add_image(filtered_eventstack, channel_axis=3, contrast_limits=[[0,2],[0,2]], name=['ON Events', 'Off Events'])"
   ]
  },
  {
   "cell_type": "code",
   "execution_count": null,
   "id": "62c4b9c5",
   "metadata": {},
   "outputs": [],
   "source": [
    "my_new_layer = viewer.add_image(filtered_eventstack_crop, channel_axis=3, contrast_limits=[[0,2],[0,2]], name=['ON Events', 'Off Events'])"
   ]
  },
  {
   "cell_type": "markdown",
   "id": "f21c0757",
   "metadata": {},
   "source": [
    "### Exporting data"
   ]
  },
  {
   "cell_type": "code",
   "execution_count": 12,
   "id": "2b5c946f",
   "metadata": {},
   "outputs": [],
   "source": [
    "on_events = filtered_eventstack[:,:,:,1]"
   ]
  },
  {
   "cell_type": "code",
   "execution_count": 13,
   "id": "d692f431",
   "metadata": {},
   "outputs": [],
   "source": [
    "off_events = filtered_eventstack[:,:,:,0]"
   ]
  },
  {
   "cell_type": "code",
   "execution_count": 15,
   "id": "f9fbd9d1",
   "metadata": {},
   "outputs": [],
   "source": [
    "tifffile.imwrite('bloodflow_5s_1ms_off_events.tif', off_events, photometric='minisblack')"
   ]
  }
 ],
 "metadata": {
  "kernelspec": {
   "display_name": "Python 3 (ipykernel)",
   "language": "python",
   "name": "python3"
  },
  "language_info": {
   "codemirror_mode": {
    "name": "ipython",
    "version": 3
   },
   "file_extension": ".py",
   "mimetype": "text/x-python",
   "name": "python",
   "nbconvert_exporter": "python",
   "pygments_lexer": "ipython3",
   "version": "3.9.16"
  }
 },
 "nbformat": 4,
 "nbformat_minor": 5
}
