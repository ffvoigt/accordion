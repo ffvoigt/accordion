{
 "cells": [
  {
   "cell_type": "code",
   "execution_count": 1,
   "id": "19e809af",
   "metadata": {},
   "outputs": [],
   "source": [
    "import numpy as np"
   ]
  },
  {
   "cell_type": "code",
   "execution_count": 6,
   "id": "d280c2aa",
   "metadata": {},
   "outputs": [],
   "source": [
    "%matplotlib inline\n",
    "%load_ext autoreload\n",
    "%autoreload 2"
   ]
  },
  {
   "cell_type": "code",
   "execution_count": 7,
   "id": "81ccfca9",
   "metadata": {},
   "outputs": [
    {
     "data": {
      "text/plain": [
       "<PyQt5.QtCore.QMetaObject.Connection at 0x21e2e84feb0>"
      ]
     },
     "execution_count": 7,
     "metadata": {},
     "output_type": "execute_result"
    },
    {
     "name": "stdout",
     "output_type": "stream",
     "text": [
      "mouse_moved\n",
      "mouse_moved\n",
      "mouse_moved\n",
      "mouse_moved\n",
      "mouse_moved\n",
      "mouse_moved\n",
      "mouse_moved\n",
      "mouse_moved\n",
      "mouse_moved\n",
      "mouse_moved\n",
      "mouse_moved\n",
      "mouse_moved\n",
      "mouse_moved\n",
      "mouse_moved\n",
      "mouse_moved\n",
      "mouse_moved\n",
      "mouse_moved\n",
      "mouse_moved\n",
      "mouse_moved\n",
      "mouse_moved\n",
      "mouse_moved\n",
      "mouse_moved\n",
      "mouse_moved\n",
      "mouse_moved\n",
      "mouse_moved\n",
      "mouse_moved\n",
      "mouse_moved\n",
      "mouse_moved\n",
      "mouse_moved\n",
      "mouse_moved\n",
      "mouse_moved\n",
      "mouse_moved\n",
      "mouse_moved\n",
      "mouse_moved\n",
      "mouse_moved\n",
      "mouse_moved\n",
      "mouse_moved\n",
      "mouse_moved\n",
      "mouse_moved\n",
      "mouse_moved\n",
      "mouse_moved\n",
      "mouse_moved\n",
      "mouse_moved\n",
      "mouse_moved\n",
      "mouse_moved\n",
      "mouse_moved\n",
      "mouse_moved\n"
     ]
    }
   ],
   "source": [
    "%gui qt5\n",
    "from PyQt5.Qt import QApplication\n",
    "\n",
    "# start qt event loop\n",
    "_instance = QApplication.instance()\n",
    "if not _instance:\n",
    "    _instance = QApplication([])\n",
    "app = _instance\n",
    "\n",
    "import pyqtgraph as pg\n",
    "\n",
    "# create and and set layout\n",
    "view = pg.GraphicsView()   \n",
    "view.setWindowTitle('Your title')\n",
    "layout = pg.GraphicsLayout()\n",
    "view.setCentralItem(layout)\n",
    "view.show()\n",
    "\n",
    "# Set white graph\n",
    "pg.setConfigOptions(antialias=True)\n",
    "pg.setConfigOption('background', 'w')\n",
    "pg.setConfigOption('foreground', 'k')\n",
    "\n",
    "# add subplots\n",
    "p0 = layout.addPlot(0,0)\n",
    "p0.addLegend()\n",
    "p0.plot([1,2,3,4,5], pen='b', name='p0')\n",
    "\n",
    "p1 = layout.addPlot(1,0)\n",
    "p1.addLegend()\n",
    "p1.plot([2,2,2,2,], pen='r', name='p1')\n",
    "\n",
    "p2 = layout.addPlot(1,0)\n",
    "p2.addLegend(offset=(50, 0))\n",
    "p2.plot([-1,0,1,1,], pen='g', name='p1.1')\n",
    "p2.hideAxis('left')\n",
    "p2.showAxis('right')\n",
    "\n",
    "vb = p1.vb\n",
    "\n",
    "def mouseMoved(evt):\n",
    "    print('mouse_moved')\n",
    "    '''\n",
    "    pos = evt[0]  ## using signal proxy turns original arguments into a tuple\n",
    "    mousePoint = vb.mapSceneToView(pos)\n",
    "    print(mousePoint.x())\n",
    "    '''\n",
    "'''    \n",
    "proxy = pg.SignalProxy(p1.scene().sigMouseMoved, rateLimit=10, slot=mouseMoved)\n",
    "'''\n",
    "p1.scene().sigMouseMoved.connect(mouseMoved)\n",
    "    "
   ]
  },
  {
   "cell_type": "code",
   "execution_count": null,
   "id": "24b85637",
   "metadata": {},
   "outputs": [],
   "source": [
    "%gui qt5\n",
    "from PyQt5.Qt import QApplication\n",
    "import qdarkstyle\n",
    "import pyqtgraph as pg\n",
    "\n",
    "# start qt event loop\n",
    "_instance = QApplication.instance()\n",
    "if not _instance:\n",
    "    _instance = QApplication([])\n",
    "app = _instance\n",
    "#app.setStyleSheet(qdarkstyle.load_stylesheet(qt_api='pyqt5'))\n",
    "\n",
    "graphicsView = pg.GraphicsView()\n",
    "graphicsView.setWindowTitle('Your title')\n",
    "layout = pg.GraphicsLayout()\n",
    "graphicsView.setCentralItem(layout)\n",
    "graphicsView.show()\n",
    "\n",
    "XY_plot_layout = layout.addLayout(row=0, col=0, rowspan=2, colspan=1, border=(50,50,0))\n",
    "XY_plot = XY_plot_layout.addPlot()\n",
    "ET_plot = layout.addPlot(row=2, col=0, rowspan=1, colspan=1)\n",
    "ET_region_selection_plot = layout.addPlot(row=3, col=0, rowspan=1, colspan=1)\n",
    "XY_plot.setAspectLocked(True, ratio=1.77)\n",
    "\n",
    "ET_region = pg.LinearRegionItem(values=[1000,2000])\n",
    "ET_region.setZValue(10) # Move item up \n",
    "\n",
    "ET_region_selection_plot.addItem(ET_region, ignoreBounds = True)\n",
    "ET_plot.setAutoVisible(y=True)\n",
    "\n",
    "data1 = 10000 + 15000 * pg.gaussianFilter(np.random.random(size=10000), 10) + 3000 * np.random.random(size=10000)\n",
    "data2 = 15000 + 15000 * pg.gaussianFilter(np.random.random(size=10000), 10) + 3000 * np.random.random(size=10000)\n",
    "\n",
    "ET_plot.plot(data1, pen=\"r\")\n",
    "ET_region_selection_plot.plot(data1, pen=\"r\")\n",
    "\n",
    "s4 = pg.ScatterPlotItem(\n",
    "            size=3,\n",
    "            pen=pg.mkPen(None),\n",
    "            brush=pg.mkBrush(0, 0, 0, 20))\n",
    "n = 10000\n",
    "pos = np.random.normal(size=(2, n), scale=1e-9)\n",
    "s4.addPoints(x=pos[0],\n",
    "                y=pos[1],\n",
    "                # size=(np.random.random(n) * 20.).astype(int),\n",
    "                # brush=[pg.mkBrush(x) for x in np.random.randint(0, 256, (n, 3))],\n",
    "                data=np.arange(n)\n",
    "                )\n",
    "XY_plot.addItem(s4)\n",
    "\n",
    "def update():\n",
    "    ET_region.setZValue(10)\n",
    "    minX, maxX = ET_region.getRegion()\n",
    "    ET_plot.setXRange(minX, maxX, padding=0)\n",
    "    \n",
    "ET_region.sigRegionChanged.connect(update)"
   ]
  },
  {
   "cell_type": "markdown",
   "id": "663c0c4c",
   "metadata": {},
   "source": [
    "#### Prototyping a multi-window tool"
   ]
  },
  {
   "cell_type": "code",
   "execution_count": 2,
   "id": "7fd24223",
   "metadata": {},
   "outputs": [],
   "source": [
    "%gui qt5\n",
    "from PyQt5.Qt import QApplication\n",
    "import qdarkstyle\n",
    "import pyqtgraph as pg"
   ]
  },
  {
   "cell_type": "code",
   "execution_count": 3,
   "id": "7242ae62",
   "metadata": {},
   "outputs": [],
   "source": [
    "# start qt event loop\n",
    "_instance = QApplication.instance()\n",
    "if not _instance:\n",
    "    _instance = QApplication([])\n",
    "app = _instance"
   ]
  },
  {
   "cell_type": "code",
   "execution_count": 7,
   "id": "6192b0da",
   "metadata": {},
   "outputs": [],
   "source": [
    "class EventExplorer():\n",
    "    def __init__(self):\n",
    "        #self.events = eventdict\n",
    "        self.graphicsView = pg.GraphicsView()\n",
    "        self.graphicsView.setWindowTitle('Event Explorer')\n",
    "        self.layout = pg.GraphicsLayout()\n",
    "        self.graphicsView.setCentralItem(self.layout)\n",
    "        self.graphicsView.show()\n",
    "        \n",
    "        self.ET_window = EventTimeSelector()\n",
    "        self.ET_window.show()\n",
    "        \n",
    "class EventTimeSelector():\n",
    "    def __init__(self):\n",
    "        self.view = pg.GraphicsView()   \n",
    "        self.view.setWindowTitle('Event-Time-Selector')\n",
    "        self.layout = pg.GraphicsLayout()\n",
    "        self.view.setCentralItem(layout)\n",
    "        \n",
    "        # add subplots\n",
    "        self.p0 = self.layout.addPlot(0,0)\n",
    "        self.p0.addLegend()\n",
    "        self.p0.plot([1,2,3,4,5], pen='b', name='p0')\n",
    "\n",
    "        self.p1 = layout.addPlot(1,0)\n",
    "        self.p1.addLegend()\n",
    "        self.p1.plot([2,2,2,2,], pen='r', name='p1')\n",
    "        '''\n",
    "        p2 = layout.addPlot(1,0)\n",
    "        p2.addLegend(offset=(50, 0))\n",
    "        p2.plot([-1,0,1,1,], pen='g', name='p1.1')\n",
    "        p2.hideAxis('left')\n",
    "        p2.showAxis('right')\n",
    "        '''"
   ]
  },
  {
   "cell_type": "code",
   "execution_count": 8,
   "id": "f12c7f49",
   "metadata": {},
   "outputs": [
    {
     "ename": "TypeError",
     "evalue": "__init__() takes 0 positional arguments but 1 was given",
     "output_type": "error",
     "traceback": [
      "\u001b[1;31m---------------------------------------------------------------------------\u001b[0m",
      "\u001b[1;31mTypeError\u001b[0m                                 Traceback (most recent call last)",
      "Cell \u001b[1;32mIn[8], line 1\u001b[0m\n\u001b[1;32m----> 1\u001b[0m eventador \u001b[38;5;241m=\u001b[39m \u001b[43mEventExplorer\u001b[49m\u001b[43m(\u001b[49m\u001b[43m)\u001b[49m\n",
      "Cell \u001b[1;32mIn[7], line 10\u001b[0m, in \u001b[0;36mEventExplorer.__init__\u001b[1;34m(self)\u001b[0m\n\u001b[0;32m      7\u001b[0m \u001b[38;5;28mself\u001b[39m\u001b[38;5;241m.\u001b[39mgraphicsView\u001b[38;5;241m.\u001b[39msetCentralItem(\u001b[38;5;28mself\u001b[39m\u001b[38;5;241m.\u001b[39mlayout)\n\u001b[0;32m      8\u001b[0m \u001b[38;5;28mself\u001b[39m\u001b[38;5;241m.\u001b[39mgraphicsView\u001b[38;5;241m.\u001b[39mshow()\n\u001b[1;32m---> 10\u001b[0m \u001b[38;5;28mself\u001b[39m\u001b[38;5;241m.\u001b[39mET_window \u001b[38;5;241m=\u001b[39m \u001b[43mEventTimeSelector\u001b[49m\u001b[43m(\u001b[49m\u001b[43m)\u001b[49m\n\u001b[0;32m     11\u001b[0m \u001b[38;5;28mself\u001b[39m\u001b[38;5;241m.\u001b[39mET_window\u001b[38;5;241m.\u001b[39mshow()\n",
      "\u001b[1;31mTypeError\u001b[0m: __init__() takes 0 positional arguments but 1 was given"
     ]
    }
   ],
   "source": [
    "eventador = EventExplorer()"
   ]
  }
 ],
 "metadata": {
  "kernelspec": {
   "display_name": "Python 3 (ipykernel)",
   "language": "python",
   "name": "python3"
  },
  "language_info": {
   "codemirror_mode": {
    "name": "ipython",
    "version": 3
   },
   "file_extension": ".py",
   "mimetype": "text/x-python",
   "name": "python",
   "nbconvert_exporter": "python",
   "pygments_lexer": "ipython3",
   "version": "3.9.16"
  }
 },
 "nbformat": 4,
 "nbformat_minor": 5
}
