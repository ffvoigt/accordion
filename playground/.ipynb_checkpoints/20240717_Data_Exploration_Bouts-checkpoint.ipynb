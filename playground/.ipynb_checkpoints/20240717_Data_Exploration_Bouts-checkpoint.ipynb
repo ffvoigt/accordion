{
 "cells": [
  {
   "cell_type": "code",
   "execution_count": null,
   "id": "5287a39e",
   "metadata": {},
   "outputs": [],
   "source": [
    "import sys\n",
    "import os\n",
    "import numpy as np\n",
    "import napari\n",
    "%matplotlib inline\n",
    "from matplotlib import pyplot as plt  # graphic library, for plots\n",
    "#import seaborn as sns\n",
    "import numba as nb\n",
    "\n",
    "from ipywidgets import interact\n",
    "from bokeh.io import push_notebook, show, output_notebook\n",
    "from bokeh.plotting import figure, show\n",
    "from bokeh.models import CustomJS, ColumnDataSource, Slider, CDSView, BooleanFilter, CustomJS, RangeSlider, Label, RangeTool\n",
    "from bokeh.layouts import column, grid, gridplot, layout\n",
    "from bokeh.sampledata.stocks import AAPL"
   ]
  },
  {
   "cell_type": "code",
   "execution_count": null,
   "id": "da0a0b6a",
   "metadata": {},
   "outputs": [],
   "source": [
    "from metavision_core.event_io.raw_reader import RawReader\n",
    "from metavision_core.event_io.py_reader import EventDatReader\n",
    "from metavision_core.event_io import EventsIterator"
   ]
  },
  {
   "cell_type": "code",
   "execution_count": null,
   "id": "f8d10852",
   "metadata": {},
   "outputs": [],
   "source": [
    "import filedialogs"
   ]
  },
  {
   "cell_type": "markdown",
   "id": "64870acb",
   "metadata": {},
   "source": [
    "### Get Path"
   ]
  },
  {
   "cell_type": "code",
   "execution_count": null,
   "id": "e7f03995",
   "metadata": {
    "scrolled": false
   },
   "outputs": [],
   "source": [
    "path = filedialogs.gui_fname('example_data/')\n",
    "path = path.decode('ascii')\n",
    "\n",
    "print(path)"
   ]
  },
  {
   "cell_type": "markdown",
   "id": "1eed1233",
   "metadata": {},
   "source": [
    "### Get total number of events"
   ]
  },
  {
   "cell_type": "code",
   "execution_count": null,
   "id": "17cbe5f2",
   "metadata": {},
   "outputs": [],
   "source": [
    "def get_total_event_number(path):\n",
    "    mv_iterator = EventsIterator(path, delta_t=1000000)\n",
    "    global_counter = 0  # This will track how many events we processed\n",
    "    for evs in mv_iterator:\n",
    "        counter = evs.size  # Local counter\n",
    "        global_counter += counter  # Increase global counter\n",
    "    return global_counter"
   ]
  },
  {
   "cell_type": "code",
   "execution_count": null,
   "id": "500928eb",
   "metadata": {},
   "outputs": [],
   "source": [
    "total_event_number = get_total_event_number(path)\n",
    "print('Total event number: ', total_event_number)"
   ]
  },
  {
   "cell_type": "markdown",
   "id": "91454ce3",
   "metadata": {},
   "source": [
    "### Load everything"
   ]
  },
  {
   "cell_type": "code",
   "execution_count": null,
   "id": "3619773f",
   "metadata": {},
   "outputs": [],
   "source": [
    "record_raw = RawReader(path, max_events=total_event_number+1)\n",
    "events = record_raw.load_n_events(total_event_number+1)\n",
    "print(events.size)"
   ]
  },
  {
   "cell_type": "markdown",
   "id": "ad62601d",
   "metadata": {},
   "source": [
    "### Helper functions"
   ]
  },
  {
   "cell_type": "code",
   "execution_count": null,
   "id": "afcd1951",
   "metadata": {},
   "outputs": [],
   "source": [
    "def calculate_bins(events, dt=1000):\n",
    "    # calculate events for timestep dt in us\n",
    "    min_timepoint = events['t'].min()\n",
    "    max_timepoint = events['t'].max()\n",
    "    interval_us = max_timepoint-min_timepoint\n",
    "    timepoints = int(interval_us / (dt))\n",
    "    bins = np.linspace(min_timepoint, max_timepoint, timepoints)\n",
    "    return bins\n",
    "\n",
    "def calculate_bin_number(events, dt=1000):\n",
    "    # calculate events for timestep dt in us\n",
    "    min_timepoint = events['t'].min()\n",
    "    max_timepoint = events['t'].max()\n",
    "    timepoints = int(np.floor((max_timepoint-min_timepoint) / (dt)))\n",
    "    return timepoints\n",
    "\n",
    "@nb.njit\n",
    "def inside_circular_roi(x, y, x_center, y_center, r):\n",
    "    ''' Checks whether a point with coordinates x and y is within \n",
    "        circle with radius r around x_center,y_center '''\n",
    "    return np.power(x-x_center,2)+np.power(y-y_center,2) <= np.power(r,2)\n",
    "\n",
    "@nb.njit\n",
    "def inside_rectanglular_roi(x,y,x0,y0,x1,y1):\n",
    "    ''' Checks whether a point with coordinates x and y is within a \n",
    "        rectangle between x0,y0 (top left corner) and x1,y1 (bottom right corner) '''\n",
    "    return x >= x0 and x <= x1 and y >= y0 and y <= y1\n",
    "\n",
    "def is_on_event(event):\n",
    "    return event[2]==1\n",
    "\n",
    "@nb.njit\n",
    "def filter_array(arr, condition):\n",
    "    result = np.empty_like(arr)\n",
    "    j = 0\n",
    "    for i in range(arr.size):\n",
    "        if condition(arr[i]):\n",
    "            result[j] = arr[i]\n",
    "            j += 1\n",
    "    return result[:j].copy()\n",
    "\n",
    "@nb.njit\n",
    "def events_inside_circular_roi(events, x_center, y_center, radius):\n",
    "    result = np.empty_like(events)\n",
    "    j = 0\n",
    "    for i in range(events.size):\n",
    "        if inside_circular_roi(events[i]['x'],events[i]['y'],x_center,y_center, radius):\n",
    "            result[j] = events[i]\n",
    "            j += 1\n",
    "    return result[:j].copy()\n",
    "\n",
    "@nb.njit\n",
    "def events_inside_rectangular_roi(events, x0,y0,x1,y1):\n",
    "    result = np.empty_like(events)\n",
    "    j = 0\n",
    "    for i in range(events.size):\n",
    "        if inside_rectanglular_roi(events[i]['x'],events[i]['y'],x0,y0,x1,y1):\n",
    "            result[j] = events[i]\n",
    "            j += 1\n",
    "    return result[:j].copy()\n",
    "\n",
    "@nb.njit\n",
    "def split_events(events):\n",
    "    on_events = np.empty_like(events)\n",
    "    off_events = np.empty_like(events)\n",
    "    on_counter = 0\n",
    "    off_counter = 0\n",
    "    \n",
    "    for i in range(events.size):\n",
    "        if events[i][2]==1:\n",
    "            on_events[on_counter] = events[i]\n",
    "            on_counter += 1\n",
    "        else: \n",
    "            off_events[off_counter] = events[i]\n",
    "            off_counter += 1\n",
    "   \n",
    "    return on_events[:on_counter].copy(),off_events[:off_counter].copy()\n",
    "\n",
    "def events_to_stack(events, dt=1000, imagesize=(720, 1280)):\n",
    "    height, width = imagesize\n",
    "    min_timepoint = events['t'].min()\n",
    "    max_timepoint = events['t'].max()\n",
    "    \n",
    "    timepoints = int(np.ceil((max_timepoint - min_timepoint)/dt))    \n",
    "    \n",
    "    # generate a numpy array with the width \n",
    "    eventstack = np.zeros((timepoints,height,width,2), dtype='uint8')\n",
    "    \n",
    "    for event in events:\n",
    "        x_pos = event[1]\n",
    "        y_pos = event[0]\n",
    "        timepoint = np.floor_divide((event[3]-min_timepoint),dt)\n",
    "        if event[2] == 0:\n",
    "            if eventstack[timepoint, x_pos, y_pos, 1] < 255:\n",
    "                eventstack[timepoint, x_pos, y_pos, 1] += 1\n",
    "        else: \n",
    "            if eventstack[timepoint, x_pos, y_pos, 0] < 255:\n",
    "                eventstack[timepoint, x_pos, y_pos, 0] += 1       \n",
    "    \n",
    "    return eventstack "
   ]
  },
  {
   "cell_type": "markdown",
   "id": "4131d2c6",
   "metadata": {},
   "source": [
    "### Visualize all events"
   ]
  },
  {
   "cell_type": "code",
   "execution_count": null,
   "id": "80cd7fb7",
   "metadata": {},
   "outputs": [],
   "source": [
    "def viz_events(events, height, width):\n",
    "    img = np.full((height, width, 3), 128, dtype=np.uint8)\n",
    "    img[events['y'], events['x']] = 255 * events['p'][:, None]\n",
    "    return img"
   ]
  },
  {
   "cell_type": "code",
   "execution_count": null,
   "id": "f43d6814",
   "metadata": {},
   "outputs": [],
   "source": [
    "height, width = record_raw.get_size()\n",
    "# load the next 50 ms worth of events\n",
    "# events = record_raw.load_delta_t(50000)\n",
    "im = viz_events(events, height, width)\n",
    "\n",
    "plt.imshow(im)\n",
    "plt.tight_layout()"
   ]
  },
  {
   "cell_type": "markdown",
   "id": "70dcf39b",
   "metadata": {},
   "source": [
    "### Crop events in space"
   ]
  },
  {
   "cell_type": "code",
   "execution_count": null,
   "id": "b99d43fa",
   "metadata": {},
   "outputs": [],
   "source": [
    "inside_events = events_inside_rectangular_roi(events, 350, 0, 1050, 700)\n",
    "on_events, off_events = split_events(inside_events)"
   ]
  },
  {
   "cell_type": "code",
   "execution_count": null,
   "id": "96eda2a6",
   "metadata": {
    "scrolled": false
   },
   "outputs": [],
   "source": [
    "height, width = record_raw.get_size()\n",
    "\n",
    "# load the next 50 ms worth of events\n",
    "# events = record_raw.load_delta_t(50000)\n",
    "im = viz_events(inside_events, height, width)\n",
    "\n",
    "plt.imshow(im)\n",
    "plt.tight_layout()"
   ]
  },
  {
   "cell_type": "markdown",
   "id": "713ef045",
   "metadata": {},
   "source": [
    "### Crop Events in time"
   ]
  },
  {
   "cell_type": "code",
   "execution_count": null,
   "id": "a5507241",
   "metadata": {},
   "outputs": [],
   "source": [
    "starttime = 2.25e8\n",
    "endtime = 2.34e8"
   ]
  },
  {
   "cell_type": "code",
   "execution_count": null,
   "id": "9f8b8567",
   "metadata": {},
   "outputs": [],
   "source": [
    "on_events_crop_filter = [i[3] >= starttime and i[3] <= endtime for i in on_events]\n",
    "on_events_crop = on_events[on_events_crop_filter]"
   ]
  },
  {
   "cell_type": "code",
   "execution_count": null,
   "id": "c28808e2",
   "metadata": {},
   "outputs": [],
   "source": [
    "off_events_crop_filter = [i[3] >= starttime and i[3] <= endtime for i in off_events]\n",
    "off_events_crop = off_events[off_events_crop_filter]"
   ]
  },
  {
   "cell_type": "code",
   "execution_count": null,
   "id": "2b50bd50",
   "metadata": {},
   "outputs": [],
   "source": [
    "inside_events_crop_filter = [i[3] >= starttime and i[3] <= endtime for i in inside_events]\n",
    "inside_events_crop = inside_events[inside_events_crop_filter]"
   ]
  },
  {
   "cell_type": "markdown",
   "id": "6befc3f3",
   "metadata": {},
   "source": [
    "### Pickle key objects"
   ]
  },
  {
   "cell_type": "code",
   "execution_count": null,
   "id": "f61c7c40",
   "metadata": {},
   "outputs": [],
   "source": [
    "import pickle"
   ]
  },
  {
   "cell_type": "code",
   "execution_count": null,
   "id": "d610ccca",
   "metadata": {},
   "outputs": [],
   "source": [
    "def storeData():\n",
    "    db = {  'on_events_crop':     on_events_crop,\n",
    "            'off_events_crop':    off_events_crop,\n",
    "            'inside_events_crop': inside_events_crop,        \n",
    "    }\n",
    "    \n",
    "    dbfile = open('myExampleEvents', 'ab')\n",
    "    pickle.dump(db,dbfile)\n",
    "    dbfile.close()"
   ]
  },
  {
   "cell_type": "code",
   "execution_count": null,
   "id": "259d5ec2",
   "metadata": {},
   "outputs": [],
   "source": [
    "def loadData():\n",
    "    dbfile = open('myExampleEvents', 'rb')    \n",
    "    db = pickle.load(dbfile)\n",
    "    dbfile.close()\n",
    "    return db"
   ]
  },
  {
   "cell_type": "code",
   "execution_count": null,
   "id": "f4aca344",
   "metadata": {},
   "outputs": [],
   "source": [
    "storeData()"
   ]
  },
  {
   "cell_type": "code",
   "execution_count": null,
   "id": "b0802327",
   "metadata": {},
   "outputs": [],
   "source": [
    "db = loadData()\n",
    "on_events_crop = db['on_events_crop']\n",
    "off_events_crop = db['off_events_crop']\n",
    "inside_events_crop = db['inside_events_crop']"
   ]
  },
  {
   "cell_type": "markdown",
   "id": "0eaede42",
   "metadata": {},
   "source": [
    "### Quickstart here"
   ]
  },
  {
   "cell_type": "code",
   "execution_count": null,
   "id": "e8986860",
   "metadata": {},
   "outputs": [],
   "source": [
    "import sys\n",
    "import os\n",
    "import numpy as np\n",
    "import napari\n",
    "%matplotlib inline\n",
    "from matplotlib import pyplot as plt  # graphic library, for plots\n",
    "#import seaborn as sns\n",
    "import numba as nb\n",
    "import pickle\n",
    "\n",
    "from ipywidgets import interact\n",
    "from bokeh.io import push_notebook, show, output_notebook\n",
    "from bokeh.plotting import figure, show\n",
    "from bokeh.models import CustomJS, ColumnDataSource, Slider, CDSView, BooleanFilter, CustomJS, RangeSlider, Label, RangeTool\n",
    "from bokeh.layouts import column, grid, gridplot, layout\n",
    "from bokeh.sampledata.stocks import AAPL"
   ]
  },
  {
   "cell_type": "code",
   "execution_count": null,
   "id": "6a553900",
   "metadata": {},
   "outputs": [],
   "source": [
    "def loadData():\n",
    "    dbfile = open('myExampleEvents', 'rb')    \n",
    "    db = pickle.load(dbfile)\n",
    "    dbfile.close()\n",
    "    return db\n",
    "\n",
    "def calculate_bin_number(events, dt=1000):\n",
    "    # calculate events for timestep dt in us\n",
    "    min_timepoint = events['t'].min()\n",
    "    max_timepoint = events['t'].max()\n",
    "    timepoints = int(np.floor((max_timepoint-min_timepoint) / (dt)))\n",
    "    return timepoints"
   ]
  },
  {
   "cell_type": "code",
   "execution_count": null,
   "id": "7afdd9a0",
   "metadata": {},
   "outputs": [],
   "source": [
    "db = loadData()\n",
    "on_events_crop = db['on_events_crop']\n",
    "off_events_crop = db['off_events_crop']\n",
    "inside_events_crop = db['inside_events_crop']"
   ]
  },
  {
   "cell_type": "markdown",
   "id": "c59b7303",
   "metadata": {},
   "source": [
    "### Event histogram overview"
   ]
  },
  {
   "cell_type": "code",
   "execution_count": null,
   "id": "25c868e4",
   "metadata": {},
   "outputs": [],
   "source": [
    "bins = calculate_bin_number(off_events_crop, dt=1000)"
   ]
  },
  {
   "cell_type": "code",
   "execution_count": null,
   "id": "399eaf07",
   "metadata": {},
   "outputs": [],
   "source": [
    "on_hist, on_edges = np.histogram(on_events_crop['t'], density=False, bins=bins)\n",
    "off_hist, off_edges = np.histogram(off_events_crop['t'], density=False, bins=bins)"
   ]
  },
  {
   "cell_type": "code",
   "execution_count": null,
   "id": "f4532ed7",
   "metadata": {},
   "outputs": [],
   "source": [
    "output_notebook()"
   ]
  },
  {
   "cell_type": "code",
   "execution_count": null,
   "id": "303b7226",
   "metadata": {
    "scrolled": false
   },
   "outputs": [],
   "source": [
    "source = ColumnDataSource(data=dict(edges=on_edges[:-1], on_hist=on_hist, off_hist=off_hist))\n",
    "\n",
    "p = figure(height=400, width=950, \n",
    "           x_axis_location=\"below\", background_fill_color=\"#efefef\",x_range=(on_edges[1000], on_edges[2000]))\n",
    "\n",
    "p.quad(top=off_hist, bottom=0, left=on_edges[:-1], right=on_edges[1:],\n",
    "         fill_color=\"darkred\", line_width=0, legend_label=\"Off Events\")\n",
    "p.quad(top=on_hist+off_hist, bottom=off_hist, left=on_edges[:-1], right=on_edges[1:],\n",
    "         fill_color=\"royalblue\", line_width=0, legend_label=\"On Events\")\n",
    "p.y_range.start = 0\n",
    "p.xaxis.axis_label = \"t (us)\"\n",
    "p.yaxis.axis_label = \"Events\"\n",
    "p.legend.location = \"top_right\"\n",
    "\n",
    "select = figure(title=\"Event Selection\",\n",
    "                height=230, width=950, y_range=p.y_range, y_axis_type=None, background_fill_color=\"#efefef\")\n",
    "\n",
    "range_tool = RangeTool(x_range=p.x_range)\n",
    "range_tool.overlay.fill_color = \"navy\"\n",
    "range_tool.overlay.fill_alpha = 0.2\n",
    "\n",
    "select.line('edges', 'on_hist', source=source)\n",
    "select.ygrid.grid_line_color = None\n",
    "select.add_tools(range_tool)\n",
    "\n",
    "show(column(p, select))"
   ]
  },
  {
   "cell_type": "markdown",
   "id": "60d5bcc8",
   "metadata": {},
   "source": [
    "### Let's start with OpenGL"
   ]
  },
  {
   "cell_type": "code",
   "execution_count": null,
   "id": "f5303c3c",
   "metadata": {},
   "outputs": [],
   "source": [
    "%gui qt5\n",
    "from PyQt5.Qt import QApplication\n",
    "import qdarkstyle\n",
    "import pyqtgraph as pg\n",
    "from pyqtgraph import functions as fn\n",
    "#from pyqtgraph.Qt import QtCore, QtGui\n",
    "import pyqtgraph.opengl as gl\n",
    "import numpy as np"
   ]
  },
  {
   "cell_type": "code",
   "execution_count": null,
   "id": "30d734e5",
   "metadata": {},
   "outputs": [],
   "source": [
    "# start qt event loop\n",
    "_instance = QApplication.instance()\n",
    "if not _instance:\n",
    "    _instance = QApplication([])\n",
    "app = _instance"
   ]
  },
  {
   "cell_type": "code",
   "execution_count": null,
   "id": "da8e18f7",
   "metadata": {},
   "outputs": [],
   "source": [
    "w = gl.GLViewWidget()\n",
    "w.show()"
   ]
  },
  {
   "cell_type": "code",
   "execution_count": null,
   "id": "948da7b5",
   "metadata": {},
   "outputs": [],
   "source": [
    "# Remove all items\n",
    "w.clear()"
   ]
  },
  {
   "cell_type": "code",
   "execution_count": null,
   "id": "79e8279a",
   "metadata": {},
   "outputs": [],
   "source": [
    "app.quit()"
   ]
  },
  {
   "cell_type": "code",
   "execution_count": null,
   "id": "4228b061",
   "metadata": {},
   "outputs": [],
   "source": [
    "w.setWindowTitle('pyqtgraph example: GLScatterPlotItem')\n",
    "w.setCameraPosition(distance=20)\n",
    "\n",
    "g = gl.GLGridItem()\n",
    "w.addItem(g)"
   ]
  },
  {
   "cell_type": "markdown",
   "id": "a6ea771b",
   "metadata": {},
   "source": [
    "### Process events"
   ]
  },
  {
   "cell_type": "code",
   "execution_count": null,
   "id": "fd2b585c",
   "metadata": {},
   "outputs": [],
   "source": [
    "x = on_events_crop['x'].astype('float')\n",
    "y = on_events_crop['y'].astype('float')\n",
    "# The division factor is arbitrary\n",
    "x = (x-700)/40\n",
    "y = (y-350)/40"
   ]
  },
  {
   "cell_type": "code",
   "execution_count": null,
   "id": "fe8de174",
   "metadata": {
    "scrolled": false
   },
   "outputs": [],
   "source": [
    "# convert time axis to ms\n",
    "t = -((on_events_crop['t']-on_events_crop['t'][0])/500000).astype('float')\n",
    "t = t - t[-1]"
   ]
  },
  {
   "cell_type": "code",
   "execution_count": null,
   "id": "721b9c92",
   "metadata": {},
   "outputs": [],
   "source": [
    "pos = np.transpose(np.stack([x, y, t])).astype('float')"
   ]
  },
  {
   "cell_type": "code",
   "execution_count": null,
   "id": "23a56101",
   "metadata": {},
   "outputs": [],
   "source": [
    "on_eventplot = gl.GLScatterPlotItem(pos=pos,color=(50,125,255,127), size=1)\n",
    "w.addItem(on_eventplot)"
   ]
  },
  {
   "cell_type": "markdown",
   "id": "6723f631",
   "metadata": {},
   "source": [
    "#### Off plot"
   ]
  },
  {
   "cell_type": "code",
   "execution_count": null,
   "id": "dfd9f0cc",
   "metadata": {},
   "outputs": [],
   "source": [
    "x = off_events_crop['x'].astype('float')\n",
    "y = off_events_crop['y'].astype('float')\n",
    "# The division factor is arbitrary\n",
    "x = (x-700)/40\n",
    "y = (y-350)/40"
   ]
  },
  {
   "cell_type": "code",
   "execution_count": null,
   "id": "6e95954d",
   "metadata": {},
   "outputs": [],
   "source": [
    "# convert time axis to ms\n",
    "t = -((off_events_crop['t']-on_events_crop['t'][0])/500000).astype('float')\n",
    "t = t - t[-1]"
   ]
  },
  {
   "cell_type": "code",
   "execution_count": null,
   "id": "d6e84bd5",
   "metadata": {},
   "outputs": [],
   "source": [
    "pos = np.transpose(np.stack([x, y, t])).astype('float')"
   ]
  },
  {
   "cell_type": "code",
   "execution_count": null,
   "id": "e4db8c36",
   "metadata": {},
   "outputs": [],
   "source": [
    "off_eventplot = gl.GLScatterPlotItem(pos=pos,color=(150,0,0,127), size=1)\n",
    "w.addItem(off_eventplot)"
   ]
  },
  {
   "cell_type": "code",
   "execution_count": null,
   "id": "c0def399",
   "metadata": {
    "scrolled": true
   },
   "outputs": [],
   "source": [
    "w.cameraParams()"
   ]
  },
  {
   "cell_type": "code",
   "execution_count": null,
   "id": "e4b13417",
   "metadata": {},
   "outputs": [],
   "source": [
    "on_eventplot.setData(color=(0,0,150,127))"
   ]
  },
  {
   "cell_type": "markdown",
   "id": "a615ad90",
   "metadata": {},
   "source": [
    "### Remote items"
   ]
  },
  {
   "cell_type": "code",
   "execution_count": null,
   "id": "13b5b6d5",
   "metadata": {},
   "outputs": [],
   "source": [
    "w.removeItem(on_eventplot)"
   ]
  },
  {
   "cell_type": "markdown",
   "id": "33087b60",
   "metadata": {},
   "source": [
    "### Event filtering"
   ]
  },
  {
   "cell_type": "markdown",
   "id": "d82b40be",
   "metadata": {},
   "source": [
    "* Iterate through all events\n",
    "* timerange in us\n",
    "* x_offset, y_offset\n",
    "* nearest neighbour "
   ]
  },
  {
   "cell_type": "code",
   "execution_count": null,
   "id": "0a47a297",
   "metadata": {},
   "outputs": [],
   "source": [
    "len(off_events_crop)"
   ]
  },
  {
   "cell_type": "code",
   "execution_count": null,
   "id": "1d1cc4e4",
   "metadata": {},
   "outputs": [],
   "source": []
  },
  {
   "cell_type": "code",
   "execution_count": null,
   "id": "5ec8b550",
   "metadata": {},
   "outputs": [],
   "source": [
    "type(off_events_crop['x'][0])"
   ]
  },
  {
   "cell_type": "code",
   "execution_count": null,
   "id": "402fc1c5",
   "metadata": {},
   "outputs": [],
   "source": [
    "np.mod(9,9)"
   ]
  },
  {
   "cell_type": "code",
   "execution_count": null,
   "id": "b21123e1",
   "metadata": {},
   "outputs": [],
   "source": [
    "np.seterr(over='ignore')"
   ]
  },
  {
   "cell_type": "code",
   "execution_count": null,
   "id": "4db1a882",
   "metadata": {},
   "outputs": [],
   "source": [
    "xy_radius_pix = 10\n",
    "delta_t_us = 100\n",
    "\n",
    "def outlier_event_removal(events):\n",
    "    total_events = len(events)\n",
    "    fivepercent = int(total_events / 20)\n",
    "    print('We have: ', total_events, 'events')\n",
    "    processed_events = np.empty(shape=(0,),dtype=off_events_crop.dtype)\n",
    "    index = 0\n",
    "    \n",
    "    #if np.mod(index, 100) == 0:\n",
    "    #    print('Another 100 done')\n",
    "    \n",
    "    #if np.mod(index, fivepercent) == 0:\n",
    "    #    print('Another 5% done')\n",
    "    \n",
    "    for event in events:\n",
    "        print('Current index: ', index)\n",
    "        index += 1\n",
    "        timepoint = event[3]\n",
    "        x_pos = event[0]\n",
    "        y_pos = event[1]\n",
    "        offset_index = 0\n",
    "        if index == total_events:\n",
    "            continue\n",
    "        else:\n",
    "            next_timepoint = events[index][3] \n",
    "            \n",
    "        while next_timepoint - timepoint < delta_t_us:\n",
    "            offset_index += 1\n",
    "            # print('Offset index: ', offset_index)\n",
    "            next_index = index+offset_index\n",
    "            if index + offset_index == total_events:\n",
    "                continue\n",
    "            else:\n",
    "                next_event = events[next_index]\n",
    "                next_timepoint = next_event[3]\n",
    "                next_x_pos = next_event[0].astype('int')\n",
    "                next_y_pos = next_event[1].astype('int')\n",
    "                                \n",
    "                if np.abs(x_pos - next_x_pos) < xy_radius_pix:\n",
    "                    if np.abs(y_pos - next_y_pos) < xy_radius_pix:\n",
    "                        processed_events = np.append(processed_events, event)\n",
    "                    else:\n",
    "                        continue\n",
    "                else:\n",
    "                    continue   \n",
    "                    \n",
    "    return processed_events"
   ]
  },
  {
   "cell_type": "code",
   "execution_count": null,
   "id": "02754ce1",
   "metadata": {},
   "outputs": [],
   "source": [
    "np.abs(-9)"
   ]
  },
  {
   "cell_type": "code",
   "execution_count": null,
   "id": "df1422f9",
   "metadata": {},
   "outputs": [],
   "source": [
    "processed_events = outlier_event_removal(off_events_crop)"
   ]
  }
 ],
 "metadata": {
  "kernelspec": {
   "display_name": "Python 3 (ipykernel)",
   "language": "python",
   "name": "python3"
  },
  "language_info": {
   "codemirror_mode": {
    "name": "ipython",
    "version": 3
   },
   "file_extension": ".py",
   "mimetype": "text/x-python",
   "name": "python",
   "nbconvert_exporter": "python",
   "pygments_lexer": "ipython3",
   "version": "3.9.16"
  }
 },
 "nbformat": 4,
 "nbformat_minor": 5
}
