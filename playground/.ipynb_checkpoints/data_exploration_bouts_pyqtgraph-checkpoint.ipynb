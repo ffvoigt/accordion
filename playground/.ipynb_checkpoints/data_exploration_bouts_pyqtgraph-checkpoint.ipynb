{
 "cells": [
  {
   "cell_type": "code",
   "execution_count": 1,
   "id": "b3dcd0cc",
   "metadata": {},
   "outputs": [],
   "source": [
    "%matplotlib inline\n",
    "%load_ext autoreload\n",
    "%autoreload 2"
   ]
  },
  {
   "cell_type": "code",
   "execution_count": 2,
   "id": "bc0889e8",
   "metadata": {
    "scrolled": true
   },
   "outputs": [],
   "source": [
    "import sys\n",
    "import os\n",
    "import numpy as np\n",
    "import napari\n",
    "from matplotlib import pyplot as plt  # graphic library, for plots\n",
    "import numba as nb\n",
    "\n",
    "from bokeh.plotting import figure, show\n",
    "from bokeh.io import output_notebook\n",
    "from bokeh.layouts import column\n",
    "from bokeh.models import ColumnDataSource, RangeTool\n",
    "from bokeh.plotting import figure, show\n",
    "from bokeh.sampledata.stocks import AAPL"
   ]
  },
  {
   "cell_type": "code",
   "execution_count": 3,
   "id": "29002ec3",
   "metadata": {
    "scrolled": true
   },
   "outputs": [
    {
     "data": {
      "text/html": [
       "<style>\n",
       "        .bk-notebook-logo {\n",
       "            display: block;\n",
       "            width: 20px;\n",
       "            height: 20px;\n",
       "            background-image: url(data:image/png;base64,iVBORw0KGgoAAAANSUhEUgAAABQAAAAUCAYAAACNiR0NAAAABHNCSVQICAgIfAhkiAAAAAlwSFlzAAALEgAACxIB0t1+/AAAABx0RVh0U29mdHdhcmUAQWRvYmUgRmlyZXdvcmtzIENTNui8sowAAAOkSURBVDiNjZRtaJVlGMd/1/08zzln5zjP1LWcU9N0NkN8m2CYjpgQYQXqSs0I84OLIC0hkEKoPtiH3gmKoiJDU7QpLgoLjLIQCpEsNJ1vqUOdO7ppbuec5+V+rj4ctwzd8IIbbi6u+8f1539dt3A78eXC7QizUF7gyV1fD1Yqg4JWz84yffhm0qkFqBogB9rM8tZdtwVsPUhWhGcFJngGeWrPzHm5oaMmkfEg1usvLFyc8jLRqDOMru7AyC8saQr7GG7f5fvDeH7Ej8CM66nIF+8yngt6HWaKh7k49Soy9nXurCi1o3qUbS3zWfrYeQDTB/Qj6kX6Ybhw4B+bOYoLKCC9H3Nu/leUTZ1JdRWkkn2ldcCamzrcf47KKXdAJllSlxAOkRgyHsGC/zRday5Qld9DyoM4/q/rUoy/CXh3jzOu3bHUVZeU+DEn8FInkPBFlu3+nW3Nw0mk6vCDiWg8CeJaxEwuHS3+z5RgY+YBR6V1Z1nxSOfoaPa4LASWxxdNp+VWTk7+4vzaou8v8PN+xo+KY2xsw6une2frhw05CTYOmQvsEhjhWjn0bmXPjpE1+kplmmkP3suftwTubK9Vq22qKmrBhpY4jvd5afdRA3wGjFAgcnTK2s4hY0/GPNIb0nErGMCRxWOOX64Z8RAC4oCXdklmEvcL8o0BfkNK4lUg9HTl+oPlQxdNo3Mg4Nv175e/1LDGzZen30MEjRUtmXSfiTVu1kK8W4txyV6BMKlbgk3lMwYCiusNy9fVfvvwMxv8Ynl6vxoByANLTWplvuj/nF9m2+PDtt1eiHPBr1oIfhCChQMBw6Aw0UulqTKZdfVvfG7VcfIqLG9bcldL/+pdWTLxLUy8Qq38heUIjh4XlzZxzQm19lLFlr8vdQ97rjZVOLf8nclzckbcD4wxXMidpX30sFd37Fv/GtwwhzhxGVAprjbg0gCAEeIgwCZyTV2Z1REEW8O4py0wsjeloKoMr6iCY6dP92H6Vw/oTyICIthibxjm/DfN9lVz8IqtqKYLUXfoKVMVQVVJOElGjrnnUt9T9wbgp8AyYKaGlqingHZU/uG2NTZSVqwHQTWkx9hxjkpWDaCg6Ckj5qebgBVbT3V3NNXMSiWSDdGV3hrtzla7J+duwPOToIg42ChPQOQjspnSlp1V+Gjdged7+8UN5CRAV7a5EdFNwCjEaBR27b3W890TE7g24NAP/mMDXRWrGoFPQI9ls/MWO2dWFAar/xcOIImbbpA3zgAAAABJRU5ErkJggg==);\n",
       "        }\n",
       "    </style>\n",
       "    <div>\n",
       "        <a href=\"https://bokeh.org\" target=\"_blank\" class=\"bk-notebook-logo\"></a>\n",
       "        <span id=\"be4d11b7-de1c-4746-a16c-aeaaa9ca4a62\">Loading BokehJS ...</span>\n",
       "    </div>\n"
      ]
     },
     "metadata": {},
     "output_type": "display_data"
    },
    {
     "data": {
      "application/javascript": [
       "(function(root) {\n",
       "  function now() {\n",
       "    return new Date();\n",
       "  }\n",
       "\n",
       "  const force = true;\n",
       "\n",
       "  if (typeof root._bokeh_onload_callbacks === \"undefined\" || force === true) {\n",
       "    root._bokeh_onload_callbacks = [];\n",
       "    root._bokeh_is_loading = undefined;\n",
       "  }\n",
       "\n",
       "const JS_MIME_TYPE = 'application/javascript';\n",
       "  const HTML_MIME_TYPE = 'text/html';\n",
       "  const EXEC_MIME_TYPE = 'application/vnd.bokehjs_exec.v0+json';\n",
       "  const CLASS_NAME = 'output_bokeh rendered_html';\n",
       "\n",
       "  /**\n",
       "   * Render data to the DOM node\n",
       "   */\n",
       "  function render(props, node) {\n",
       "    const script = document.createElement(\"script\");\n",
       "    node.appendChild(script);\n",
       "  }\n",
       "\n",
       "  /**\n",
       "   * Handle when an output is cleared or removed\n",
       "   */\n",
       "  function handleClearOutput(event, handle) {\n",
       "    const cell = handle.cell;\n",
       "\n",
       "    const id = cell.output_area._bokeh_element_id;\n",
       "    const server_id = cell.output_area._bokeh_server_id;\n",
       "    // Clean up Bokeh references\n",
       "    if (id != null && id in Bokeh.index) {\n",
       "      Bokeh.index[id].model.document.clear();\n",
       "      delete Bokeh.index[id];\n",
       "    }\n",
       "\n",
       "    if (server_id !== undefined) {\n",
       "      // Clean up Bokeh references\n",
       "      const cmd_clean = \"from bokeh.io.state import curstate; print(curstate().uuid_to_server['\" + server_id + \"'].get_sessions()[0].document.roots[0]._id)\";\n",
       "      cell.notebook.kernel.execute(cmd_clean, {\n",
       "        iopub: {\n",
       "          output: function(msg) {\n",
       "            const id = msg.content.text.trim();\n",
       "            if (id in Bokeh.index) {\n",
       "              Bokeh.index[id].model.document.clear();\n",
       "              delete Bokeh.index[id];\n",
       "            }\n",
       "          }\n",
       "        }\n",
       "      });\n",
       "      // Destroy server and session\n",
       "      const cmd_destroy = \"import bokeh.io.notebook as ion; ion.destroy_server('\" + server_id + \"')\";\n",
       "      cell.notebook.kernel.execute(cmd_destroy);\n",
       "    }\n",
       "  }\n",
       "\n",
       "  /**\n",
       "   * Handle when a new output is added\n",
       "   */\n",
       "  function handleAddOutput(event, handle) {\n",
       "    const output_area = handle.output_area;\n",
       "    const output = handle.output;\n",
       "\n",
       "    // limit handleAddOutput to display_data with EXEC_MIME_TYPE content only\n",
       "    if ((output.output_type != \"display_data\") || (!Object.prototype.hasOwnProperty.call(output.data, EXEC_MIME_TYPE))) {\n",
       "      return\n",
       "    }\n",
       "\n",
       "    const toinsert = output_area.element.find(\".\" + CLASS_NAME.split(' ')[0]);\n",
       "\n",
       "    if (output.metadata[EXEC_MIME_TYPE][\"id\"] !== undefined) {\n",
       "      toinsert[toinsert.length - 1].firstChild.textContent = output.data[JS_MIME_TYPE];\n",
       "      // store reference to embed id on output_area\n",
       "      output_area._bokeh_element_id = output.metadata[EXEC_MIME_TYPE][\"id\"];\n",
       "    }\n",
       "    if (output.metadata[EXEC_MIME_TYPE][\"server_id\"] !== undefined) {\n",
       "      const bk_div = document.createElement(\"div\");\n",
       "      bk_div.innerHTML = output.data[HTML_MIME_TYPE];\n",
       "      const script_attrs = bk_div.children[0].attributes;\n",
       "      for (let i = 0; i < script_attrs.length; i++) {\n",
       "        toinsert[toinsert.length - 1].firstChild.setAttribute(script_attrs[i].name, script_attrs[i].value);\n",
       "        toinsert[toinsert.length - 1].firstChild.textContent = bk_div.children[0].textContent\n",
       "      }\n",
       "      // store reference to server id on output_area\n",
       "      output_area._bokeh_server_id = output.metadata[EXEC_MIME_TYPE][\"server_id\"];\n",
       "    }\n",
       "  }\n",
       "\n",
       "  function register_renderer(events, OutputArea) {\n",
       "\n",
       "    function append_mime(data, metadata, element) {\n",
       "      // create a DOM node to render to\n",
       "      const toinsert = this.create_output_subarea(\n",
       "        metadata,\n",
       "        CLASS_NAME,\n",
       "        EXEC_MIME_TYPE\n",
       "      );\n",
       "      this.keyboard_manager.register_events(toinsert);\n",
       "      // Render to node\n",
       "      const props = {data: data, metadata: metadata[EXEC_MIME_TYPE]};\n",
       "      render(props, toinsert[toinsert.length - 1]);\n",
       "      element.append(toinsert);\n",
       "      return toinsert\n",
       "    }\n",
       "\n",
       "    /* Handle when an output is cleared or removed */\n",
       "    events.on('clear_output.CodeCell', handleClearOutput);\n",
       "    events.on('delete.Cell', handleClearOutput);\n",
       "\n",
       "    /* Handle when a new output is added */\n",
       "    events.on('output_added.OutputArea', handleAddOutput);\n",
       "\n",
       "    /**\n",
       "     * Register the mime type and append_mime function with output_area\n",
       "     */\n",
       "    OutputArea.prototype.register_mime_type(EXEC_MIME_TYPE, append_mime, {\n",
       "      /* Is output safe? */\n",
       "      safe: true,\n",
       "      /* Index of renderer in `output_area.display_order` */\n",
       "      index: 0\n",
       "    });\n",
       "  }\n",
       "\n",
       "  // register the mime type if in Jupyter Notebook environment and previously unregistered\n",
       "  if (root.Jupyter !== undefined) {\n",
       "    const events = require('base/js/events');\n",
       "    const OutputArea = require('notebook/js/outputarea').OutputArea;\n",
       "\n",
       "    if (OutputArea.prototype.mime_types().indexOf(EXEC_MIME_TYPE) == -1) {\n",
       "      register_renderer(events, OutputArea);\n",
       "    }\n",
       "  }\n",
       "  if (typeof (root._bokeh_timeout) === \"undefined\" || force === true) {\n",
       "    root._bokeh_timeout = Date.now() + 5000;\n",
       "    root._bokeh_failed_load = false;\n",
       "  }\n",
       "\n",
       "  const NB_LOAD_WARNING = {'data': {'text/html':\n",
       "     \"<div style='background-color: #fdd'>\\n\"+\n",
       "     \"<p>\\n\"+\n",
       "     \"BokehJS does not appear to have successfully loaded. If loading BokehJS from CDN, this \\n\"+\n",
       "     \"may be due to a slow or bad network connection. Possible fixes:\\n\"+\n",
       "     \"</p>\\n\"+\n",
       "     \"<ul>\\n\"+\n",
       "     \"<li>re-rerun `output_notebook()` to attempt to load from CDN again, or</li>\\n\"+\n",
       "     \"<li>use INLINE resources instead, as so:</li>\\n\"+\n",
       "     \"</ul>\\n\"+\n",
       "     \"<code>\\n\"+\n",
       "     \"from bokeh.resources import INLINE\\n\"+\n",
       "     \"output_notebook(resources=INLINE)\\n\"+\n",
       "     \"</code>\\n\"+\n",
       "     \"</div>\"}};\n",
       "\n",
       "  function display_loaded() {\n",
       "    const el = document.getElementById(\"be4d11b7-de1c-4746-a16c-aeaaa9ca4a62\");\n",
       "    if (el != null) {\n",
       "      el.textContent = \"BokehJS is loading...\";\n",
       "    }\n",
       "    if (root.Bokeh !== undefined) {\n",
       "      if (el != null) {\n",
       "        el.textContent = \"BokehJS \" + root.Bokeh.version + \" successfully loaded.\";\n",
       "      }\n",
       "    } else if (Date.now() < root._bokeh_timeout) {\n",
       "      setTimeout(display_loaded, 100)\n",
       "    }\n",
       "  }\n",
       "\n",
       "  function run_callbacks() {\n",
       "    try {\n",
       "      root._bokeh_onload_callbacks.forEach(function(callback) {\n",
       "        if (callback != null)\n",
       "          callback();\n",
       "      });\n",
       "    } finally {\n",
       "      delete root._bokeh_onload_callbacks\n",
       "    }\n",
       "    console.debug(\"Bokeh: all callbacks have finished\");\n",
       "  }\n",
       "\n",
       "  function load_libs(css_urls, js_urls, callback) {\n",
       "    if (css_urls == null) css_urls = [];\n",
       "    if (js_urls == null) js_urls = [];\n",
       "\n",
       "    root._bokeh_onload_callbacks.push(callback);\n",
       "    if (root._bokeh_is_loading > 0) {\n",
       "      console.debug(\"Bokeh: BokehJS is being loaded, scheduling callback at\", now());\n",
       "      return null;\n",
       "    }\n",
       "    if (js_urls == null || js_urls.length === 0) {\n",
       "      run_callbacks();\n",
       "      return null;\n",
       "    }\n",
       "    console.debug(\"Bokeh: BokehJS not loaded, scheduling load and callback at\", now());\n",
       "    root._bokeh_is_loading = css_urls.length + js_urls.length;\n",
       "\n",
       "    function on_load() {\n",
       "      root._bokeh_is_loading--;\n",
       "      if (root._bokeh_is_loading === 0) {\n",
       "        console.debug(\"Bokeh: all BokehJS libraries/stylesheets loaded\");\n",
       "        run_callbacks()\n",
       "      }\n",
       "    }\n",
       "\n",
       "    function on_error(url) {\n",
       "      console.error(\"failed to load \" + url);\n",
       "    }\n",
       "\n",
       "    for (let i = 0; i < css_urls.length; i++) {\n",
       "      const url = css_urls[i];\n",
       "      const element = document.createElement(\"link\");\n",
       "      element.onload = on_load;\n",
       "      element.onerror = on_error.bind(null, url);\n",
       "      element.rel = \"stylesheet\";\n",
       "      element.type = \"text/css\";\n",
       "      element.href = url;\n",
       "      console.debug(\"Bokeh: injecting link tag for BokehJS stylesheet: \", url);\n",
       "      document.body.appendChild(element);\n",
       "    }\n",
       "\n",
       "    for (let i = 0; i < js_urls.length; i++) {\n",
       "      const url = js_urls[i];\n",
       "      const element = document.createElement('script');\n",
       "      element.onload = on_load;\n",
       "      element.onerror = on_error.bind(null, url);\n",
       "      element.async = false;\n",
       "      element.src = url;\n",
       "      console.debug(\"Bokeh: injecting script tag for BokehJS library: \", url);\n",
       "      document.head.appendChild(element);\n",
       "    }\n",
       "  };\n",
       "\n",
       "  function inject_raw_css(css) {\n",
       "    const element = document.createElement(\"style\");\n",
       "    element.appendChild(document.createTextNode(css));\n",
       "    document.body.appendChild(element);\n",
       "  }\n",
       "\n",
       "  const js_urls = [\"https://cdn.bokeh.org/bokeh/release/bokeh-3.2.0.min.js\", \"https://cdn.bokeh.org/bokeh/release/bokeh-gl-3.2.0.min.js\", \"https://cdn.bokeh.org/bokeh/release/bokeh-widgets-3.2.0.min.js\", \"https://cdn.bokeh.org/bokeh/release/bokeh-tables-3.2.0.min.js\", \"https://cdn.bokeh.org/bokeh/release/bokeh-mathjax-3.2.0.min.js\"];\n",
       "  const css_urls = [];\n",
       "\n",
       "  const inline_js = [    function(Bokeh) {\n",
       "      Bokeh.set_log_level(\"info\");\n",
       "    },\n",
       "function(Bokeh) {\n",
       "    }\n",
       "  ];\n",
       "\n",
       "  function run_inline_js() {\n",
       "    if (root.Bokeh !== undefined || force === true) {\n",
       "          for (let i = 0; i < inline_js.length; i++) {\n",
       "      inline_js[i].call(root, root.Bokeh);\n",
       "    }\n",
       "if (force === true) {\n",
       "        display_loaded();\n",
       "      }} else if (Date.now() < root._bokeh_timeout) {\n",
       "      setTimeout(run_inline_js, 100);\n",
       "    } else if (!root._bokeh_failed_load) {\n",
       "      console.log(\"Bokeh: BokehJS failed to load within specified timeout.\");\n",
       "      root._bokeh_failed_load = true;\n",
       "    } else if (force !== true) {\n",
       "      const cell = $(document.getElementById(\"be4d11b7-de1c-4746-a16c-aeaaa9ca4a62\")).parents('.cell').data().cell;\n",
       "      cell.output_area.append_execute_result(NB_LOAD_WARNING)\n",
       "    }\n",
       "  }\n",
       "\n",
       "  if (root._bokeh_is_loading === 0) {\n",
       "    console.debug(\"Bokeh: BokehJS loaded, going straight to plotting\");\n",
       "    run_inline_js();\n",
       "  } else {\n",
       "    load_libs(css_urls, js_urls, function() {\n",
       "      console.debug(\"Bokeh: BokehJS plotting callback run at\", now());\n",
       "      run_inline_js();\n",
       "    });\n",
       "  }\n",
       "}(window));"
      ],
      "application/vnd.bokehjs_load.v0+json": "(function(root) {\n  function now() {\n    return new Date();\n  }\n\n  const force = true;\n\n  if (typeof root._bokeh_onload_callbacks === \"undefined\" || force === true) {\n    root._bokeh_onload_callbacks = [];\n    root._bokeh_is_loading = undefined;\n  }\n\n\n  if (typeof (root._bokeh_timeout) === \"undefined\" || force === true) {\n    root._bokeh_timeout = Date.now() + 5000;\n    root._bokeh_failed_load = false;\n  }\n\n  const NB_LOAD_WARNING = {'data': {'text/html':\n     \"<div style='background-color: #fdd'>\\n\"+\n     \"<p>\\n\"+\n     \"BokehJS does not appear to have successfully loaded. If loading BokehJS from CDN, this \\n\"+\n     \"may be due to a slow or bad network connection. Possible fixes:\\n\"+\n     \"</p>\\n\"+\n     \"<ul>\\n\"+\n     \"<li>re-rerun `output_notebook()` to attempt to load from CDN again, or</li>\\n\"+\n     \"<li>use INLINE resources instead, as so:</li>\\n\"+\n     \"</ul>\\n\"+\n     \"<code>\\n\"+\n     \"from bokeh.resources import INLINE\\n\"+\n     \"output_notebook(resources=INLINE)\\n\"+\n     \"</code>\\n\"+\n     \"</div>\"}};\n\n  function display_loaded() {\n    const el = document.getElementById(\"be4d11b7-de1c-4746-a16c-aeaaa9ca4a62\");\n    if (el != null) {\n      el.textContent = \"BokehJS is loading...\";\n    }\n    if (root.Bokeh !== undefined) {\n      if (el != null) {\n        el.textContent = \"BokehJS \" + root.Bokeh.version + \" successfully loaded.\";\n      }\n    } else if (Date.now() < root._bokeh_timeout) {\n      setTimeout(display_loaded, 100)\n    }\n  }\n\n  function run_callbacks() {\n    try {\n      root._bokeh_onload_callbacks.forEach(function(callback) {\n        if (callback != null)\n          callback();\n      });\n    } finally {\n      delete root._bokeh_onload_callbacks\n    }\n    console.debug(\"Bokeh: all callbacks have finished\");\n  }\n\n  function load_libs(css_urls, js_urls, callback) {\n    if (css_urls == null) css_urls = [];\n    if (js_urls == null) js_urls = [];\n\n    root._bokeh_onload_callbacks.push(callback);\n    if (root._bokeh_is_loading > 0) {\n      console.debug(\"Bokeh: BokehJS is being loaded, scheduling callback at\", now());\n      return null;\n    }\n    if (js_urls == null || js_urls.length === 0) {\n      run_callbacks();\n      return null;\n    }\n    console.debug(\"Bokeh: BokehJS not loaded, scheduling load and callback at\", now());\n    root._bokeh_is_loading = css_urls.length + js_urls.length;\n\n    function on_load() {\n      root._bokeh_is_loading--;\n      if (root._bokeh_is_loading === 0) {\n        console.debug(\"Bokeh: all BokehJS libraries/stylesheets loaded\");\n        run_callbacks()\n      }\n    }\n\n    function on_error(url) {\n      console.error(\"failed to load \" + url);\n    }\n\n    for (let i = 0; i < css_urls.length; i++) {\n      const url = css_urls[i];\n      const element = document.createElement(\"link\");\n      element.onload = on_load;\n      element.onerror = on_error.bind(null, url);\n      element.rel = \"stylesheet\";\n      element.type = \"text/css\";\n      element.href = url;\n      console.debug(\"Bokeh: injecting link tag for BokehJS stylesheet: \", url);\n      document.body.appendChild(element);\n    }\n\n    for (let i = 0; i < js_urls.length; i++) {\n      const url = js_urls[i];\n      const element = document.createElement('script');\n      element.onload = on_load;\n      element.onerror = on_error.bind(null, url);\n      element.async = false;\n      element.src = url;\n      console.debug(\"Bokeh: injecting script tag for BokehJS library: \", url);\n      document.head.appendChild(element);\n    }\n  };\n\n  function inject_raw_css(css) {\n    const element = document.createElement(\"style\");\n    element.appendChild(document.createTextNode(css));\n    document.body.appendChild(element);\n  }\n\n  const js_urls = [\"https://cdn.bokeh.org/bokeh/release/bokeh-3.2.0.min.js\", \"https://cdn.bokeh.org/bokeh/release/bokeh-gl-3.2.0.min.js\", \"https://cdn.bokeh.org/bokeh/release/bokeh-widgets-3.2.0.min.js\", \"https://cdn.bokeh.org/bokeh/release/bokeh-tables-3.2.0.min.js\", \"https://cdn.bokeh.org/bokeh/release/bokeh-mathjax-3.2.0.min.js\"];\n  const css_urls = [];\n\n  const inline_js = [    function(Bokeh) {\n      Bokeh.set_log_level(\"info\");\n    },\nfunction(Bokeh) {\n    }\n  ];\n\n  function run_inline_js() {\n    if (root.Bokeh !== undefined || force === true) {\n          for (let i = 0; i < inline_js.length; i++) {\n      inline_js[i].call(root, root.Bokeh);\n    }\nif (force === true) {\n        display_loaded();\n      }} else if (Date.now() < root._bokeh_timeout) {\n      setTimeout(run_inline_js, 100);\n    } else if (!root._bokeh_failed_load) {\n      console.log(\"Bokeh: BokehJS failed to load within specified timeout.\");\n      root._bokeh_failed_load = true;\n    } else if (force !== true) {\n      const cell = $(document.getElementById(\"be4d11b7-de1c-4746-a16c-aeaaa9ca4a62\")).parents('.cell').data().cell;\n      cell.output_area.append_execute_result(NB_LOAD_WARNING)\n    }\n  }\n\n  if (root._bokeh_is_loading === 0) {\n    console.debug(\"Bokeh: BokehJS loaded, going straight to plotting\");\n    run_inline_js();\n  } else {\n    load_libs(css_urls, js_urls, function() {\n      console.debug(\"Bokeh: BokehJS plotting callback run at\", now());\n      run_inline_js();\n    });\n  }\n}(window));"
     },
     "metadata": {},
     "output_type": "display_data"
    }
   ],
   "source": [
    "output_notebook()"
   ]
  },
  {
   "cell_type": "code",
   "execution_count": 4,
   "id": "c990096f",
   "metadata": {},
   "outputs": [],
   "source": [
    "import filedialogs"
   ]
  },
  {
   "cell_type": "code",
   "execution_count": 5,
   "id": "c653f4b8",
   "metadata": {},
   "outputs": [],
   "source": [
    "from metavision_core.event_io.raw_reader import RawReader\n",
    "from metavision_core.event_io.py_reader import EventDatReader\n",
    "from metavision_core.event_io import EventsIterator"
   ]
  },
  {
   "cell_type": "code",
   "execution_count": 6,
   "id": "f4236cd8",
   "metadata": {},
   "outputs": [],
   "source": [
    "dt=1000"
   ]
  },
  {
   "cell_type": "code",
   "execution_count": 8,
   "id": "0201a266",
   "metadata": {},
   "outputs": [],
   "source": [
    "path = filedialogs.gui_fname('example_data/')\n",
    "path = path.decode('ascii')"
   ]
  },
  {
   "cell_type": "code",
   "execution_count": 9,
   "id": "f75acc6b",
   "metadata": {},
   "outputs": [
    {
     "name": "stdout",
     "output_type": "stream",
     "text": [
      "RawReader(E:/code/github-ffvoigt/accordion/playground/example_data/fish_bouts_recording_2023-06-27_10-42-58.raw)\n",
      "current time : 0us done : False\n",
      "current event index : 0\n",
      "_begin_buffer 0,_end_buffer_ 0,  buffer_size 10000000\n"
     ]
    }
   ],
   "source": [
    "record_raw = RawReader(path)\n",
    "print(record_raw)"
   ]
  },
  {
   "cell_type": "code",
   "execution_count": 10,
   "id": "56aa4197",
   "metadata": {
    "scrolled": false
   },
   "outputs": [
    {
     "name": "stdout",
     "output_type": "stream",
     "text": [
      "[(834, 596, 1,     8214) (925,   4, 0,     9194) (767, 127, 0,     9410)\n",
      " ... (829, 542, 0, 15191063) (771, 162, 0, 15191064)\n",
      " (810, 484, 0, 15191067)]\n"
     ]
    }
   ],
   "source": [
    "events = record_raw.load_n_events(1000000)\n",
    "print(events)"
   ]
  },
  {
   "cell_type": "code",
   "execution_count": 11,
   "id": "d7e6b4e3",
   "metadata": {
    "scrolled": true
   },
   "outputs": [
    {
     "data": {
      "text/plain": [
       "15191067"
      ]
     },
     "execution_count": 11,
     "metadata": {},
     "output_type": "execute_result"
    }
   ],
   "source": [
    "events['t'].max()"
   ]
  },
  {
   "cell_type": "code",
   "execution_count": 12,
   "id": "8c8f8788",
   "metadata": {},
   "outputs": [
    {
     "data": {
      "text/plain": [
       "15.191066999999999"
      ]
     },
     "execution_count": 12,
     "metadata": {},
     "output_type": "execute_result"
    }
   ],
   "source": [
    "events['t'].max()/1000/1000"
   ]
  },
  {
   "cell_type": "code",
   "execution_count": 13,
   "id": "29a86273",
   "metadata": {},
   "outputs": [],
   "source": [
    "def calculate_bins(events, dt=1000):\n",
    "    # calculate events for timestep dt in us\n",
    "    min_timepoint = events['t'].min()\n",
    "    max_timepoint = events['t'].max()\n",
    "    interval_us = max_timepoint-min_timepoint\n",
    "    timepoints = int(interval_us / (dt))\n",
    "    bins = np.linspace(min_timepoint, max_timepoint, timepoints)\n",
    "    return bins\n",
    "\n",
    "def calculate_bin_number(events, dt=1000):\n",
    "    # calculate events for timestep dt in us\n",
    "    min_timepoint = events['t'].min()\n",
    "    max_timepoint = events['t'].max()\n",
    "    timepoints = int(np.floor((max_timepoint-min_timepoint) / (dt)))\n",
    "    return timepoints"
   ]
  },
  {
   "cell_type": "code",
   "execution_count": 14,
   "id": "3a13fde9",
   "metadata": {},
   "outputs": [],
   "source": [
    "@nb.njit\n",
    "def inside_circle(x, y, x_center, y_center, r):\n",
    "    return np.power(x-x_center,2)+np.power(y-y_center,2) <= np.power(r,2)\n",
    "\n",
    "def is_on_event(event):\n",
    "    return event[2]==1\n",
    "\n",
    "@nb.njit\n",
    "def filter_array(arr, condition):\n",
    "    result = np.empty_like(arr)\n",
    "    j = 0\n",
    "    for i in range(arr.size):\n",
    "        if condition(arr[i]):\n",
    "            result[j] = arr[i]\n",
    "            j += 1\n",
    "    return result[:j].copy()"
   ]
  },
  {
   "cell_type": "code",
   "execution_count": 15,
   "id": "9ee0b683",
   "metadata": {},
   "outputs": [],
   "source": [
    "@nb.njit\n",
    "def events_inside_circular_roi(events, x_center, y_center, radius):\n",
    "    result = np.empty_like(events)\n",
    "    j = 0\n",
    "    for i in range(events.size):\n",
    "        if inside_circle(events[i]['x'],events[i]['y'],x_center,y_center, radius):\n",
    "            result[j] = events[i]\n",
    "            j += 1\n",
    "    return result[:j].copy()"
   ]
  },
  {
   "cell_type": "code",
   "execution_count": 16,
   "id": "29737ddc",
   "metadata": {},
   "outputs": [],
   "source": [
    "@nb.njit\n",
    "def split_events(events):\n",
    "    on_events = np.empty_like(events)\n",
    "    off_events = np.empty_like(events)\n",
    "    on_counter = 0\n",
    "    off_counter = 0\n",
    "    \n",
    "    for i in range(events.size):\n",
    "        if events[i][2]==1:\n",
    "            on_events[on_counter] = events[i]\n",
    "            on_counter += 1\n",
    "        else: \n",
    "            off_events[off_counter] = events[i]\n",
    "            off_counter += 1\n",
    "   \n",
    "    return on_events[:on_counter].copy(),off_events[:off_counter].copy()"
   ]
  },
  {
   "cell_type": "code",
   "execution_count": 17,
   "id": "8ee30ad4",
   "metadata": {},
   "outputs": [],
   "source": [
    "inside_events = events_inside_circular_roi(events, 560, 375, 400)\n",
    "#on_events, off_events = split_events(inside_events)"
   ]
  },
  {
   "cell_type": "markdown",
   "id": "4cc706ad",
   "metadata": {},
   "source": [
    "Note: The on/off edges are slightly different as the event timestamps are slightly different \n",
    "* might be solvable by shifting the first and the last events in time?\n",
    "* or hardcoding the edges based on the original event data?"
   ]
  },
  {
   "cell_type": "code",
   "execution_count": 18,
   "id": "11aa2416",
   "metadata": {},
   "outputs": [],
   "source": [
    "def create_event_dict(events, dt=1000):\n",
    "    on_events, off_events = split_events(events)\n",
    "    event_dict = {}\n",
    "    event_dict['on_events'] = on_events\n",
    "    event_dict['off_events'] = off_events\n",
    "    event_dict['metadata'] = {'num_events'    : len(events), \n",
    "                              'num_on_events' : len(on_events),\n",
    "                              'num_off_events': len(off_events),\n",
    "                             }\n",
    "    bins = calculate_bins(events, dt)\n",
    "    event_dict['on_hist']  , on_edges  = np.histogram(on_events['t'],  density=False, bins=bins)\n",
    "    event_dict['off_hist'] , off_edges = np.histogram(off_events['t'], density=False, bins=bins)\n",
    "    event_dict['on_edges'] = on_edges[1:]\n",
    "    event_dict['off_edges'] = off_edges[1:]\n",
    "    return event_dict"
   ]
  },
  {
   "cell_type": "code",
   "execution_count": 19,
   "id": "0095c214",
   "metadata": {},
   "outputs": [],
   "source": [
    "event_dict = create_event_dict(events)"
   ]
  },
  {
   "cell_type": "code",
   "execution_count": 20,
   "id": "e03ad467",
   "metadata": {},
   "outputs": [
    {
     "data": {
      "text/plain": [
       "dict_keys(['on_events', 'off_events', 'metadata', 'on_hist', 'off_hist', 'on_edges', 'off_edges'])"
      ]
     },
     "execution_count": 20,
     "metadata": {},
     "output_type": "execute_result"
    }
   ],
   "source": [
    "event_dict.keys()"
   ]
  },
  {
   "cell_type": "markdown",
   "id": "ff8bc7e8",
   "metadata": {},
   "source": [
    "### Numpy arrays have names for columns!"
   ]
  },
  {
   "cell_type": "code",
   "execution_count": null,
   "id": "1eef4b37",
   "metadata": {},
   "outputs": [],
   "source": [
    "events.dtype.names"
   ]
  },
  {
   "cell_type": "markdown",
   "id": "61465ae2",
   "metadata": {},
   "source": [
    "### Pyqtgraph Helper Tool"
   ]
  },
  {
   "cell_type": "code",
   "execution_count": 21,
   "id": "a5404916",
   "metadata": {},
   "outputs": [],
   "source": [
    "%gui qt5\n",
    "from PyQt5.Qt import QApplication\n",
    "import qdarkstyle\n",
    "import pyqtgraph as pg"
   ]
  },
  {
   "cell_type": "code",
   "execution_count": 22,
   "id": "7369e8fc",
   "metadata": {},
   "outputs": [],
   "source": [
    "# start qt event loop\n",
    "_instance = QApplication.instance()\n",
    "if not _instance:\n",
    "    _instance = QApplication([])\n",
    "app = _instance"
   ]
  },
  {
   "cell_type": "code",
   "execution_count": 30,
   "id": "c863a417",
   "metadata": {},
   "outputs": [],
   "source": [
    "class EventExplorer():\n",
    "    def __init__(self, eventdict):\n",
    "        self.events = eventdict\n",
    "        self.graphicsView = pg.GraphicsView()\n",
    "        self.graphicsView.setWindowTitle('Event Explorer')\n",
    "        self.layout = pg.GraphicsLayout()\n",
    "        self.graphicsView.setCentralItem(self.layout)\n",
    "        self.graphicsView.show()\n",
    "        \n",
    "        self.XY_plot = self.layout.addPlot(row=0, col=0, rowspan=2, colspan=1)\n",
    "        self.ET_plot = self.layout.addPlot(row=2, col=0, rowspan=1, colspan=2)\n",
    "        self.ET_region_selection_plot = self.layout.addPlot(row=3, col=0, rowspan=1, colspan=2)\n",
    "        self.YT_plot = self.layout.addPlot(row=0, col=3)\n",
    "        self.XY_plot.setAspectLocked(True, ratio=1.77)\n",
    "        self.XY_plot.invertY(True)\n",
    "        self.YT_plot.invertY(True)\n",
    "        self.YT_plot.enableAutoRange()\n",
    "        \n",
    "        self.ET_plot.plot(x = self.events['on_edges'], y = self.events['on_hist'], pen=\"b\")\n",
    "        self.ET_plot.plot(x = self.events['on_edges'], y = self.events['on_hist']+self.events['off_hist'], pen=\"r\")\n",
    "        self.ET_region_selection_plot.plot(x = self.events['on_edges'], y = self.events['on_hist']+self.events['off_hist'], pen=\"r\")\n",
    "        \n",
    "        len_data = len(self.events['on_hist'])\n",
    "        left_start_range = self.events['on_edges'][int(len_data/3)]\n",
    "        right_start_range = self.events['on_edges'][int(2*len_data/3)] \n",
    "        \n",
    "        self.ET_region = pg.LinearRegionItem(values=[left_start_range,right_start_range])\n",
    "        self.ET_region.setZValue(10) # Move item up\n",
    "        self.ET_region_selection_plot.addItem(self.ET_region, ignoreBounds = True)\n",
    "        self.ET_plot.setAutoVisible(y=True)\n",
    "        \n",
    "        self.s4 = pg.ScatterPlotItem(\n",
    "            size=3,\n",
    "            pen=pg.mkPen(None),\n",
    "            brush=pg.mkBrush(255, 255, 255, 20))\n",
    "\n",
    "        self.s4.addPoints(x=self.events['on_events']['x'],\n",
    "            y=self.events['on_events']['y'],\n",
    "                # size=(np.random.random(n) * 20.).astype(int),\n",
    "            #brush=[pg.mkBrush(x) for x in np.random.randint(0, 256, (len(on_events), 3))],\n",
    "                #data=np.arange(n)\n",
    "                )\n",
    "\n",
    "        self.XY_plot.addItem(self.s4)\n",
    "        \n",
    "        self.s5 = pg.ScatterPlotItem(\n",
    "            size=3,\n",
    "            pen=pg.mkPen(None),\n",
    "            brush=pg.mkBrush(255, 255, 255, 20))\n",
    "        \n",
    "        self.YT_plot.addItem(self.s5)\n",
    "        \n",
    "        #ET_plot.sigRangeChanged.connect(updateRegion) \n",
    "        self.ET_region.sigRegionChanged.connect(self.update)\n",
    "        \n",
    "        self.create_roi()\n",
    "        \n",
    "    def create_roi(self):\n",
    "        self.roi = pg.RectROI([20, 20], [100, 100], pen=(0,9))\n",
    "        #self.roi.addRotateHandle([1,0], [0.5, 0.5])\n",
    "        self.XY_plot.addItem(self.roi)\n",
    "        self.roi.sigRegionChangeFinished.connect(self.update_from_ROI)\n",
    "        \n",
    "    def updateRegion(self, window, viewRange):\n",
    "        rgn = viewRange[0]\n",
    "        self.ET_region_selection_plot.setRegion(rgn)\n",
    "        \n",
    "    def update_from_ROI(self):\n",
    "        self.roi_state = self.roi.getState()\n",
    "        x_pos = self.roi_state['pos'].x()\n",
    "        y_pos = self.roi_state['pos'].y()\n",
    "        x_width = self.roi_state['size'].x()\n",
    "        y_width = self.roi_state['size'].y()\n",
    "        \n",
    "        self.events_subset = self.rect_filter_events(self.events_subset, x_pos, y_pos, x_width, y_width)\n",
    "        self.update_YT_plot(self.events_subset)\n",
    "        \n",
    "    def rect_filter_events(self, events, x_pos, y_pos, x_width, y_width):\n",
    "        # how many events are in the bounding box?\n",
    "        # create a filter vector for events and then apply it to the numpy array\n",
    "        \n",
    "        counter = 0\n",
    "        for event in events:\n",
    "            event_x_pos = event[1]\n",
    "            event_y_pos = event[0]\n",
    "            if x_pos < event_x_pos & event_x_pos < x_pos+x_width:\n",
    "                if y_pos < event_y_pos & event_y_pos < y_pos+y_width:\n",
    "                    counter+=1\n",
    "        \n",
    "        filtered_events = np.zeros(i)\n",
    "    \n",
    "        for event in events:\n",
    "            event_x_pos = event[1]\n",
    "            event_y_pos = event[0]\n",
    "            if x_pos < event_x_pos & event_x_pos < x_pos+x_width:\n",
    "                if y_pos < event_y_pos & event_y_pos < y_pos+y_width:\n",
    "                    filtered_events = np.append(filtered_events, event)\n",
    "                   \n",
    "        return filtered_events\n",
    "        \n",
    "        \n",
    "    def event_time_slice(self, events, t_start, t_stop):\n",
    "        start_index = int(np.sum(self.events['on_hist'][0:int(np.floor((t_start-self.events['on_edges'][0])/dt))]))\n",
    "        stop_index = int(np.sum(self.events['on_hist'][0:int(np.ceil((t_stop-self.events['on_edges'][0])/dt))]))\n",
    "        return events[start_index:stop_index]\n",
    "\n",
    "    def update_XY_plot(self, events_subset):\n",
    "        self.s4.clear()\n",
    "        self.s4.addPoints(x=events_subset['x'],\n",
    "                y=-events_subset['y']+720,\n",
    "                     )\n",
    "\n",
    "    def update_YT_plot(self, events_subset):\n",
    "        self.s5.clear()\n",
    "        self.s5.addPoints(x=events_subset['t'],\n",
    "                y=events_subset['y'],\n",
    "                     )\n",
    "\n",
    "    def update(self):\n",
    "        self.ET_region.setZValue(10)\n",
    "        minT, maxT = self.ET_region.getRegion()\n",
    "        self.ET_plot.setXRange(minT, maxT, padding=0)\n",
    "        self.events_subset = self.event_time_slice(self.events['on_events'], minT, maxT)\n",
    "        self.update_XY_plot(self.events_subset)\n",
    "        self.update_YT_plot(self.events_subset)"
   ]
  },
  {
   "cell_type": "code",
   "execution_count": 24,
   "id": "ffd8cab4",
   "metadata": {},
   "outputs": [],
   "source": [
    "myexplorer2 = EventExplorer(event_dict)"
   ]
  },
  {
   "cell_type": "code",
   "execution_count": 83,
   "id": "327533e4",
   "metadata": {},
   "outputs": [],
   "source": [
    "x_pos = myexplorer2.roi_state['pos'].x()\n",
    "y_pos = myexplorer2.roi_state['pos'].y()\n",
    "x_width = myexplorer2.roi_state['size'].x()\n",
    "y_width = myexplorer2.roi_state['size'].y()"
   ]
  },
  {
   "cell_type": "code",
   "execution_count": 88,
   "id": "106b0bb0",
   "metadata": {},
   "outputs": [],
   "source": [
    "filtered_events = np.array([])"
   ]
  },
  {
   "cell_type": "code",
   "execution_count": 93,
   "id": "55f3618a",
   "metadata": {
    "scrolled": true
   },
   "outputs": [
    {
     "data": {
      "text/plain": [
       "array([4., 6.])"
      ]
     },
     "execution_count": 93,
     "metadata": {},
     "output_type": "execute_result"
    }
   ],
   "source": [
    "np.append(filtered_events, [4,6])"
   ]
  },
  {
   "cell_type": "code",
   "execution_count": 26,
   "id": "f6d45157",
   "metadata": {},
   "outputs": [
    {
     "data": {
      "text/plain": [
       "(98758,)"
      ]
     },
     "execution_count": 26,
     "metadata": {},
     "output_type": "execute_result"
    }
   ],
   "source": [
    "myexplorer2.events['on_events'].shape"
   ]
  },
  {
   "cell_type": "code",
   "execution_count": 29,
   "id": "5dc57130",
   "metadata": {},
   "outputs": [
    {
     "data": {
      "text/plain": [
       "(834, 596, 1, 8214)"
      ]
     },
     "execution_count": 29,
     "metadata": {},
     "output_type": "execute_result"
    }
   ],
   "source": [
    "myexplorer2.events['on_events'][0]"
   ]
  },
  {
   "cell_type": "code",
   "execution_count": null,
   "id": "a463fd46",
   "metadata": {},
   "outputs": [],
   "source": []
  },
  {
   "cell_type": "code",
   "execution_count": 86,
   "id": "5791c9d6",
   "metadata": {},
   "outputs": [
    {
     "data": {
      "text/plain": [
       "True"
      ]
     },
     "execution_count": 86,
     "metadata": {},
     "output_type": "execute_result"
    }
   ],
   "source": [
    "True & True"
   ]
  },
  {
   "cell_type": "code",
   "execution_count": 85,
   "id": "4ab15b22",
   "metadata": {},
   "outputs": [
    {
     "name": "stdout",
     "output_type": "stream",
     "text": [
      "Help on function empty_like in module numpy:\n",
      "\n",
      "empty_like(...)\n",
      "    empty_like(prototype, dtype=None, order='K', subok=True, shape=None)\n",
      "    \n",
      "    Return a new array with the same shape and type as a given array.\n",
      "    \n",
      "    Parameters\n",
      "    ----------\n",
      "    prototype : array_like\n",
      "        The shape and data-type of `prototype` define these same attributes\n",
      "        of the returned array.\n",
      "    dtype : data-type, optional\n",
      "        Overrides the data type of the result.\n",
      "    \n",
      "        .. versionadded:: 1.6.0\n",
      "    order : {'C', 'F', 'A', or 'K'}, optional\n",
      "        Overrides the memory layout of the result. 'C' means C-order,\n",
      "        'F' means F-order, 'A' means 'F' if `prototype` is Fortran\n",
      "        contiguous, 'C' otherwise. 'K' means match the layout of `prototype`\n",
      "        as closely as possible.\n",
      "    \n",
      "        .. versionadded:: 1.6.0\n",
      "    subok : bool, optional.\n",
      "        If True, then the newly created array will use the sub-class\n",
      "        type of `prototype`, otherwise it will be a base-class array. Defaults\n",
      "        to True.\n",
      "    shape : int or sequence of ints, optional.\n",
      "        Overrides the shape of the result. If order='K' and the number of\n",
      "        dimensions is unchanged, will try to keep order, otherwise,\n",
      "        order='C' is implied.\n",
      "    \n",
      "        .. versionadded:: 1.17.0\n",
      "    \n",
      "    Returns\n",
      "    -------\n",
      "    out : ndarray\n",
      "        Array of uninitialized (arbitrary) data with the same\n",
      "        shape and type as `prototype`.\n",
      "    \n",
      "    See Also\n",
      "    --------\n",
      "    ones_like : Return an array of ones with shape and type of input.\n",
      "    zeros_like : Return an array of zeros with shape and type of input.\n",
      "    full_like : Return a new array with shape of input filled with value.\n",
      "    empty : Return a new uninitialized array.\n",
      "    \n",
      "    Notes\n",
      "    -----\n",
      "    This function does *not* initialize the returned array; to do that use\n",
      "    `zeros_like` or `ones_like` instead.  It may be marginally faster than\n",
      "    the functions that do set the array values.\n",
      "    \n",
      "    Examples\n",
      "    --------\n",
      "    >>> a = ([1,2,3], [4,5,6])                         # a is array-like\n",
      "    >>> np.empty_like(a)\n",
      "    array([[-1073741821, -1073741821,           3],    # uninitialized\n",
      "           [          0,           0, -1073741821]])\n",
      "    >>> a = np.array([[1., 2., 3.],[4.,5.,6.]])\n",
      "    >>> np.empty_like(a)\n",
      "    array([[ -2.00000715e+000,   1.48219694e-323,  -2.00000572e+000], # uninitialized\n",
      "           [  4.38791518e-305,  -2.00000715e+000,   4.17269252e-309]])\n",
      "\n"
     ]
    }
   ],
   "source": [
    "help(np.empty_like)"
   ]
  },
  {
   "cell_type": "code",
   "execution_count": 84,
   "id": "77f8ee8c",
   "metadata": {},
   "outputs": [
    {
     "name": "stdout",
     "output_type": "stream",
     "text": [
      "129.61538675790683\n"
     ]
    }
   ],
   "source": [
    "print(x_pos)"
   ]
  },
  {
   "cell_type": "code",
   "execution_count": 50,
   "id": "a8c7b9d5",
   "metadata": {},
   "outputs": [
    {
     "data": {
      "text/plain": [
       "(19100,)"
      ]
     },
     "execution_count": 50,
     "metadata": {},
     "output_type": "execute_result"
    }
   ],
   "source": [
    "myexplorer2.events_subset.shape"
   ]
  },
  {
   "cell_type": "code",
   "execution_count": 60,
   "id": "4679fb61",
   "metadata": {},
   "outputs": [
    {
     "name": "stdout",
     "output_type": "stream",
     "text": [
      "Error while drawing item <pyqtgraph.opengl.items.GLScatterPlotItem.GLScatterPlotItem object at 0x0000019EBA01C310>.\n",
      "Error while drawing item <pyqtgraph.opengl.items.GLScatterPlotItem.GLScatterPlotItem object at 0x0000019EBA01C310>.\n",
      "Error while drawing item <pyqtgraph.opengl.items.GLScatterPlotItem.GLScatterPlotItem object at 0x0000019EBA01C310>.\n",
      "Error while drawing item <pyqtgraph.opengl.items.GLScatterPlotItem.GLScatterPlotItem object at 0x0000019EBA01C310>.\n",
      "Error while drawing item <pyqtgraph.opengl.items.GLScatterPlotItem.GLScatterPlotItem object at 0x0000019EBA01C310>.\n",
      "Error while drawing item <pyqtgraph.opengl.items.GLScatterPlotItem.GLScatterPlotItem object at 0x0000019EBA01C310>.\n",
      "Error while drawing item <pyqtgraph.opengl.items.GLScatterPlotItem.GLScatterPlotItem object at 0x0000019EBA01C310>.\n",
      "Error while drawing item <pyqtgraph.opengl.items.GLScatterPlotItem.GLScatterPlotItem object at 0x0000019EBA01C310>.\n",
      "Error while drawing item <pyqtgraph.opengl.items.GLScatterPlotItem.GLScatterPlotItem object at 0x0000019EBA01C310>.\n",
      "Error while drawing item <pyqtgraph.opengl.items.GLScatterPlotItem.GLScatterPlotItem object at 0x0000019EBA01C310>.\n"
     ]
    }
   ],
   "source": [
    "import pyqtgraph as pg\n",
    "from pyqtgraph import functions as fn\n",
    "from pyqtgraph.Qt import QtCore, QtGui\n",
    "import pyqtgraph.opengl as gl\n",
    "import numpy as np\n",
    "'''\n",
    "# start qt event loop\n",
    "_instance2 = QApplication.instance()\n",
    "if not _instance2:\n",
    "    _instance2 = QApplication([])\n",
    "app = _instance2\n",
    "'''\n",
    "app = pg.mkQApp(\"GLScatterPlotItem Example\")\n",
    "\n",
    "\n",
    "\n",
    "w = gl.GLViewWidget()\n",
    "w.show()\n",
    "w.setWindowTitle('pyqtgraph example: GLScatterPlotItem')\n",
    "w.setCameraPosition(distance=20)\n",
    "\n",
    "g = gl.GLGridItem()\n",
    "w.addItem(g)\n",
    "\n",
    "pos = np.random.random(size=(100000,3))\n",
    "pos *= [10,-10,10]\n",
    "\n",
    "sp2 = gl.GLScatterPlotItem(pos=pos, color=(1,1,1,1), size=10)\n",
    "w.addItem(sp2)"
   ]
  }
 ],
 "metadata": {
  "kernelspec": {
   "display_name": "Python 3 (ipykernel)",
   "language": "python",
   "name": "python3"
  },
  "language_info": {
   "codemirror_mode": {
    "name": "ipython",
    "version": 3
   },
   "file_extension": ".py",
   "mimetype": "text/x-python",
   "name": "python",
   "nbconvert_exporter": "python",
   "pygments_lexer": "ipython3",
   "version": "3.9.16"
  }
 },
 "nbformat": 4,
 "nbformat_minor": 5
}
