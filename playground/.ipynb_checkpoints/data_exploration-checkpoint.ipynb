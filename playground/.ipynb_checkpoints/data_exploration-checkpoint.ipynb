{
 "cells": [
  {
   "cell_type": "code",
   "execution_count": 1,
   "id": "df4c500c",
   "metadata": {
    "scrolled": true
   },
   "outputs": [],
   "source": [
    "import sys\n",
    "import os\n",
    "import numpy as np\n",
    "import napari\n",
    "%matplotlib inline\n",
    "from matplotlib import pyplot as plt  # graphic library, for plots"
   ]
  },
  {
   "cell_type": "code",
   "execution_count": 2,
   "id": "5da98186",
   "metadata": {},
   "outputs": [],
   "source": [
    "import filedialogs"
   ]
  },
  {
   "cell_type": "code",
   "execution_count": 3,
   "id": "06f010c7",
   "metadata": {},
   "outputs": [],
   "source": [
    "from metavision_core.event_io.raw_reader import RawReader\n",
    "from metavision_core.event_io.py_reader import EventDatReader\n",
    "from metavision_core.event_io import EventsIterator"
   ]
  },
  {
   "cell_type": "code",
   "execution_count": 4,
   "id": "3f42a2c7",
   "metadata": {},
   "outputs": [],
   "source": [
    "path = filedialogs.gui_fname('example_data/')"
   ]
  },
  {
   "cell_type": "code",
   "execution_count": null,
   "id": "06ae2583",
   "metadata": {},
   "outputs": [],
   "source": [
    "path = path.decode('ascii')"
   ]
  },
  {
   "cell_type": "code",
   "execution_count": null,
   "id": "e430d294",
   "metadata": {},
   "outputs": [],
   "source": [
    "record_raw = RawReader(path)\n",
    "print(record_raw)"
   ]
  },
  {
   "cell_type": "code",
   "execution_count": null,
   "id": "5643cd79",
   "metadata": {
    "scrolled": false
   },
   "outputs": [],
   "source": [
    "events = record_raw.load_n_events(1000000)\n",
    "print(events)"
   ]
  },
  {
   "cell_type": "code",
   "execution_count": null,
   "id": "485bd22f",
   "metadata": {},
   "outputs": [],
   "source": [
    "len(events)"
   ]
  },
  {
   "cell_type": "code",
   "execution_count": null,
   "id": "b559dc98",
   "metadata": {},
   "outputs": [],
   "source": [
    "events[-1][3]/1000/1000"
   ]
  },
  {
   "cell_type": "code",
   "execution_count": null,
   "id": "7dd77c1f",
   "metadata": {},
   "outputs": [],
   "source": [
    "def viz_events(events, height, width):\n",
    "    img = np.full((height, width, 3), 128, dtype=np.uint8)\n",
    "    img[events['y'], events['x']] = 255 * events['p'][:, None]\n",
    "    return img"
   ]
  },
  {
   "cell_type": "code",
   "execution_count": null,
   "id": "ab256455",
   "metadata": {
    "scrolled": true
   },
   "outputs": [],
   "source": [
    "events['p']"
   ]
  },
  {
   "cell_type": "code",
   "execution_count": null,
   "id": "75a7b3fb",
   "metadata": {
    "scrolled": true
   },
   "outputs": [],
   "source": [
    "len(events['t'])"
   ]
  },
  {
   "cell_type": "code",
   "execution_count": null,
   "id": "bd7fdb6a",
   "metadata": {},
   "outputs": [],
   "source": [
    "type(events[4])"
   ]
  },
  {
   "cell_type": "code",
   "execution_count": null,
   "id": "6eca1bac",
   "metadata": {
    "scrolled": true
   },
   "outputs": [],
   "source": [
    "events2 = np.array([[events['t'], events['x'], events['y'], events['p']]])\n",
    "events2 = np.array([[events['t'], events['x'], events['y']]])"
   ]
  },
  {
   "cell_type": "code",
   "execution_count": null,
   "id": "bc47aefd",
   "metadata": {},
   "outputs": [],
   "source": [
    "events[3][1]"
   ]
  },
  {
   "cell_type": "code",
   "execution_count": null,
   "id": "9188ac14",
   "metadata": {},
   "outputs": [],
   "source": [
    "print(events[2])\n",
    "print(np.roll(events[2],2))"
   ]
  },
  {
   "cell_type": "code",
   "execution_count": null,
   "id": "375fbe89",
   "metadata": {},
   "outputs": [],
   "source": [
    "type(events2)"
   ]
  },
  {
   "cell_type": "code",
   "execution_count": null,
   "id": "1fc9b404",
   "metadata": {},
   "outputs": [],
   "source": [
    "events2.shape"
   ]
  },
  {
   "cell_type": "code",
   "execution_count": null,
   "id": "66429eea",
   "metadata": {},
   "outputs": [],
   "source": [
    "events2"
   ]
  },
  {
   "cell_type": "code",
   "execution_count": null,
   "id": "c159c78b",
   "metadata": {
    "scrolled": false
   },
   "outputs": [],
   "source": [
    "height, width = record_raw.get_size()\n",
    "\n",
    "# load the next 50 ms worth of events\n",
    "# events = record_raw.load_delta_t(50000)\n",
    "im = viz_events(events, height, width)\n",
    "\n",
    "plt.imshow(im)\n",
    "plt.tight_layout()"
   ]
  },
  {
   "cell_type": "code",
   "execution_count": null,
   "id": "8615251a",
   "metadata": {},
   "outputs": [],
   "source": [
    "plt.hist(events['t'], bins=1000)"
   ]
  },
  {
   "cell_type": "code",
   "execution_count": null,
   "id": "dbdc0375",
   "metadata": {},
   "outputs": [],
   "source": [
    "intereventintervals = np.diff(events['t'])"
   ]
  },
  {
   "cell_type": "code",
   "execution_count": null,
   "id": "70840987",
   "metadata": {},
   "outputs": [],
   "source": [
    "plt.hist(intereventintervals, bins=50, range=(0,50))"
   ]
  },
  {
   "cell_type": "markdown",
   "id": "41fe0b84",
   "metadata": {},
   "source": [
    "### Numpy arrays have names for columns!"
   ]
  },
  {
   "cell_type": "code",
   "execution_count": null,
   "id": "91e281b5",
   "metadata": {},
   "outputs": [],
   "source": [
    "events.dtype.names"
   ]
  },
  {
   "cell_type": "markdown",
   "id": "fde792a3",
   "metadata": {},
   "source": [
    "### Napari plot"
   ]
  },
  {
   "cell_type": "code",
   "execution_count": null,
   "id": "1c2b48eb",
   "metadata": {},
   "outputs": [],
   "source": [
    "from skimage import data"
   ]
  },
  {
   "cell_type": "code",
   "execution_count": null,
   "id": "1cf322c3",
   "metadata": {},
   "outputs": [],
   "source": [
    "viewer = napari.Viewer()"
   ]
  },
  {
   "cell_type": "code",
   "execution_count": null,
   "id": "f4ce70c1",
   "metadata": {},
   "outputs": [],
   "source": [
    "points = np.array([[1, 100, 100, 2], [2, 200, 200, 4], [3, 300, 100, 4]])"
   ]
  },
  {
   "cell_type": "code",
   "execution_count": null,
   "id": "3be26def",
   "metadata": {
    "scrolled": true
   },
   "outputs": [],
   "source": [
    "points_layer = viewer.add_points(events[:10000], size=2)"
   ]
  },
  {
   "cell_type": "code",
   "execution_count": null,
   "id": "408e4eb3",
   "metadata": {},
   "outputs": [],
   "source": [
    "record_raw.get_size()"
   ]
  }
 ],
 "metadata": {
  "kernelspec": {
   "display_name": "Python 3 (ipykernel)",
   "language": "python",
   "name": "python3"
  },
  "language_info": {
   "codemirror_mode": {
    "name": "ipython",
    "version": 3
   },
   "file_extension": ".py",
   "mimetype": "text/x-python",
   "name": "python",
   "nbconvert_exporter": "python",
   "pygments_lexer": "ipython3",
   "version": "3.9.16"
  }
 },
 "nbformat": 4,
 "nbformat_minor": 5
}
