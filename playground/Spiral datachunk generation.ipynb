{
 "cells": [
  {
   "cell_type": "code",
   "execution_count": null,
   "id": "43973bb7",
   "metadata": {},
   "outputs": [],
   "source": [
    "np.random.randint("
   ]
  },
  {
   "cell_type": "code",
   "execution_count": 1,
   "id": "fc626c1e",
   "metadata": {},
   "outputs": [],
   "source": [
    "import numpy as np"
   ]
  },
  {
   "cell_type": "code",
   "execution_count": 11,
   "id": "39749ca8",
   "metadata": {
    "scrolled": true
   },
   "outputs": [
    {
     "name": "stdout",
     "output_type": "stream",
     "text": [
      "[  6 -10  -4  -8 -10  -3  -8  -1  -3   5]\n"
     ]
    }
   ],
   "source": [
    "print(np.random.randint(-10,10,10))"
   ]
  },
  {
   "cell_type": "code",
   "execution_count": 13,
   "id": "f6d962d8",
   "metadata": {},
   "outputs": [
    {
     "name": "stdout",
     "output_type": "stream",
     "text": [
      "[[ -7  -3]\n",
      " [  2   3]\n",
      " [  2   9]\n",
      " [ -9   0]\n",
      " [-10  -3]\n",
      " [ -2 -10]\n",
      " [ -2  -2]\n",
      " [ -9  -6]\n",
      " [ -6  -4]\n",
      " [ -9   6]]\n"
     ]
    }
   ],
   "source": [
    "print(np.random.randint(-10,10,(10,2)))"
   ]
  },
  {
   "cell_type": "code",
   "execution_count": 28,
   "id": "bfe7c1c9",
   "metadata": {},
   "outputs": [],
   "source": [
    "mymatrix = np.random.randint(-10,10,(10,4))"
   ]
  },
  {
   "cell_type": "code",
   "execution_count": 29,
   "id": "5ea314cf",
   "metadata": {},
   "outputs": [
    {
     "data": {
      "text/plain": [
       "array([[ -1,  -4,   6,   4],\n",
       "       [  3, -10,  -7,   6],\n",
       "       [  4,   1,  -1,   0],\n",
       "       [ -1,   4,   2,  -1],\n",
       "       [ -8,   5, -10,   6],\n",
       "       [ -6,   9,   6,   6],\n",
       "       [  5,   9,   4,  -8],\n",
       "       [  6,   7,  -7,   0],\n",
       "       [ -4,  -4,   5,  -8],\n",
       "       [ -3,  -6,  -1,   9]])"
      ]
     },
     "execution_count": 29,
     "metadata": {},
     "output_type": "execute_result"
    }
   ],
   "source": [
    "mymatrix"
   ]
  },
  {
   "cell_type": "code",
   "execution_count": 32,
   "id": "e079ed2d",
   "metadata": {},
   "outputs": [
    {
     "data": {
      "text/plain": [
       "array([[ -1,  -4],\n",
       "       [  3, -10],\n",
       "       [  4,   1],\n",
       "       [ -1,   4],\n",
       "       [ -8,   5],\n",
       "       [ -6,   9],\n",
       "       [  5,   9],\n",
       "       [  6,   7],\n",
       "       [ -4,  -4],\n",
       "       [ -3,  -6]])"
      ]
     },
     "execution_count": 32,
     "metadata": {},
     "output_type": "execute_result"
    }
   ],
   "source": [
    "mymatrix[:,0:2]"
   ]
  },
  {
   "cell_type": "code",
   "execution_count": 19,
   "id": "62c72ea6",
   "metadata": {},
   "outputs": [
    {
     "ename": "TypeError",
     "evalue": "only size-1 arrays can be converted to Python scalars",
     "output_type": "error",
     "traceback": [
      "\u001b[1;31m---------------------------------------------------------------------------\u001b[0m",
      "\u001b[1;31mTypeError\u001b[0m                                 Traceback (most recent call last)",
      "Cell \u001b[1;32mIn[19], line 1\u001b[0m\n\u001b[1;32m----> 1\u001b[0m \u001b[38;5;28;43mint\u001b[39;49m\u001b[43m(\u001b[49m\u001b[43mnp\u001b[49m\u001b[38;5;241;43m.\u001b[39;49m\u001b[43mmean\u001b[49m\u001b[43m(\u001b[49m\u001b[43mmymatrix\u001b[49m\u001b[43m,\u001b[49m\u001b[43m \u001b[49m\u001b[43maxis\u001b[49m\u001b[38;5;241;43m=\u001b[39;49m\u001b[38;5;241;43m0\u001b[39;49m\u001b[43m)\u001b[49m\u001b[43m)\u001b[49m\n",
      "\u001b[1;31mTypeError\u001b[0m: only size-1 arrays can be converted to Python scalars"
     ]
    }
   ],
   "source": [
    "np.mean(mymatrix, axis=0)"
   ]
  },
  {
   "cell_type": "code",
   "execution_count": 35,
   "id": "e62478c1",
   "metadata": {},
   "outputs": [
    {
     "data": {
      "text/plain": [
       "array([-0.25      ,  0.36666667])"
      ]
     },
     "execution_count": 35,
     "metadata": {},
     "output_type": "execute_result"
    }
   ],
   "source": [
    "np.divide(np.mean(mymatrix[:,0:2], axis=0),[2,3])"
   ]
  }
 ],
 "metadata": {
  "kernelspec": {
   "display_name": "Python 3 (ipykernel)",
   "language": "python",
   "name": "python3"
  },
  "language_info": {
   "codemirror_mode": {
    "name": "ipython",
    "version": 3
   },
   "file_extension": ".py",
   "mimetype": "text/x-python",
   "name": "python",
   "nbconvert_exporter": "python",
   "pygments_lexer": "ipython3",
   "version": "3.9.16"
  }
 },
 "nbformat": 4,
 "nbformat_minor": 5
}
