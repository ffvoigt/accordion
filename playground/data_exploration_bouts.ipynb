{
 "cells": [
  {
   "cell_type": "code",
   "execution_count": 1,
   "id": "bc0889e8",
   "metadata": {
    "scrolled": true
   },
   "outputs": [],
   "source": [
    "import sys\n",
    "import os\n",
    "import numpy as np\n",
    "import napari\n",
    "%matplotlib inline\n",
    "from matplotlib import pyplot as plt  # graphic library, for plots\n",
    "#import seaborn as sns\n",
    "import numba as nb\n",
    "\n",
    "from bokeh.plotting import figure, show\n",
    "from bokeh.io import output_notebook\n",
    "from bokeh.layouts import column\n",
    "from bokeh.models import ColumnDataSource, RangeTool\n",
    "from bokeh.plotting import figure, show\n",
    "from bokeh.sampledata.stocks import AAPL"
   ]
  },
  {
   "cell_type": "code",
   "execution_count": 2,
   "id": "29002ec3",
   "metadata": {},
   "outputs": [
    {
     "data": {
      "text/html": [
       "<style>\n",
       "        .bk-notebook-logo {\n",
       "            display: block;\n",
       "            width: 20px;\n",
       "            height: 20px;\n",
       "            background-image: url(data:image/png;base64,iVBORw0KGgoAAAANSUhEUgAAABQAAAAUCAYAAACNiR0NAAAABHNCSVQICAgIfAhkiAAAAAlwSFlzAAALEgAACxIB0t1+/AAAABx0RVh0U29mdHdhcmUAQWRvYmUgRmlyZXdvcmtzIENTNui8sowAAAOkSURBVDiNjZRtaJVlGMd/1/08zzln5zjP1LWcU9N0NkN8m2CYjpgQYQXqSs0I84OLIC0hkEKoPtiH3gmKoiJDU7QpLgoLjLIQCpEsNJ1vqUOdO7ppbuec5+V+rj4ctwzd8IIbbi6u+8f1539dt3A78eXC7QizUF7gyV1fD1Yqg4JWz84yffhm0qkFqBogB9rM8tZdtwVsPUhWhGcFJngGeWrPzHm5oaMmkfEg1usvLFyc8jLRqDOMru7AyC8saQr7GG7f5fvDeH7Ej8CM66nIF+8yngt6HWaKh7k49Soy9nXurCi1o3qUbS3zWfrYeQDTB/Qj6kX6Ybhw4B+bOYoLKCC9H3Nu/leUTZ1JdRWkkn2ldcCamzrcf47KKXdAJllSlxAOkRgyHsGC/zRday5Qld9DyoM4/q/rUoy/CXh3jzOu3bHUVZeU+DEn8FInkPBFlu3+nW3Nw0mk6vCDiWg8CeJaxEwuHS3+z5RgY+YBR6V1Z1nxSOfoaPa4LASWxxdNp+VWTk7+4vzaou8v8PN+xo+KY2xsw6une2frhw05CTYOmQvsEhjhWjn0bmXPjpE1+kplmmkP3suftwTubK9Vq22qKmrBhpY4jvd5afdRA3wGjFAgcnTK2s4hY0/GPNIb0nErGMCRxWOOX64Z8RAC4oCXdklmEvcL8o0BfkNK4lUg9HTl+oPlQxdNo3Mg4Nv175e/1LDGzZen30MEjRUtmXSfiTVu1kK8W4txyV6BMKlbgk3lMwYCiusNy9fVfvvwMxv8Ynl6vxoByANLTWplvuj/nF9m2+PDtt1eiHPBr1oIfhCChQMBw6Aw0UulqTKZdfVvfG7VcfIqLG9bcldL/+pdWTLxLUy8Qq38heUIjh4XlzZxzQm19lLFlr8vdQ97rjZVOLf8nclzckbcD4wxXMidpX30sFd37Fv/GtwwhzhxGVAprjbg0gCAEeIgwCZyTV2Z1REEW8O4py0wsjeloKoMr6iCY6dP92H6Vw/oTyICIthibxjm/DfN9lVz8IqtqKYLUXfoKVMVQVVJOElGjrnnUt9T9wbgp8AyYKaGlqingHZU/uG2NTZSVqwHQTWkx9hxjkpWDaCg6Ckj5qebgBVbT3V3NNXMSiWSDdGV3hrtzla7J+duwPOToIg42ChPQOQjspnSlp1V+Gjdged7+8UN5CRAV7a5EdFNwCjEaBR27b3W890TE7g24NAP/mMDXRWrGoFPQI9ls/MWO2dWFAar/xcOIImbbpA3zgAAAABJRU5ErkJggg==);\n",
       "        }\n",
       "    </style>\n",
       "    <div>\n",
       "        <a href=\"https://bokeh.org\" target=\"_blank\" class=\"bk-notebook-logo\"></a>\n",
       "        <span id=\"df57fc08-b238-49c8-b1fb-001a9429a1b2\">Loading BokehJS ...</span>\n",
       "    </div>\n"
      ]
     },
     "metadata": {},
     "output_type": "display_data"
    },
    {
     "data": {
      "application/javascript": [
       "(function(root) {\n",
       "  function now() {\n",
       "    return new Date();\n",
       "  }\n",
       "\n",
       "  const force = true;\n",
       "\n",
       "  if (typeof root._bokeh_onload_callbacks === \"undefined\" || force === true) {\n",
       "    root._bokeh_onload_callbacks = [];\n",
       "    root._bokeh_is_loading = undefined;\n",
       "  }\n",
       "\n",
       "const JS_MIME_TYPE = 'application/javascript';\n",
       "  const HTML_MIME_TYPE = 'text/html';\n",
       "  const EXEC_MIME_TYPE = 'application/vnd.bokehjs_exec.v0+json';\n",
       "  const CLASS_NAME = 'output_bokeh rendered_html';\n",
       "\n",
       "  /**\n",
       "   * Render data to the DOM node\n",
       "   */\n",
       "  function render(props, node) {\n",
       "    const script = document.createElement(\"script\");\n",
       "    node.appendChild(script);\n",
       "  }\n",
       "\n",
       "  /**\n",
       "   * Handle when an output is cleared or removed\n",
       "   */\n",
       "  function handleClearOutput(event, handle) {\n",
       "    const cell = handle.cell;\n",
       "\n",
       "    const id = cell.output_area._bokeh_element_id;\n",
       "    const server_id = cell.output_area._bokeh_server_id;\n",
       "    // Clean up Bokeh references\n",
       "    if (id != null && id in Bokeh.index) {\n",
       "      Bokeh.index[id].model.document.clear();\n",
       "      delete Bokeh.index[id];\n",
       "    }\n",
       "\n",
       "    if (server_id !== undefined) {\n",
       "      // Clean up Bokeh references\n",
       "      const cmd_clean = \"from bokeh.io.state import curstate; print(curstate().uuid_to_server['\" + server_id + \"'].get_sessions()[0].document.roots[0]._id)\";\n",
       "      cell.notebook.kernel.execute(cmd_clean, {\n",
       "        iopub: {\n",
       "          output: function(msg) {\n",
       "            const id = msg.content.text.trim();\n",
       "            if (id in Bokeh.index) {\n",
       "              Bokeh.index[id].model.document.clear();\n",
       "              delete Bokeh.index[id];\n",
       "            }\n",
       "          }\n",
       "        }\n",
       "      });\n",
       "      // Destroy server and session\n",
       "      const cmd_destroy = \"import bokeh.io.notebook as ion; ion.destroy_server('\" + server_id + \"')\";\n",
       "      cell.notebook.kernel.execute(cmd_destroy);\n",
       "    }\n",
       "  }\n",
       "\n",
       "  /**\n",
       "   * Handle when a new output is added\n",
       "   */\n",
       "  function handleAddOutput(event, handle) {\n",
       "    const output_area = handle.output_area;\n",
       "    const output = handle.output;\n",
       "\n",
       "    // limit handleAddOutput to display_data with EXEC_MIME_TYPE content only\n",
       "    if ((output.output_type != \"display_data\") || (!Object.prototype.hasOwnProperty.call(output.data, EXEC_MIME_TYPE))) {\n",
       "      return\n",
       "    }\n",
       "\n",
       "    const toinsert = output_area.element.find(\".\" + CLASS_NAME.split(' ')[0]);\n",
       "\n",
       "    if (output.metadata[EXEC_MIME_TYPE][\"id\"] !== undefined) {\n",
       "      toinsert[toinsert.length - 1].firstChild.textContent = output.data[JS_MIME_TYPE];\n",
       "      // store reference to embed id on output_area\n",
       "      output_area._bokeh_element_id = output.metadata[EXEC_MIME_TYPE][\"id\"];\n",
       "    }\n",
       "    if (output.metadata[EXEC_MIME_TYPE][\"server_id\"] !== undefined) {\n",
       "      const bk_div = document.createElement(\"div\");\n",
       "      bk_div.innerHTML = output.data[HTML_MIME_TYPE];\n",
       "      const script_attrs = bk_div.children[0].attributes;\n",
       "      for (let i = 0; i < script_attrs.length; i++) {\n",
       "        toinsert[toinsert.length - 1].firstChild.setAttribute(script_attrs[i].name, script_attrs[i].value);\n",
       "        toinsert[toinsert.length - 1].firstChild.textContent = bk_div.children[0].textContent\n",
       "      }\n",
       "      // store reference to server id on output_area\n",
       "      output_area._bokeh_server_id = output.metadata[EXEC_MIME_TYPE][\"server_id\"];\n",
       "    }\n",
       "  }\n",
       "\n",
       "  function register_renderer(events, OutputArea) {\n",
       "\n",
       "    function append_mime(data, metadata, element) {\n",
       "      // create a DOM node to render to\n",
       "      const toinsert = this.create_output_subarea(\n",
       "        metadata,\n",
       "        CLASS_NAME,\n",
       "        EXEC_MIME_TYPE\n",
       "      );\n",
       "      this.keyboard_manager.register_events(toinsert);\n",
       "      // Render to node\n",
       "      const props = {data: data, metadata: metadata[EXEC_MIME_TYPE]};\n",
       "      render(props, toinsert[toinsert.length - 1]);\n",
       "      element.append(toinsert);\n",
       "      return toinsert\n",
       "    }\n",
       "\n",
       "    /* Handle when an output is cleared or removed */\n",
       "    events.on('clear_output.CodeCell', handleClearOutput);\n",
       "    events.on('delete.Cell', handleClearOutput);\n",
       "\n",
       "    /* Handle when a new output is added */\n",
       "    events.on('output_added.OutputArea', handleAddOutput);\n",
       "\n",
       "    /**\n",
       "     * Register the mime type and append_mime function with output_area\n",
       "     */\n",
       "    OutputArea.prototype.register_mime_type(EXEC_MIME_TYPE, append_mime, {\n",
       "      /* Is output safe? */\n",
       "      safe: true,\n",
       "      /* Index of renderer in `output_area.display_order` */\n",
       "      index: 0\n",
       "    });\n",
       "  }\n",
       "\n",
       "  // register the mime type if in Jupyter Notebook environment and previously unregistered\n",
       "  if (root.Jupyter !== undefined) {\n",
       "    const events = require('base/js/events');\n",
       "    const OutputArea = require('notebook/js/outputarea').OutputArea;\n",
       "\n",
       "    if (OutputArea.prototype.mime_types().indexOf(EXEC_MIME_TYPE) == -1) {\n",
       "      register_renderer(events, OutputArea);\n",
       "    }\n",
       "  }\n",
       "  if (typeof (root._bokeh_timeout) === \"undefined\" || force === true) {\n",
       "    root._bokeh_timeout = Date.now() + 5000;\n",
       "    root._bokeh_failed_load = false;\n",
       "  }\n",
       "\n",
       "  const NB_LOAD_WARNING = {'data': {'text/html':\n",
       "     \"<div style='background-color: #fdd'>\\n\"+\n",
       "     \"<p>\\n\"+\n",
       "     \"BokehJS does not appear to have successfully loaded. If loading BokehJS from CDN, this \\n\"+\n",
       "     \"may be due to a slow or bad network connection. Possible fixes:\\n\"+\n",
       "     \"</p>\\n\"+\n",
       "     \"<ul>\\n\"+\n",
       "     \"<li>re-rerun `output_notebook()` to attempt to load from CDN again, or</li>\\n\"+\n",
       "     \"<li>use INLINE resources instead, as so:</li>\\n\"+\n",
       "     \"</ul>\\n\"+\n",
       "     \"<code>\\n\"+\n",
       "     \"from bokeh.resources import INLINE\\n\"+\n",
       "     \"output_notebook(resources=INLINE)\\n\"+\n",
       "     \"</code>\\n\"+\n",
       "     \"</div>\"}};\n",
       "\n",
       "  function display_loaded() {\n",
       "    const el = document.getElementById(\"df57fc08-b238-49c8-b1fb-001a9429a1b2\");\n",
       "    if (el != null) {\n",
       "      el.textContent = \"BokehJS is loading...\";\n",
       "    }\n",
       "    if (root.Bokeh !== undefined) {\n",
       "      if (el != null) {\n",
       "        el.textContent = \"BokehJS \" + root.Bokeh.version + \" successfully loaded.\";\n",
       "      }\n",
       "    } else if (Date.now() < root._bokeh_timeout) {\n",
       "      setTimeout(display_loaded, 100)\n",
       "    }\n",
       "  }\n",
       "\n",
       "  function run_callbacks() {\n",
       "    try {\n",
       "      root._bokeh_onload_callbacks.forEach(function(callback) {\n",
       "        if (callback != null)\n",
       "          callback();\n",
       "      });\n",
       "    } finally {\n",
       "      delete root._bokeh_onload_callbacks\n",
       "    }\n",
       "    console.debug(\"Bokeh: all callbacks have finished\");\n",
       "  }\n",
       "\n",
       "  function load_libs(css_urls, js_urls, callback) {\n",
       "    if (css_urls == null) css_urls = [];\n",
       "    if (js_urls == null) js_urls = [];\n",
       "\n",
       "    root._bokeh_onload_callbacks.push(callback);\n",
       "    if (root._bokeh_is_loading > 0) {\n",
       "      console.debug(\"Bokeh: BokehJS is being loaded, scheduling callback at\", now());\n",
       "      return null;\n",
       "    }\n",
       "    if (js_urls == null || js_urls.length === 0) {\n",
       "      run_callbacks();\n",
       "      return null;\n",
       "    }\n",
       "    console.debug(\"Bokeh: BokehJS not loaded, scheduling load and callback at\", now());\n",
       "    root._bokeh_is_loading = css_urls.length + js_urls.length;\n",
       "\n",
       "    function on_load() {\n",
       "      root._bokeh_is_loading--;\n",
       "      if (root._bokeh_is_loading === 0) {\n",
       "        console.debug(\"Bokeh: all BokehJS libraries/stylesheets loaded\");\n",
       "        run_callbacks()\n",
       "      }\n",
       "    }\n",
       "\n",
       "    function on_error(url) {\n",
       "      console.error(\"failed to load \" + url);\n",
       "    }\n",
       "\n",
       "    for (let i = 0; i < css_urls.length; i++) {\n",
       "      const url = css_urls[i];\n",
       "      const element = document.createElement(\"link\");\n",
       "      element.onload = on_load;\n",
       "      element.onerror = on_error.bind(null, url);\n",
       "      element.rel = \"stylesheet\";\n",
       "      element.type = \"text/css\";\n",
       "      element.href = url;\n",
       "      console.debug(\"Bokeh: injecting link tag for BokehJS stylesheet: \", url);\n",
       "      document.body.appendChild(element);\n",
       "    }\n",
       "\n",
       "    for (let i = 0; i < js_urls.length; i++) {\n",
       "      const url = js_urls[i];\n",
       "      const element = document.createElement('script');\n",
       "      element.onload = on_load;\n",
       "      element.onerror = on_error.bind(null, url);\n",
       "      element.async = false;\n",
       "      element.src = url;\n",
       "      console.debug(\"Bokeh: injecting script tag for BokehJS library: \", url);\n",
       "      document.head.appendChild(element);\n",
       "    }\n",
       "  };\n",
       "\n",
       "  function inject_raw_css(css) {\n",
       "    const element = document.createElement(\"style\");\n",
       "    element.appendChild(document.createTextNode(css));\n",
       "    document.body.appendChild(element);\n",
       "  }\n",
       "\n",
       "  const js_urls = [\"https://cdn.bokeh.org/bokeh/release/bokeh-3.2.0.min.js\", \"https://cdn.bokeh.org/bokeh/release/bokeh-gl-3.2.0.min.js\", \"https://cdn.bokeh.org/bokeh/release/bokeh-widgets-3.2.0.min.js\", \"https://cdn.bokeh.org/bokeh/release/bokeh-tables-3.2.0.min.js\", \"https://cdn.bokeh.org/bokeh/release/bokeh-mathjax-3.2.0.min.js\"];\n",
       "  const css_urls = [];\n",
       "\n",
       "  const inline_js = [    function(Bokeh) {\n",
       "      Bokeh.set_log_level(\"info\");\n",
       "    },\n",
       "function(Bokeh) {\n",
       "    }\n",
       "  ];\n",
       "\n",
       "  function run_inline_js() {\n",
       "    if (root.Bokeh !== undefined || force === true) {\n",
       "          for (let i = 0; i < inline_js.length; i++) {\n",
       "      inline_js[i].call(root, root.Bokeh);\n",
       "    }\n",
       "if (force === true) {\n",
       "        display_loaded();\n",
       "      }} else if (Date.now() < root._bokeh_timeout) {\n",
       "      setTimeout(run_inline_js, 100);\n",
       "    } else if (!root._bokeh_failed_load) {\n",
       "      console.log(\"Bokeh: BokehJS failed to load within specified timeout.\");\n",
       "      root._bokeh_failed_load = true;\n",
       "    } else if (force !== true) {\n",
       "      const cell = $(document.getElementById(\"df57fc08-b238-49c8-b1fb-001a9429a1b2\")).parents('.cell').data().cell;\n",
       "      cell.output_area.append_execute_result(NB_LOAD_WARNING)\n",
       "    }\n",
       "  }\n",
       "\n",
       "  if (root._bokeh_is_loading === 0) {\n",
       "    console.debug(\"Bokeh: BokehJS loaded, going straight to plotting\");\n",
       "    run_inline_js();\n",
       "  } else {\n",
       "    load_libs(css_urls, js_urls, function() {\n",
       "      console.debug(\"Bokeh: BokehJS plotting callback run at\", now());\n",
       "      run_inline_js();\n",
       "    });\n",
       "  }\n",
       "}(window));"
      ],
      "application/vnd.bokehjs_load.v0+json": "(function(root) {\n  function now() {\n    return new Date();\n  }\n\n  const force = true;\n\n  if (typeof root._bokeh_onload_callbacks === \"undefined\" || force === true) {\n    root._bokeh_onload_callbacks = [];\n    root._bokeh_is_loading = undefined;\n  }\n\n\n  if (typeof (root._bokeh_timeout) === \"undefined\" || force === true) {\n    root._bokeh_timeout = Date.now() + 5000;\n    root._bokeh_failed_load = false;\n  }\n\n  const NB_LOAD_WARNING = {'data': {'text/html':\n     \"<div style='background-color: #fdd'>\\n\"+\n     \"<p>\\n\"+\n     \"BokehJS does not appear to have successfully loaded. If loading BokehJS from CDN, this \\n\"+\n     \"may be due to a slow or bad network connection. Possible fixes:\\n\"+\n     \"</p>\\n\"+\n     \"<ul>\\n\"+\n     \"<li>re-rerun `output_notebook()` to attempt to load from CDN again, or</li>\\n\"+\n     \"<li>use INLINE resources instead, as so:</li>\\n\"+\n     \"</ul>\\n\"+\n     \"<code>\\n\"+\n     \"from bokeh.resources import INLINE\\n\"+\n     \"output_notebook(resources=INLINE)\\n\"+\n     \"</code>\\n\"+\n     \"</div>\"}};\n\n  function display_loaded() {\n    const el = document.getElementById(\"df57fc08-b238-49c8-b1fb-001a9429a1b2\");\n    if (el != null) {\n      el.textContent = \"BokehJS is loading...\";\n    }\n    if (root.Bokeh !== undefined) {\n      if (el != null) {\n        el.textContent = \"BokehJS \" + root.Bokeh.version + \" successfully loaded.\";\n      }\n    } else if (Date.now() < root._bokeh_timeout) {\n      setTimeout(display_loaded, 100)\n    }\n  }\n\n  function run_callbacks() {\n    try {\n      root._bokeh_onload_callbacks.forEach(function(callback) {\n        if (callback != null)\n          callback();\n      });\n    } finally {\n      delete root._bokeh_onload_callbacks\n    }\n    console.debug(\"Bokeh: all callbacks have finished\");\n  }\n\n  function load_libs(css_urls, js_urls, callback) {\n    if (css_urls == null) css_urls = [];\n    if (js_urls == null) js_urls = [];\n\n    root._bokeh_onload_callbacks.push(callback);\n    if (root._bokeh_is_loading > 0) {\n      console.debug(\"Bokeh: BokehJS is being loaded, scheduling callback at\", now());\n      return null;\n    }\n    if (js_urls == null || js_urls.length === 0) {\n      run_callbacks();\n      return null;\n    }\n    console.debug(\"Bokeh: BokehJS not loaded, scheduling load and callback at\", now());\n    root._bokeh_is_loading = css_urls.length + js_urls.length;\n\n    function on_load() {\n      root._bokeh_is_loading--;\n      if (root._bokeh_is_loading === 0) {\n        console.debug(\"Bokeh: all BokehJS libraries/stylesheets loaded\");\n        run_callbacks()\n      }\n    }\n\n    function on_error(url) {\n      console.error(\"failed to load \" + url);\n    }\n\n    for (let i = 0; i < css_urls.length; i++) {\n      const url = css_urls[i];\n      const element = document.createElement(\"link\");\n      element.onload = on_load;\n      element.onerror = on_error.bind(null, url);\n      element.rel = \"stylesheet\";\n      element.type = \"text/css\";\n      element.href = url;\n      console.debug(\"Bokeh: injecting link tag for BokehJS stylesheet: \", url);\n      document.body.appendChild(element);\n    }\n\n    for (let i = 0; i < js_urls.length; i++) {\n      const url = js_urls[i];\n      const element = document.createElement('script');\n      element.onload = on_load;\n      element.onerror = on_error.bind(null, url);\n      element.async = false;\n      element.src = url;\n      console.debug(\"Bokeh: injecting script tag for BokehJS library: \", url);\n      document.head.appendChild(element);\n    }\n  };\n\n  function inject_raw_css(css) {\n    const element = document.createElement(\"style\");\n    element.appendChild(document.createTextNode(css));\n    document.body.appendChild(element);\n  }\n\n  const js_urls = [\"https://cdn.bokeh.org/bokeh/release/bokeh-3.2.0.min.js\", \"https://cdn.bokeh.org/bokeh/release/bokeh-gl-3.2.0.min.js\", \"https://cdn.bokeh.org/bokeh/release/bokeh-widgets-3.2.0.min.js\", \"https://cdn.bokeh.org/bokeh/release/bokeh-tables-3.2.0.min.js\", \"https://cdn.bokeh.org/bokeh/release/bokeh-mathjax-3.2.0.min.js\"];\n  const css_urls = [];\n\n  const inline_js = [    function(Bokeh) {\n      Bokeh.set_log_level(\"info\");\n    },\nfunction(Bokeh) {\n    }\n  ];\n\n  function run_inline_js() {\n    if (root.Bokeh !== undefined || force === true) {\n          for (let i = 0; i < inline_js.length; i++) {\n      inline_js[i].call(root, root.Bokeh);\n    }\nif (force === true) {\n        display_loaded();\n      }} else if (Date.now() < root._bokeh_timeout) {\n      setTimeout(run_inline_js, 100);\n    } else if (!root._bokeh_failed_load) {\n      console.log(\"Bokeh: BokehJS failed to load within specified timeout.\");\n      root._bokeh_failed_load = true;\n    } else if (force !== true) {\n      const cell = $(document.getElementById(\"df57fc08-b238-49c8-b1fb-001a9429a1b2\")).parents('.cell').data().cell;\n      cell.output_area.append_execute_result(NB_LOAD_WARNING)\n    }\n  }\n\n  if (root._bokeh_is_loading === 0) {\n    console.debug(\"Bokeh: BokehJS loaded, going straight to plotting\");\n    run_inline_js();\n  } else {\n    load_libs(css_urls, js_urls, function() {\n      console.debug(\"Bokeh: BokehJS plotting callback run at\", now());\n      run_inline_js();\n    });\n  }\n}(window));"
     },
     "metadata": {},
     "output_type": "display_data"
    }
   ],
   "source": [
    "output_notebook()"
   ]
  },
  {
   "cell_type": "code",
   "execution_count": 3,
   "id": "c990096f",
   "metadata": {},
   "outputs": [],
   "source": [
    "import filedialogs"
   ]
  },
  {
   "cell_type": "code",
   "execution_count": 4,
   "id": "c653f4b8",
   "metadata": {},
   "outputs": [],
   "source": [
    "from metavision_core.event_io.raw_reader import RawReader\n",
    "from metavision_core.event_io.py_reader import EventDatReader\n",
    "from metavision_core.event_io import EventsIterator"
   ]
  },
  {
   "cell_type": "code",
   "execution_count": 5,
   "id": "0201a266",
   "metadata": {},
   "outputs": [],
   "source": [
    "path = filedialogs.gui_fname('example_data/')\n",
    "path = path.decode('ascii')"
   ]
  },
  {
   "cell_type": "code",
   "execution_count": 6,
   "id": "f75acc6b",
   "metadata": {},
   "outputs": [
    {
     "name": "stdout",
     "output_type": "stream",
     "text": [
      "RawReader(E:/code/github-ffvoigt/accordion/playground/example_data/fish_bouts_recording_2023-06-27_10-42-58.raw)\n",
      "current time : 0us done : False\n",
      "current event index : 0\n",
      "_begin_buffer 0,_end_buffer_ 0,  buffer_size 10000000\n"
     ]
    }
   ],
   "source": [
    "record_raw = RawReader(path)\n",
    "print(record_raw)"
   ]
  },
  {
   "cell_type": "code",
   "execution_count": 7,
   "id": "56aa4197",
   "metadata": {
    "scrolled": false
   },
   "outputs": [
    {
     "name": "stdout",
     "output_type": "stream",
     "text": [
      "[(834, 596, 1,     8214) (925,   4, 0,     9194) (767, 127, 0,     9410)\n",
      " ... (829, 542, 0, 15191063) (771, 162, 0, 15191064)\n",
      " (810, 484, 0, 15191067)]\n"
     ]
    }
   ],
   "source": [
    "events = record_raw.load_n_events(1000000)\n",
    "print(events)"
   ]
  },
  {
   "cell_type": "code",
   "execution_count": null,
   "id": "d7e6b4e3",
   "metadata": {
    "scrolled": true
   },
   "outputs": [],
   "source": [
    "events['t'].max()"
   ]
  },
  {
   "cell_type": "code",
   "execution_count": null,
   "id": "8c8f8788",
   "metadata": {},
   "outputs": [],
   "source": [
    "events['t'].max()/1000/1000"
   ]
  },
  {
   "cell_type": "code",
   "execution_count": null,
   "id": "793d7950",
   "metadata": {},
   "outputs": [],
   "source": [
    "minievents = events[1:10]"
   ]
  },
  {
   "cell_type": "code",
   "execution_count": null,
   "id": "eb78e3d0",
   "metadata": {
    "scrolled": false
   },
   "outputs": [],
   "source": [
    "for event in minievents:\n",
    "    print(event[0])"
   ]
  },
  {
   "cell_type": "code",
   "execution_count": 8,
   "id": "29a86273",
   "metadata": {},
   "outputs": [],
   "source": [
    "def calculate_bins(events, dt=1000):\n",
    "    # calculate events for timestep dt in us\n",
    "    min_timepoint = events['t'].min()\n",
    "    max_timepoint = events['t'].max()\n",
    "    interval_us = max_timepoint-min_timepoint\n",
    "    timepoints = int(interval_us / (dt))\n",
    "    bins = np.linspace(min_timepoint, max_timepoint, timepoints)\n",
    "    return bins\n",
    "\n",
    "def calculate_bin_number(events, dt=1000):\n",
    "    # calculate events for timestep dt in us\n",
    "    min_timepoint = events['t'].min()\n",
    "    max_timepoint = events['t'].max()\n",
    "    timepoints = int(np.floor((max_timepoint-min_timepoint) / (dt)))\n",
    "    return timepoints"
   ]
  },
  {
   "cell_type": "code",
   "execution_count": 9,
   "id": "3a13fde9",
   "metadata": {},
   "outputs": [],
   "source": [
    "@nb.njit\n",
    "def inside_circle(x, y, x_center, y_center, r):\n",
    "    return np.power(x-x_center,2)+np.power(y-y_center,2) <= np.power(r,2)\n",
    "\n",
    "def is_on_event(event):\n",
    "    return event[2]==1\n",
    "\n",
    "@nb.njit\n",
    "def filter_array(arr, condition):\n",
    "    result = np.empty_like(arr)\n",
    "    j = 0\n",
    "    for i in range(arr.size):\n",
    "        if condition(arr[i]):\n",
    "            result[j] = arr[i]\n",
    "            j += 1\n",
    "    return result[:j].copy()"
   ]
  },
  {
   "cell_type": "code",
   "execution_count": 10,
   "id": "9ee0b683",
   "metadata": {},
   "outputs": [],
   "source": [
    "@nb.njit\n",
    "def events_inside_circular_roi(events, x_center, y_center, radius):\n",
    "    result = np.empty_like(events)\n",
    "    j = 0\n",
    "    for i in range(events.size):\n",
    "        if inside_circle(events[i]['x'],events[i]['y'],x_center,y_center, radius):\n",
    "            result[j] = events[i]\n",
    "            j += 1\n",
    "    return result[:j].copy()"
   ]
  },
  {
   "cell_type": "code",
   "execution_count": 11,
   "id": "29737ddc",
   "metadata": {},
   "outputs": [],
   "source": [
    "@nb.njit\n",
    "def split_events(events):\n",
    "    on_events = np.empty_like(events)\n",
    "    off_events = np.empty_like(events)\n",
    "    on_counter = 0\n",
    "    off_counter = 0\n",
    "    \n",
    "    for i in range(events.size):\n",
    "        if events[i][2]==1:\n",
    "            on_events[on_counter] = events[i]\n",
    "            on_counter += 1\n",
    "        else: \n",
    "            off_events[off_counter] = events[i]\n",
    "            off_counter += 1\n",
    "   \n",
    "    return on_events[:on_counter].copy(),off_events[:off_counter].copy()"
   ]
  },
  {
   "cell_type": "code",
   "execution_count": null,
   "id": "6fdb3300",
   "metadata": {},
   "outputs": [],
   "source": [
    "def viz_events(events, height, width):\n",
    "    img = np.full((height, width, 3), 128, dtype=np.uint8)\n",
    "    img[events['y'], events['x']] = 255 * events['p'][:, None]\n",
    "    return img"
   ]
  },
  {
   "cell_type": "code",
   "execution_count": null,
   "id": "3148b01a",
   "metadata": {},
   "outputs": [],
   "source": [
    "on_events, off_events = split_events(events)"
   ]
  },
  {
   "cell_type": "code",
   "execution_count": null,
   "id": "819ef84f",
   "metadata": {},
   "outputs": [],
   "source": [
    "print(len(events))\n",
    "print(len(on_events))\n",
    "print(len(off_events))\n",
    "print(len(off_events)+len(on_events))"
   ]
  },
  {
   "cell_type": "code",
   "execution_count": null,
   "id": "434f264c",
   "metadata": {
    "scrolled": true
   },
   "outputs": [],
   "source": [
    "len(events)"
   ]
  },
  {
   "cell_type": "code",
   "execution_count": 12,
   "id": "8ee30ad4",
   "metadata": {},
   "outputs": [],
   "source": [
    "inside_events = events_inside_circular_roi(events, 560, 375, 400)\n",
    "on_events, off_events = split_events(inside_events)"
   ]
  },
  {
   "cell_type": "code",
   "execution_count": 13,
   "id": "b38059fa",
   "metadata": {
    "scrolled": true
   },
   "outputs": [
    {
     "data": {
      "text/plain": [
       "225214"
      ]
     },
     "execution_count": 13,
     "metadata": {},
     "output_type": "execute_result"
    }
   ],
   "source": [
    "len(inside_events)"
   ]
  },
  {
   "cell_type": "code",
   "execution_count": null,
   "id": "06ea7062",
   "metadata": {},
   "outputs": [],
   "source": [
    "bins = calculate_bin_number(events, dt=1000)"
   ]
  },
  {
   "cell_type": "code",
   "execution_count": null,
   "id": "e68b853b",
   "metadata": {
    "scrolled": false
   },
   "outputs": [],
   "source": [
    "height, width = record_raw.get_size()\n",
    "\n",
    "# load the next 50 ms worth of events\n",
    "# events = record_raw.load_delta_t(50000)\n",
    "im = viz_events(inside_events, height, width)\n",
    "\n",
    "plt.imshow(im)\n",
    "plt.tight_layout()"
   ]
  },
  {
   "cell_type": "markdown",
   "id": "ffe05be9",
   "metadata": {},
   "source": [
    "#### Image generation playground"
   ]
  },
  {
   "cell_type": "code",
   "execution_count": null,
   "id": "699b2e3c",
   "metadata": {},
   "outputs": [],
   "source": [
    "type(im)"
   ]
  },
  {
   "cell_type": "code",
   "execution_count": null,
   "id": "995821c4",
   "metadata": {
    "scrolled": true
   },
   "outputs": [],
   "source": [
    "im.shape"
   ]
  },
  {
   "cell_type": "code",
   "execution_count": null,
   "id": "80fbab55",
   "metadata": {},
   "outputs": [],
   "source": [
    "data = np.random.randint(0, 255, (100, 720, 1280, 3), 'uint8')"
   ]
  },
  {
   "cell_type": "code",
   "execution_count": null,
   "id": "3bdeb555",
   "metadata": {},
   "outputs": [],
   "source": [
    "data.shape"
   ]
  },
  {
   "cell_type": "code",
   "execution_count": null,
   "id": "8daa4f8f",
   "metadata": {},
   "outputs": [],
   "source": [
    "import napari"
   ]
  },
  {
   "cell_type": "code",
   "execution_count": null,
   "id": "87cde08e",
   "metadata": {},
   "outputs": [],
   "source": [
    "viewer = napari.view_image(data, rgb=True)"
   ]
  },
  {
   "cell_type": "code",
   "execution_count": null,
   "id": "4b509062",
   "metadata": {},
   "outputs": [],
   "source": [
    "tifffile.imwrite('temp2.tif', data, photometric='rgb')"
   ]
  },
  {
   "cell_type": "markdown",
   "id": "0f5d7a11",
   "metadata": {},
   "source": [
    "### A numpy array that napari and ImageJ can interpret as RGB stack:\n",
    "* 8bit, Z or T, X, Y, C \n",
    "* e.g. np.random.randint(0, 255, (100, 720, 1280, 3), 'uint8')"
   ]
  },
  {
   "cell_type": "markdown",
   "id": "95445348",
   "metadata": {},
   "source": [
    "### Working towards tiff export\n",
    "\n",
    "* loop through events "
   ]
  },
  {
   "cell_type": "code",
   "execution_count": null,
   "id": "de770829",
   "metadata": {},
   "outputs": [],
   "source": [
    "import tifffile"
   ]
  },
  {
   "cell_type": "code",
   "execution_count": null,
   "id": "0656d20c",
   "metadata": {},
   "outputs": [],
   "source": [
    "imagesize=(720, 1280)"
   ]
  },
  {
   "cell_type": "code",
   "execution_count": null,
   "id": "b10d24bd",
   "metadata": {},
   "outputs": [],
   "source": [
    "height, width = imagesize"
   ]
  },
  {
   "cell_type": "code",
   "execution_count": null,
   "id": "3bd0f08d",
   "metadata": {
    "scrolled": true
   },
   "outputs": [],
   "source": [
    "int(np.ceil(3.45))"
   ]
  },
  {
   "cell_type": "code",
   "execution_count": null,
   "id": "73bc6cbf",
   "metadata": {},
   "outputs": [],
   "source": [
    "minievents"
   ]
  },
  {
   "cell_type": "code",
   "execution_count": null,
   "id": "c2766cc5",
   "metadata": {},
   "outputs": [],
   "source": [
    "for event in minievents:\n",
    "    "
   ]
  },
  {
   "cell_type": "code",
   "execution_count": null,
   "id": "afbb37e0",
   "metadata": {},
   "outputs": [],
   "source": [
    "teststack = np.zeros((10,720,1280,3), dtype='uint8')"
   ]
  },
  {
   "cell_type": "code",
   "execution_count": null,
   "id": "2a8e922f",
   "metadata": {
    "scrolled": true
   },
   "outputs": [],
   "source": [
    "teststack[0][0][0][1]=254\n",
    "print(teststack[0][0][0][1])"
   ]
  },
  {
   "cell_type": "code",
   "execution_count": null,
   "id": "3ea0c88f",
   "metadata": {},
   "outputs": [],
   "source": [
    "teststack[0][0][0][1]+=1"
   ]
  },
  {
   "cell_type": "code",
   "execution_count": null,
   "id": "b0ec5e99",
   "metadata": {},
   "outputs": [],
   "source": [
    "print(teststack[0][0][0][1])"
   ]
  },
  {
   "cell_type": "code",
   "execution_count": null,
   "id": "39ea2739",
   "metadata": {
    "scrolled": false
   },
   "outputs": [],
   "source": [
    "events[:-10]"
   ]
  },
  {
   "cell_type": "code",
   "execution_count": null,
   "id": "d89a8fdd",
   "metadata": {},
   "outputs": [],
   "source": [
    "events['t'].max()/1000"
   ]
  },
  {
   "cell_type": "code",
   "execution_count": null,
   "id": "3e793f42",
   "metadata": {},
   "outputs": [],
   "source": [
    "def events_to_stack(events, dt=1000, imagesize=(720, 1280)):\n",
    "    height, width = imagesize\n",
    "    min_timepoint = events['t'].min()\n",
    "    max_timepoint = events['t'].max()\n",
    "    \n",
    "    timepoints = int(np.ceil((max_timepoint - min_timepoint)/dt))    \n",
    "    \n",
    "    # generate a numpy array with the width \n",
    "    eventstack = np.zeros((timepoints,height,width,2), dtype='uint8')\n",
    "    \n",
    "    for event in events:\n",
    "        x_pos = event[1]\n",
    "        y_pos = event[0]\n",
    "        timepoint = np.floor_divide((event[3]-min_timepoint),dt)\n",
    "        if event[2] == 0:\n",
    "            if eventstack[timepoint, x_pos, y_pos, 1] < 255:\n",
    "                eventstack[timepoint, x_pos, y_pos, 1] += 1\n",
    "        else: \n",
    "            if eventstack[timepoint, x_pos, y_pos, 0] < 255:\n",
    "                eventstack[timepoint, x_pos, y_pos, 0] += 1       \n",
    "    \n",
    "    return eventstack "
   ]
  },
  {
   "cell_type": "code",
   "execution_count": null,
   "id": "8bff4dc5",
   "metadata": {},
   "outputs": [],
   "source": [
    "eventstack = events_to_stack(events, dt=10000)"
   ]
  },
  {
   "cell_type": "code",
   "execution_count": null,
   "id": "64112c00",
   "metadata": {
    "scrolled": false
   },
   "outputs": [],
   "source": [
    "eventstack.size/8/1024/1024"
   ]
  },
  {
   "cell_type": "code",
   "execution_count": null,
   "id": "62262726",
   "metadata": {},
   "outputs": [],
   "source": [
    "my_new_layer = viewer.add_image(eventstack, channel_axis=3, contrast_limits=[[0,2],[0,2]], name=['ON Events', 'Off Events'])"
   ]
  },
  {
   "cell_type": "code",
   "execution_count": null,
   "id": "367b01df",
   "metadata": {},
   "outputs": [],
   "source": [
    "eventstack.max()"
   ]
  },
  {
   "cell_type": "code",
   "execution_count": null,
   "id": "2985bf74",
   "metadata": {},
   "outputs": [],
   "source": [
    "if acq['processing'] == 'MAX' and self.file_extension in ('.raw', '.tiff', '.tif'):\n",
    "            self.tiff_mip_writer = tifffile.TiffWriter(self.file_root + \"_MAX.tiff\", imagej=True)\n",
    "            self.mip_image = np.zeros((self.y_pixels, self.x_pixels), 'uint16')b"
   ]
  },
  {
   "cell_type": "code",
   "execution_count": null,
   "id": "1480b46c",
   "metadata": {},
   "outputs": [],
   "source": [
    "data = np.random.randint(0, 255, (256, 256, 3), 'uint8')"
   ]
  },
  {
   "cell_type": "code",
   "execution_count": null,
   "id": "f9fbd9d1",
   "metadata": {},
   "outputs": [],
   "source": [
    "tifffile.imwrite('eventstack.tif', eventstack, photometric='minisblack')"
   ]
  },
  {
   "cell_type": "code",
   "execution_count": null,
   "id": "07be596e",
   "metadata": {},
   "outputs": [],
   "source": []
  },
  {
   "cell_type": "markdown",
   "id": "c6d4be93",
   "metadata": {},
   "source": [
    "#### Back to regular programming"
   ]
  },
  {
   "cell_type": "code",
   "execution_count": null,
   "id": "90be15d9",
   "metadata": {},
   "outputs": [],
   "source": [
    "bins"
   ]
  },
  {
   "cell_type": "code",
   "execution_count": null,
   "id": "ad5f4bcd",
   "metadata": {},
   "outputs": [],
   "source": [
    "len(events)"
   ]
  },
  {
   "cell_type": "code",
   "execution_count": null,
   "id": "6e977e07",
   "metadata": {
    "scrolled": true
   },
   "outputs": [],
   "source": [
    "events[0:3]"
   ]
  },
  {
   "cell_type": "markdown",
   "id": "4cc706ad",
   "metadata": {},
   "source": [
    "Note: The on/off edges are slightly different as the event timestamps are slightly different \n",
    "* might be solvable by shifting the first and the last events in time?\n",
    "* or hardcoding the edges based on the original event data?"
   ]
  },
  {
   "cell_type": "code",
   "execution_count": null,
   "id": "0095c214",
   "metadata": {},
   "outputs": [],
   "source": [
    "on_hist, on_edges = np.histogram(on_events['t'], density=False, bins=bins)\n",
    "off_hist, off_edges = np.histogram(off_events['t'], density=False, bins=bins)"
   ]
  },
  {
   "cell_type": "code",
   "execution_count": null,
   "id": "34378271",
   "metadata": {},
   "outputs": [],
   "source": [
    "len(off_edges)"
   ]
  },
  {
   "cell_type": "code",
   "execution_count": null,
   "id": "58ab0a84",
   "metadata": {
    "scrolled": true
   },
   "outputs": [],
   "source": [
    "on_hist[8170]"
   ]
  },
  {
   "cell_type": "code",
   "execution_count": null,
   "id": "2d26483a",
   "metadata": {
    "scrolled": true
   },
   "outputs": [],
   "source": [
    "off_hist[8170]"
   ]
  },
  {
   "cell_type": "markdown",
   "id": "a94e7c9f",
   "metadata": {},
   "source": [
    "### First working version of a time selector"
   ]
  },
  {
   "cell_type": "code",
   "execution_count": null,
   "id": "f0a5c970",
   "metadata": {
    "scrolled": false
   },
   "outputs": [],
   "source": [
    "source = ColumnDataSource(data=dict(edges=on_edges[:-1], on_hist=on_hist, off_hist=off_hist))\n",
    "\n",
    "p = figure(height=400, width=950, tools=\"xpan\", toolbar_location=None,\n",
    "           x_axis_location=\"below\", background_fill_color=\"#efefef\",x_range=(on_edges[8150], on_edges[8350]))\n",
    "\n",
    "p.quad(top=off_hist, bottom=0, left=on_edges[:-1], right=on_edges[1:],\n",
    "         fill_color=\"darkred\", line_width=0, legend_label=\"Off Events\")\n",
    "p.quad(top=on_hist+off_hist, bottom=off_hist, left=on_edges[:-1], right=on_edges[1:],\n",
    "         fill_color=\"royalblue\", line_width=0, legend_label=\"On Events\")\n",
    "p.y_range.start = 0\n",
    "p.xaxis.axis_label = \"t (us)\"\n",
    "p.yaxis.axis_label = \"Events\"\n",
    "p.legend.location = \"top_right\"\n",
    "\n",
    "\n",
    "select = figure(title=\"Event Selection\",\n",
    "                height=230, width=950, y_range=p.y_range,\n",
    "                x_axis_type=\"datetime\", y_axis_type=None,\n",
    "                tools=\"\", toolbar_location=None, background_fill_color=\"#efefef\")\n",
    "\n",
    "range_tool = RangeTool(x_range=p.x_range)\n",
    "range_tool.overlay.fill_color = \"navy\"\n",
    "range_tool.overlay.fill_alpha = 0.2\n",
    "\n",
    "select.line('edges', 'on_hist', source=source)\n",
    "select.ygrid.grid_line_color = None\n",
    "select.add_tools(range_tool)\n",
    "\n",
    "show(column(p, select))"
   ]
  },
  {
   "cell_type": "code",
   "execution_count": null,
   "id": "4b9721b0",
   "metadata": {},
   "outputs": [],
   "source": [
    "source = ColumnDataSource(data=dict(edges=on_edges[:-1], on_hist=on_hist, off_hist=off_hist))\n",
    "\n",
    "p = figure(title=\"Event Plot\", height=400, width=950, tools=\"xpan\", toolbar_location=None,\n",
    "           x_axis_location=\"below\", background_fill_color=\"#efefef\",x_range=(on_edges[0], on_edges[-1]))\n",
    "\n",
    "p.varea_stack(['on_hist', 'off_hist'], x='edges', color=(\"blue\", \"red\"), source=source)\n",
    "\n",
    "p.y_range.start = 0\n",
    "\n",
    "p.xaxis.axis_label = \"t (us)\"\n",
    "p.yaxis.axis_label = \"Events\"\n",
    "#p.legend.location = \"top_right\"\n",
    "\n",
    "\n",
    "select = figure(title=\"Event Selection\",\n",
    "                height=230, width=950, y_range=p.y_range,\n",
    "                x_axis_type=\"datetime\", y_axis_type=None,\n",
    "                tools=\"\", toolbar_location=None, background_fill_color=\"#efefef\")\n",
    "\n",
    "range_tool = RangeTool(x_range=p.x_range)\n",
    "range_tool.overlay.fill_color = \"navy\"\n",
    "range_tool.overlay.fill_alpha = 0.2\n",
    "\n",
    "select.line('edges', 'on_hist', source=source)\n",
    "select.ygrid.grid_line_color = None\n",
    "select.add_tools(range_tool)\n",
    "\n",
    "show(column(p, select))"
   ]
  },
  {
   "cell_type": "markdown",
   "id": "6a27a50e",
   "metadata": {},
   "source": [
    "### Stacked view"
   ]
  },
  {
   "cell_type": "code",
   "execution_count": null,
   "id": "dc200f2f",
   "metadata": {
    "scrolled": false
   },
   "outputs": [],
   "source": [
    "source = ColumnDataSource(data=dict(edges=on_edges[:-1], on_hist=on_hist, off_hist=off_hist))\n",
    "\n",
    "p = figure(height=300, width=950, tools=\"xpan\", toolbar_location=None,\n",
    "           x_axis_location=\"below\", background_fill_color=\"#efefef\",x_range=(on_edges[8150], on_edges[8350]))\n",
    "\n",
    "p.quad(top=off_hist, bottom=0, left=on_edges[:-1], right=on_edges[1:],\n",
    "         fill_color=\"darkred\", line_width=0)\n",
    "p.y_range.start = 0\n",
    "p.yaxis.axis_label = \"Off Events\"\n",
    "\n",
    "q = figure(height=300, width=950, tools=\"xpan\", toolbar_location=None,\n",
    "           x_axis_location=\"below\", background_fill_color=\"#efefef\",x_range=(on_edges[8150], on_edges[8350]))\n",
    "q.quad(top=on_hist, bottom=0, left=on_edges[:-1], right=on_edges[1:],\n",
    "         fill_color=\"royalblue\", line_width=0)\n",
    "q.xaxis.axis_label = \"t (us)\"\n",
    "q.yaxis.axis_label = \"On Events\"\n",
    "\n",
    "select = figure(title=\"Event Selection\",\n",
    "                height=230, width=950, y_range=p.y_range,\n",
    "                x_axis_type=\"datetime\", y_axis_type=None,\n",
    "                tools=\"\", toolbar_location=None, background_fill_color=\"#efefef\")\n",
    "\n",
    "range_tool = RangeTool(x_range=p.x_range)\n",
    "range_tool.overlay.fill_color = \"navy\"\n",
    "range_tool.overlay.fill_alpha = 0.2\n",
    "\n",
    "select.line('edges', 'on_hist', source=source)\n",
    "select.ygrid.grid_line_color = None\n",
    "select.add_tools(range_tool)\n",
    "\n",
    "show(column(q, p, select))"
   ]
  },
  {
   "cell_type": "markdown",
   "id": "0414ef77",
   "metadata": {},
   "source": [
    "### Let's try an event scatterplot!"
   ]
  },
  {
   "cell_type": "code",
   "execution_count": null,
   "id": "a2c2698f",
   "metadata": {},
   "outputs": [],
   "source": [
    "on_minievents = on_events[8150:8350]\n",
    "off_minievents = off_events[8150:8350]"
   ]
  },
  {
   "cell_type": "code",
   "execution_count": null,
   "id": "06bac42a",
   "metadata": {},
   "outputs": [],
   "source": [
    "p = figure(width=640, height=360)\n",
    "\n",
    "# add a circle renderer with a size, color, and alpha\n",
    "\n",
    "p.dot(on_minievents['x'], on_minievents['y'], size=5, color=\"blue\", alpha=0.8)\n",
    "p.dot(off_minievents['x'], off_minievents['y'], size=5, color=\"red\", alpha=0.8)\n",
    "p.y_range.flipped = True\n",
    "\n",
    "# show the results\n",
    "show(p)"
   ]
  },
  {
   "cell_type": "code",
   "execution_count": null,
   "id": "eb3d7188",
   "metadata": {},
   "outputs": [],
   "source": [
    "from ipywidgets import interact\n",
    "import numpy as np\n",
    "\n",
    "from bokeh.io import push_notebook, show, output_notebook\n",
    "from bokeh.plotting import figure\n",
    "from bokeh.models import CustomJS, ColumnDataSource, Slider\n",
    "# output_notebook()\n",
    "\n",
    "source = ColumnDataSource(data=dict(edges=on_edges[:-1], on_hist=on_hist, off_hist=off_hist))\n",
    "\n",
    "scatterplot = figure(height=700, width=950, tools=\"xpan\", toolbar_location=None,\n",
    "           x_axis_location=\"below\", background_fill_color=\"#efefef\")\n",
    "scatterplot.y_range.flipped = True\n",
    "\n",
    "scatterplot.dot(off_events['x'], off_events['y'], size=5, color=\"red\", alpha=0.8)\n",
    "scatterplot.dot(on_events['x'], on_events['y'], size=5, color=\"blue\", alpha=0.8)\n",
    "\n",
    "p = figure(height=400, width=950, tools=\"xpan\", toolbar_location=None,\n",
    "           x_axis_location=\"below\", background_fill_color=\"#efefef\",x_range=(on_edges[8150], on_edges[8350]))\n",
    "\n",
    "p.varea_stack(['on_hist', 'off_hist'], x='edges', color=(\"blue\", \"red\"), source=source)\n",
    "p.y_range.start = 0\n",
    "p.xaxis.axis_label = \"t (us)\"\n",
    "p.yaxis.axis_label = \"Events\"\n",
    "#p.legend.location = \"top_right\"\n",
    "\n",
    "select = figure(title=\"Event Selection\",\n",
    "                height=230, width=950, y_range=p.y_range,\n",
    "                x_axis_type=\"datetime\", y_axis_type=None,\n",
    "                tools=\"\", toolbar_location=None, background_fill_color=\"#efefef\")\n",
    "\n",
    "range_tool = RangeTool(x_range=p.x_range)\n",
    "range_tool.overlay.fill_color = \"navy\"\n",
    "range_tool.overlay.fill_alpha = 0.2\n",
    "\n",
    "\n",
    "\n",
    "select.line('edges', 'on_hist', source=source)\n",
    "select.ygrid.grid_line_color = None\n",
    "select.add_tools(range_tool)\n",
    "select.yaxis.axis_label = \"Events\"\n",
    "\n",
    "\n",
    "\n",
    "show(column(scatterplot, p, select))"
   ]
  },
  {
   "cell_type": "code",
   "execution_count": null,
   "id": "18be4720",
   "metadata": {
    "scrolled": true
   },
   "outputs": [],
   "source": [
    "from bokeh.io import curdoc\n",
    "from bokeh.layouts import column, row\n",
    "from bokeh.models import GMapOptions, CDSView, IndexFilter\n",
    "from bokeh.models.widgets import RangeSlider\n",
    "from bokeh.plotting import gmap, ColumnDataSource, figure\n",
    "\n",
    "lon = [[48.7886, 48.7887, 48.7888, 48.7889, 48.789],\n",
    "       [48.7876, 48.7877, 48.78878, 48.7879, 48.787],\n",
    "       [48.7866, 48.7867, 48.7868, 48.7869, 48.786],\n",
    "       [48.7856, 48.7857, 48.7858, 48.7859, 48.785],\n",
    "       [48.7846, 48.7847, 48.7848, 48.7849, 48.784]]\n",
    "lat = [[8.92, 8.921, 8.922, 8.923, 8.924],\n",
    "       [8.91, 8.911, 8.912, 8.913, 8.914],\n",
    "       [8.90, 8.901, 8.902, 8.903, 8.904],\n",
    "       [8.89, 8.891, 8.892, 8.893, 8.894],\n",
    "       [8.88, 8.881, 8.882, 8.883, 8.884]]\n",
    "time = [0, 1, 2, 3, 4]\n",
    "velocity = [23, 24, 25, 24, 20]\n",
    "length_dataset = len(lon)\n",
    "\n",
    "# define source and map\n",
    "source = ColumnDataSource(data={'x': lon, 'y': lat, 't': time, 'v': velocity})\n",
    "view = CDSView(filter=IndexFilter(list(range(length_dataset))))\n",
    "b\n",
    "map_options = GMapOptions(lat=48.7886, lng=8.92, map_type=\"satellite\", zoom=13)\n",
    "\n",
    "p = gmap(\"API_KEY\", map_options, title=\"Trajectory Map\")\n",
    "v = figure(width=400, height=400, title=\"Velocity\")\n",
    "\n",
    "p.multi_line('y', 'x', view=view, source=source, line_width=1)\n",
    "v.line('t', 'v', view=view, source=source, line_width=3)\n",
    "\n",
    "range_slider = RangeSlider(title=\"Data Range Slider: \", start=0, end=length_dataset, value=(0, length_dataset), step=1)\n",
    "\n",
    "def slider_callback(attr, old, new):\n",
    "    view.filter = IndexFilter(list(range(*new)))\n",
    "\n",
    "range_slider.on_change('value', slider_callback)\n",
    "\n",
    "layout = row(column(p, range_slider), column(v))\n",
    "curdoc().add_root(layout)\n",
    "\n",
    "show(layout)"
   ]
  },
  {
   "cell_type": "code",
   "execution_count": null,
   "id": "ed164116",
   "metadata": {},
   "outputs": [],
   "source": [
    "type(view.filter)"
   ]
  },
  {
   "cell_type": "code",
   "execution_count": null,
   "id": "813cc97c",
   "metadata": {},
   "outputs": [],
   "source": [
    "plt.hist(events['t'], bins=1000)"
   ]
  },
  {
   "cell_type": "code",
   "execution_count": null,
   "id": "64e24715",
   "metadata": {},
   "outputs": [],
   "source": [
    "intereventintervals = np.diff(events['t'])"
   ]
  },
  {
   "cell_type": "code",
   "execution_count": null,
   "id": "f75385ec",
   "metadata": {},
   "outputs": [],
   "source": [
    "plt.hist(intereventintervals, bins=50, range=(0,50))"
   ]
  },
  {
   "cell_type": "markdown",
   "id": "ff8bc7e8",
   "metadata": {},
   "source": [
    "### Numpy arrays have names for columns!"
   ]
  },
  {
   "cell_type": "code",
   "execution_count": null,
   "id": "1eef4b37",
   "metadata": {},
   "outputs": [],
   "source": [
    "events.dtype.names"
   ]
  },
  {
   "cell_type": "markdown",
   "id": "cd886f46",
   "metadata": {},
   "source": [
    "### Napari plot"
   ]
  },
  {
   "cell_type": "code",
   "execution_count": null,
   "id": "5223721e",
   "metadata": {},
   "outputs": [],
   "source": [
    "from skimage import data"
   ]
  },
  {
   "cell_type": "code",
   "execution_count": null,
   "id": "102f6baa",
   "metadata": {},
   "outputs": [],
   "source": [
    "viewer = napari.Viewer()"
   ]
  },
  {
   "cell_type": "code",
   "execution_count": null,
   "id": "c36c1b12",
   "metadata": {},
   "outputs": [],
   "source": [
    "points = np.array([[1, 100, 100, 2], [2, 200, 200, 4], [3, 300, 100, 4]])"
   ]
  },
  {
   "cell_type": "code",
   "execution_count": null,
   "id": "cc08381b",
   "metadata": {
    "scrolled": true
   },
   "outputs": [],
   "source": [
    "points_layer = viewer.add_points(events[:10000], size=2)"
   ]
  },
  {
   "cell_type": "code",
   "execution_count": null,
   "id": "08900619",
   "metadata": {},
   "outputs": [],
   "source": [
    "record_raw.get_size()"
   ]
  },
  {
   "cell_type": "markdown",
   "id": "226178ee",
   "metadata": {},
   "source": [
    "### Pyqtgraph Helper Tool"
   ]
  },
  {
   "cell_type": "code",
   "execution_count": null,
   "id": "bf0274a3",
   "metadata": {},
   "outputs": [],
   "source": [
    "%gui qt5\n",
    "from PyQt5.Qt import QApplication\n",
    "import qdarkstyle\n",
    "import pyqtgraph as pg\n",
    "\n",
    "# start qt event loop\n",
    "_instance = QApplication.instance()\n",
    "if not _instance:\n",
    "    _instance = QApplication([])\n",
    "app = _instance\n",
    "#app.setStyleSheet(qdarkstyle.load_stylesheet(qt_api='pyqt5'))\n",
    "\n",
    "graphicsView = pg.GraphicsView()\n",
    "graphicsView.setWindowTitle('Your title')\n",
    "layout = pg.GraphicsLayout()\n",
    "graphicsView.setCentralItem(layout)\n",
    "graphicsView.show()\n",
    "\n",
    "XY_plot_layout = layout.addLayout(row=0, col=0, rowspan=2, colspan=1, border=(50,50,0))\n",
    "XY_plot = XY_plot_layout.addPlot()\n",
    "ET_plot = layout.addPlot(row=2, col=0, rowspan=1, colspan=1)\n",
    "ET_region_selection_plot = layout.addPlot(row=3, col=0, rowspan=1, colspan=1)\n",
    "XY_plot.setAspectLocked(True, ratio=1.77)\n",
    "\n",
    "ET_region = pg.LinearRegionItem(values=[1000,2000])\n",
    "ET_region.setZValue(10) # Move item up \n",
    "\n",
    "ET_region_selection_plot.addItem(ET_region, ignoreBounds = True)\n",
    "ET_plot.setAutoVisible(y=True)\n",
    "\n",
    "data1 = 10000 + 15000 * pg.gaussianFilter(np.random.random(size=10000), 10) + 3000 * np.random.random(size=10000)\n",
    "data2 = 15000 + 15000 * pg.gaussianFilter(np.random.random(size=10000), 10) + 3000 * np.random.random(size=10000)\n",
    "\n",
    "ET_plot.plot(data1, pen=\"r\")\n",
    "ET_region_selection_plot.plot(data1, pen=\"r\")\n",
    "\n",
    "s4 = pg.ScatterPlotItem(\n",
    "            size=3,\n",
    "            pen=pg.mkPen(None),\n",
    "            brush=pg.mkBrush(0, 0, 0, 20))\n",
    "n = 10000\n",
    "pos = np.random.normal(size=(2, n), scale=1e-9)\n",
    "s4.addPoints(x=pos[0],\n",
    "                y=pos[1],\n",
    "                # size=(np.random.random(n) * 20.).astype(int),\n",
    "                # brush=[pg.mkBrush(x) for x in np.random.randint(0, 256, (n, 3))],\n",
    "                data=np.arange(n)\n",
    "                )\n",
    "XY_plot.addItem(s4)\n",
    "\n",
    "def update():\n",
    "    ET_region.setZValue(10)\n",
    "    minX, maxX = ET_region.getRegion()\n",
    "    ET_plot.setXRange(minX, maxX, padding=0)\n",
    "    \n",
    "ET_region.sigRegionChanged.connect(update)"
   ]
  }
 ],
 "metadata": {
  "kernelspec": {
   "display_name": "Python 3 (ipykernel)",
   "language": "python",
   "name": "python3"
  },
  "language_info": {
   "codemirror_mode": {
    "name": "ipython",
    "version": 3
   },
   "file_extension": ".py",
   "mimetype": "text/x-python",
   "name": "python",
   "nbconvert_exporter": "python",
   "pygments_lexer": "ipython3",
   "version": "3.9.16"
  }
 },
 "nbformat": 4,
 "nbformat_minor": 5
}
