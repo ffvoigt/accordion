{
 "cells": [
  {
   "cell_type": "code",
   "execution_count": 1,
   "id": "26111fc6",
   "metadata": {},
   "outputs": [],
   "source": [
    "import numpy as np"
   ]
  },
  {
   "cell_type": "code",
   "execution_count": 10,
   "id": "3329e8e4",
   "metadata": {},
   "outputs": [
    {
     "name": "stdout",
     "output_type": "stream",
     "text": [
      "[1.19986682e-311 1.19987633e-311 1.19986682e-311 1.19961619e-311\n",
      " 1.19986682e-311 1.19987677e-311 1.19987646e-311 1.19987646e-311\n",
      " 1.19987646e-311 1.19987646e-311 1.19987646e-311 1.19987646e-311\n",
      " 1.19987646e-311 1.19987646e-311 1.19987646e-311 1.19987646e-311\n",
      " 1.19987646e-311 1.19987646e-311 1.19987646e-311 1.19987635e-311\n",
      " 1.19987635e-311 1.19987635e-311 1.19987635e-311]\n"
     ]
    }
   ],
   "source": [
    "myarray = np.ndarray((23))\n",
    "print(myarray)"
   ]
  },
  {
   "cell_type": "code",
   "execution_count": 11,
   "id": "c4221669",
   "metadata": {},
   "outputs": [
    {
     "data": {
      "text/plain": [
       "numpy.ndarray"
      ]
     },
     "execution_count": 11,
     "metadata": {},
     "output_type": "execute_result"
    }
   ],
   "source": [
    "type(myarray)"
   ]
  },
  {
   "cell_type": "code",
   "execution_count": 23,
   "id": "63ac71a7",
   "metadata": {},
   "outputs": [],
   "source": [
    "def arraytest(array):\n",
    "    if type(myarray) == np.ndarray:\n",
    "        print('Hi')"
   ]
  },
  {
   "cell_type": "code",
   "execution_count": 22,
   "id": "fb306c13",
   "metadata": {},
   "outputs": [
    {
     "ename": "IndentationError",
     "evalue": "expected an indented block (2800292906.py, line 2)",
     "output_type": "error",
     "traceback": [
      "\u001b[1;36m  Cell \u001b[1;32mIn[22], line 2\u001b[1;36m\u001b[0m\n\u001b[1;33m    \u001b[0m\n\u001b[1;37m    ^\u001b[0m\n\u001b[1;31mIndentationError\u001b[0m\u001b[1;31m:\u001b[0m expected an indented block\n"
     ]
    }
   ],
   "source": [
    "if type(myarray) == np.ndarray:\n",
    "    "
   ]
  },
  {
   "cell_type": "code",
   "execution_count": 24,
   "id": "1bcb3d8f",
   "metadata": {},
   "outputs": [
    {
     "name": "stdout",
     "output_type": "stream",
     "text": [
      "Hi\n"
     ]
    }
   ],
   "source": [
    "arraytest(myarray)"
   ]
  },
  {
   "cell_type": "code",
   "execution_count": 25,
   "id": "08eff8b5",
   "metadata": {},
   "outputs": [
    {
     "name": "stdout",
     "output_type": "stream",
     "text": [
      "Hi\n"
     ]
    }
   ],
   "source": [
    "arraytest(None)"
   ]
  }
 ],
 "metadata": {
  "kernelspec": {
   "display_name": "Python 3 (ipykernel)",
   "language": "python",
   "name": "python3"
  },
  "language_info": {
   "codemirror_mode": {
    "name": "ipython",
    "version": 3
   },
   "file_extension": ".py",
   "mimetype": "text/x-python",
   "name": "python",
   "nbconvert_exporter": "python",
   "pygments_lexer": "ipython3",
   "version": "3.9.16"
  }
 },
 "nbformat": 4,
 "nbformat_minor": 5
}
