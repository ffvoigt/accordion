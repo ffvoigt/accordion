{
 "cells": [
  {
   "cell_type": "code",
   "execution_count": 1,
   "id": "868ee235",
   "metadata": {},
   "outputs": [],
   "source": [
    "import pyqtgraph as pg\n",
    "from pyqtgraph import functions as fn\n",
    "from pyqtgraph.Qt import QtCore, QtGui\n",
    "import pyqtgraph.opengl as gl\n",
    "import numpy as np\n",
    "\n",
    "app = pg.mkQApp(\"GLScatterPlotItem Example\")\n",
    "w = gl.GLViewWidget()\n",
    "w.show()\n",
    "w.setWindowTitle('pyqtgraph example: GLScatterPlotItem')\n",
    "w.setCameraPosition(distance=20)\n",
    "\n",
    "g = gl.GLGridItem()\n",
    "w.addItem(g)\n",
    "\n",
    "pos = np.random.random(size=(1000,3))\n",
    "pos *= [10,-10,10]\n",
    "\n",
    "sp2 = gl.GLScatterPlotItem(pos=pos, color=(1,1,1,1), size=10)\n",
    "w.addItem(sp2)"
   ]
  }
 ],
 "metadata": {
  "kernelspec": {
   "display_name": "Python 3 (ipykernel)",
   "language": "python",
   "name": "python3"
  },
  "language_info": {
   "codemirror_mode": {
    "name": "ipython",
    "version": 3
   },
   "file_extension": ".py",
   "mimetype": "text/x-python",
   "name": "python",
   "nbconvert_exporter": "python",
   "pygments_lexer": "ipython3",
   "version": "3.9.16"
  }
 },
 "nbformat": 4,
 "nbformat_minor": 5
}
