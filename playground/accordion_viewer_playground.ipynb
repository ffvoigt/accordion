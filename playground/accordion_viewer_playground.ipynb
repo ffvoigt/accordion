{
 "cells": [
  {
   "cell_type": "code",
   "execution_count": 1,
   "id": "de5070cd",
   "metadata": {},
   "outputs": [],
   "source": [
    "import numpy as np"
   ]
  },
  {
   "cell_type": "code",
   "execution_count": 3,
   "id": "9ad850f2",
   "metadata": {},
   "outputs": [],
   "source": [
    "data = np.random.rand(10,2)"
   ]
  },
  {
   "cell_type": "code",
   "execution_count": 6,
   "id": "50269a1a",
   "metadata": {},
   "outputs": [
    {
     "data": {
      "text/plain": [
       "array([[0.38250626, 0.47710842],\n",
       "       [0.06804447, 0.67905177],\n",
       "       [0.30426776, 0.38733615],\n",
       "       [0.1512292 , 0.57159859],\n",
       "       [0.46431301, 0.3012122 ],\n",
       "       [0.6996288 , 0.0891823 ],\n",
       "       [0.31283163, 0.95327801],\n",
       "       [0.85195765, 0.43173639],\n",
       "       [0.00935728, 0.21672897],\n",
       "       [0.29033498, 0.54066562]])"
      ]
     },
     "execution_count": 6,
     "metadata": {},
     "output_type": "execute_result"
    }
   ],
   "source": [
    "data"
   ]
  },
  {
   "cell_type": "code",
   "execution_count": 5,
   "id": "6f1db3a1",
   "metadata": {
    "scrolled": true
   },
   "outputs": [
    {
     "data": {
      "text/plain": [
       "array([0.38250626, 0.06804447, 0.30426776, 0.1512292 , 0.46431301,\n",
       "       0.6996288 , 0.31283163, 0.85195765, 0.00935728, 0.29033498])"
      ]
     },
     "execution_count": 5,
     "metadata": {},
     "output_type": "execute_result"
    }
   ],
   "source": [
    "data[:,0]*"
   ]
  },
  {
   "cell_type": "code",
   "execution_count": 11,
   "id": "28b595bb",
   "metadata": {},
   "outputs": [
    {
     "data": {
      "text/plain": [
       "array([[1194,  612],\n",
       "       [ 664, 1003],\n",
       "       [ 200,  731],\n",
       "       [ 297,  526],\n",
       "       [ 890,  524],\n",
       "       [ 163,   82],\n",
       "       [1214, 1002],\n",
       "       [1200,  712],\n",
       "       [ 965,  102],\n",
       "       [1098, 1068]])"
      ]
     },
     "execution_count": 11,
     "metadata": {},
     "output_type": "execute_result"
    }
   ],
   "source": [
    "np.random.randint(0, 1281, (10,2))"
   ]
  },
  {
   "cell_type": "code",
   "execution_count": 13,
   "id": "f48a2a50",
   "metadata": {},
   "outputs": [
    {
     "data": {
      "text/plain": [
       "array([[0],\n",
       "       [1],\n",
       "       [1],\n",
       "       [0],\n",
       "       [1],\n",
       "       [0],\n",
       "       [0],\n",
       "       [1],\n",
       "       [0],\n",
       "       [0]])"
      ]
     },
     "execution_count": 13,
     "metadata": {},
     "output_type": "execute_result"
    }
   ],
   "source": [
    "np.random.randint(0, 2, (10,1))"
   ]
  },
  {
   "cell_type": "code",
   "execution_count": null,
   "id": "7ce27fa2",
   "metadata": {},
   "outputs": [],
   "source": [
    "data = np.random.rand(500,2)"
   ]
  }
 ],
 "metadata": {
  "kernelspec": {
   "display_name": "Python 3 (ipykernel)",
   "language": "python",
   "name": "python3"
  },
  "language_info": {
   "codemirror_mode": {
    "name": "ipython",
    "version": 3
   },
   "file_extension": ".py",
   "mimetype": "text/x-python",
   "name": "python",
   "nbconvert_exporter": "python",
   "pygments_lexer": "ipython3",
   "version": "3.9.16"
  }
 },
 "nbformat": 4,
 "nbformat_minor": 5
}
