{
 "cells": [
  {
   "cell_type": "code",
   "execution_count": 1,
   "id": "de5070cd",
   "metadata": {},
   "outputs": [],
   "source": [
    "import numpy as np\n"
   ]
  },
  {
   "cell_type": "code",
   "execution_count": 3,
   "id": "9ad850f2",
   "metadata": {},
   "outputs": [],
   "source": [
    "data = np.random.rand(10,2)"
   ]
  },
  {
   "cell_type": "code",
   "execution_count": 6,
   "id": "50269a1a",
   "metadata": {},
   "outputs": [
    {
     "data": {
      "text/plain": [
       "array([[0.38250626, 0.47710842],\n",
       "       [0.06804447, 0.67905177],\n",
       "       [0.30426776, 0.38733615],\n",
       "       [0.1512292 , 0.57159859],\n",
       "       [0.46431301, 0.3012122 ],\n",
       "       [0.6996288 , 0.0891823 ],\n",
       "       [0.31283163, 0.95327801],\n",
       "       [0.85195765, 0.43173639],\n",
       "       [0.00935728, 0.21672897],\n",
       "       [0.29033498, 0.54066562]])"
      ]
     },
     "execution_count": 6,
     "metadata": {},
     "output_type": "execute_result"
    }
   ],
   "source": [
    "data"
   ]
  },
  {
   "cell_type": "code",
   "execution_count": 5,
   "id": "6f1db3a1",
   "metadata": {
    "scrolled": true
   },
   "outputs": [
    {
     "data": {
      "text/plain": [
       "array([0.38250626, 0.06804447, 0.30426776, 0.1512292 , 0.46431301,\n",
       "       0.6996288 , 0.31283163, 0.85195765, 0.00935728, 0.29033498])"
      ]
     },
     "execution_count": 5,
     "metadata": {},
     "output_type": "execute_result"
    }
   ],
   "source": [
    "data[:,0]*"
   ]
  },
  {
   "cell_type": "code",
   "execution_count": 21,
   "id": "28b595bb",
   "metadata": {},
   "outputs": [],
   "source": [
    "a = np.random.randint(0, 1281, (10))\n",
    "b = np.random.randint(0, 721, (10))"
   ]
  },
  {
   "cell_type": "code",
   "execution_count": 22,
   "id": "c5abd338-f82a-44c8-8e05-768448ca5b65",
   "metadata": {},
   "outputs": [
    {
     "data": {
      "text/plain": [
       "array([1062, 1126,  581,  712,   62, 1228, 1152,   94,  805, 1216])"
      ]
     },
     "execution_count": 22,
     "metadata": {},
     "output_type": "execute_result"
    }
   ],
   "source": [
    "a"
   ]
  },
  {
   "cell_type": "code",
   "execution_count": 23,
   "id": "1c8576d4-57f3-4792-a0c2-8f40dad4ee3a",
   "metadata": {},
   "outputs": [
    {
     "data": {
      "text/plain": [
       "array([562, 166,  53, 651,  24, 362,  60, 199, 226, 576])"
      ]
     },
     "execution_count": 23,
     "metadata": {},
     "output_type": "execute_result"
    }
   ],
   "source": [
    "b"
   ]
  },
  {
   "cell_type": "code",
   "execution_count": 24,
   "id": "1150b44c-51ca-45a7-a13e-54fc6610aefa",
   "metadata": {},
   "outputs": [
    {
     "data": {
      "text/plain": [
       "[array([1062, 1126,  581,  712,   62, 1228, 1152,   94,  805, 1216]),\n",
       " array([562, 166,  53, 651,  24, 362,  60, 199, 226, 576])]"
      ]
     },
     "execution_count": 24,
     "metadata": {},
     "output_type": "execute_result"
    }
   ],
   "source": [
    "[a,b]"
   ]
  },
  {
   "cell_type": "code",
   "execution_count": 30,
   "id": "ec27b1b5-642e-4172-85fe-905b9bcab6d6",
   "metadata": {},
   "outputs": [
    {
     "data": {
      "text/plain": [
       "array([[1062,  562,  562],\n",
       "       [1126,  166,  166],\n",
       "       [ 581,   53,   53],\n",
       "       [ 712,  651,  651],\n",
       "       [  62,   24,   24],\n",
       "       [1228,  362,  362],\n",
       "       [1152,   60,   60],\n",
       "       [  94,  199,  199],\n",
       "       [ 805,  226,  226],\n",
       "       [1216,  576,  576]])"
      ]
     },
     "execution_count": 30,
     "metadata": {},
     "output_type": "execute_result"
    }
   ],
   "source": [
    "np.stack((a,b)).T"
   ]
  },
  {
   "cell_type": "code",
   "execution_count": 13,
   "id": "f48a2a50",
   "metadata": {},
   "outputs": [
    {
     "data": {
      "text/plain": [
       "array([[0],\n",
       "       [1],\n",
       "       [1],\n",
       "       [0],\n",
       "       [1],\n",
       "       [0],\n",
       "       [0],\n",
       "       [1],\n",
       "       [0],\n",
       "       [0]])"
      ]
     },
     "execution_count": 13,
     "metadata": {},
     "output_type": "execute_result"
    }
   ],
   "source": [
    "np.random.randint(0, 2, (10,1))"
   ]
  },
  {
   "cell_type": "code",
   "execution_count": 33,
   "id": "7ce27fa2",
   "metadata": {},
   "outputs": [
    {
     "data": {
      "text/plain": [
       "array([1, 0, 0, 1, 0, 0, 0, 0, 0, 0])"
      ]
     },
     "execution_count": 33,
     "metadata": {},
     "output_type": "execute_result"
    }
   ],
   "source": [
    "np.random.randint(0,2,10)"
   ]
  },
  {
   "cell_type": "code",
   "execution_count": 35,
   "id": "4d9b8767-6d5c-43fb-8f52-69a47bb5ba26",
   "metadata": {},
   "outputs": [],
   "source": [
    "event_type = np.random.randint(0,500,500)"
   ]
  },
  {
   "cell_type": "code",
   "execution_count": 36,
   "id": "e21e6426-1c05-4490-9169-f6b39346d637",
   "metadata": {},
   "outputs": [
    {
     "data": {
      "text/plain": [
       "dtype('int64')"
      ]
     },
     "execution_count": 36,
     "metadata": {},
     "output_type": "execute_result"
    }
   ],
   "source": [
    "event_type.dtype"
   ]
  },
  {
   "cell_type": "code",
   "execution_count": 42,
   "id": "4f766ae6-bda3-4dfe-ac28-ebc242ad0db6",
   "metadata": {},
   "outputs": [
    {
     "name": "stdout",
     "output_type": "stream",
     "text": [
      "4.36 µs ± 43 ns per loop (mean ± std. dev. of 7 runs, 100,000 loops each)\n"
     ]
    }
   ],
   "source": [
    "%timeit np.random.randint(0,500,500)"
   ]
  },
  {
   "cell_type": "code",
   "execution_count": 52,
   "id": "72d763ed-72e7-4353-acb9-31c5a7ecfb90",
   "metadata": {},
   "outputs": [],
   "source": [
    "def create_and_sort_values(n):\n",
    "    return np.sort(np.random.randint(0,500,n))"
   ]
  },
  {
   "cell_type": "code",
   "execution_count": 60,
   "id": "77113054-1b7d-4ef2-8992-9dc4233d92f3",
   "metadata": {},
   "outputs": [
    {
     "name": "stdout",
     "output_type": "stream",
     "text": [
      "23.7 µs ± 108 ns per loop (mean ± std. dev. of 7 runs, 10,000 loops each)\n"
     ]
    }
   ],
   "source": [
    "%timeit data = create_and_sort_values(500)"
   ]
  },
  {
   "cell_type": "code",
   "execution_count": 47,
   "id": "7f068a5e-d86e-4efa-be3d-27107abe5f96",
   "metadata": {},
   "outputs": [],
   "source": [
    "from numba import jit"
   ]
  },
  {
   "cell_type": "code",
   "execution_count": 61,
   "id": "3ef84f9b-5276-49eb-8379-43ed9494705b",
   "metadata": {},
   "outputs": [],
   "source": [
    "@jit(nopython=True)\n",
    "def create_and_sort_values_numba(n):\n",
    "    return np.sort(np.random.randint(0,500,n))"
   ]
  },
  {
   "cell_type": "code",
   "execution_count": 74,
   "id": "69cbb763-d795-46aa-a85e-9a3fbc55d664",
   "metadata": {},
   "outputs": [
    {
     "name": "stdout",
     "output_type": "stream",
     "text": [
      "15.1 µs ± 348 ns per loop (mean ± std. dev. of 7 runs, 100,000 loops each)\n"
     ]
    }
   ],
   "source": [
    "%timeit create_and_sort_values_numba(500)"
   ]
  },
  {
   "cell_type": "code",
   "execution_count": 75,
   "id": "0631b58d-0706-48f2-8f9f-a5b0c0f980ea",
   "metadata": {},
   "outputs": [],
   "source": [
    "data = create_and_sort_values_numba(500)"
   ]
  },
  {
   "cell_type": "code",
   "execution_count": 76,
   "id": "b40e2acc-9eee-404c-b882-369ce8a9570b",
   "metadata": {},
   "outputs": [
    {
     "data": {
      "text/plain": [
       "array([  0,   0,   3,   5,   6,   7,   8,   8,   9,   9,  10,  12,  16,\n",
       "        17,  17,  17,  18,  18,  19,  20,  24,  25,  26,  27,  29,  29,\n",
       "        31,  32,  32,  32,  33,  33,  34,  34,  35,  35,  37,  38,  38,\n",
       "        39,  39,  40,  40,  41,  43,  46,  49,  50,  51,  53,  53,  55,\n",
       "        56,  56,  57,  58,  58,  59,  59,  60,  60,  60,  62,  62,  62,\n",
       "        63,  64,  65,  66,  66,  69,  69,  70,  70,  70,  70,  73,  73,\n",
       "        74,  75,  75,  76,  76,  80,  81,  83,  84,  85,  89,  90,  90,\n",
       "        90,  91,  91,  92,  95,  96,  97,  98,  99,  99,  99, 101, 103,\n",
       "       106, 107, 107, 107, 107, 108, 108, 109, 110, 112, 113, 113, 113,\n",
       "       116, 116, 117, 119, 119, 120, 123, 124, 124, 124, 125, 126, 127,\n",
       "       130, 131, 132, 133, 134, 136, 136, 137, 137, 139, 139, 139, 140,\n",
       "       140, 140, 142, 144, 146, 148, 148, 148, 148, 149, 150, 150, 150,\n",
       "       153, 157, 157, 157, 158, 162, 164, 166, 166, 166, 167, 168, 169,\n",
       "       170, 173, 175, 175, 176, 179, 181, 181, 182, 182, 182, 183, 184,\n",
       "       186, 186, 186, 187, 187, 188, 188, 188, 189, 191, 191, 191, 192,\n",
       "       192, 193, 194, 195, 196, 197, 197, 199, 199, 200, 201, 203, 204,\n",
       "       206, 206, 206, 207, 207, 207, 207, 207, 208, 208, 209, 209, 209,\n",
       "       214, 214, 216, 218, 219, 220, 220, 220, 221, 222, 222, 223, 223,\n",
       "       223, 224, 225, 225, 226, 228, 229, 230, 231, 232, 237, 237, 238,\n",
       "       239, 239, 240, 241, 243, 243, 243, 245, 246, 246, 247, 248, 248,\n",
       "       248, 251, 254, 255, 255, 256, 256, 258, 259, 261, 261, 263, 264,\n",
       "       266, 266, 272, 272, 274, 275, 275, 275, 276, 278, 279, 279, 279,\n",
       "       281, 282, 282, 283, 283, 285, 287, 288, 289, 290, 291, 291, 291,\n",
       "       291, 292, 293, 293, 293, 295, 296, 297, 298, 300, 300, 301, 301,\n",
       "       302, 303, 305, 305, 306, 307, 318, 319, 319, 319, 322, 322, 322,\n",
       "       324, 325, 327, 327, 328, 329, 329, 329, 331, 332, 333, 334, 334,\n",
       "       335, 337, 337, 339, 339, 340, 340, 341, 344, 347, 350, 350, 350,\n",
       "       352, 353, 353, 354, 355, 355, 356, 357, 357, 357, 359, 359, 361,\n",
       "       361, 361, 362, 362, 363, 363, 364, 365, 365, 366, 367, 367, 370,\n",
       "       371, 371, 372, 372, 373, 373, 374, 374, 374, 379, 380, 380, 382,\n",
       "       383, 383, 384, 385, 386, 387, 387, 389, 390, 391, 393, 393, 395,\n",
       "       396, 402, 402, 403, 403, 406, 407, 407, 408, 409, 411, 411, 413,\n",
       "       413, 415, 416, 416, 417, 417, 417, 421, 421, 423, 427, 430, 430,\n",
       "       431, 431, 432, 433, 433, 433, 433, 434, 434, 435, 437, 438, 440,\n",
       "       441, 442, 443, 443, 444, 444, 445, 445, 446, 446, 454, 456, 456,\n",
       "       457, 457, 457, 457, 458, 459, 462, 462, 463, 463, 463, 466, 467,\n",
       "       468, 469, 470, 473, 474, 476, 476, 476, 478, 479, 479, 479, 480,\n",
       "       482, 485, 485, 486, 487, 488, 489, 489, 490, 491, 491, 491, 491,\n",
       "       492, 493, 493, 496, 497, 499])"
      ]
     },
     "execution_count": 76,
     "metadata": {},
     "output_type": "execute_result"
    }
   ],
   "source": [
    "data"
   ]
  },
  {
   "cell_type": "markdown",
   "id": "fd48eda4-d009-443d-aae1-908a76650055",
   "metadata": {},
   "source": [
    "np.sort(np.random.randint(0,2000,50))"
   ]
  },
  {
   "cell_type": "code",
   "execution_count": 84,
   "id": "fbd7b0ce-0569-47b2-a6de-a4d6530b62a8",
   "metadata": {},
   "outputs": [],
   "source": [
    "testdata = np.random.randint(0,2000,(4,10)).T"
   ]
  },
  {
   "cell_type": "code",
   "execution_count": 85,
   "id": "72ddcf10-048a-4a3f-908f-23b9273a4800",
   "metadata": {},
   "outputs": [
    {
     "data": {
      "text/plain": [
       "array([[1622,  568, 1364,  865],\n",
       "       [ 968,  218,  719,  782],\n",
       "       [1940,  692,  255,  563],\n",
       "       [1767, 1231,  917,  844],\n",
       "       [ 176,  537,  536,  637],\n",
       "       [1683,  893,  542, 1658],\n",
       "       [ 246, 1577,  258, 1702],\n",
       "       [1727,  835,  156,  374],\n",
       "       [  33, 1451, 1671, 1582],\n",
       "       [1425,  977,  142, 1549]])"
      ]
     },
     "execution_count": 85,
     "metadata": {},
     "output_type": "execute_result"
    }
   ],
   "source": [
    "testdata"
   ]
  },
  {
   "cell_type": "code",
   "execution_count": 92,
   "id": "7059c445-738c-4312-bf17-ec4334426f7f",
   "metadata": {},
   "outputs": [
    {
     "data": {
      "text/plain": [
       "array([1622,  968, 1940, 1767,  176, 1683,  246, 1727,   33, 1425])"
      ]
     },
     "execution_count": 92,
     "metadata": {},
     "output_type": "execute_result"
    }
   ],
   "source": [
    "testdata[:,0]"
   ]
  }
 ],
 "metadata": {
  "kernelspec": {
   "display_name": "Python 3 (ipykernel)",
   "language": "python",
   "name": "python3"
  },
  "language_info": {
   "codemirror_mode": {
    "name": "ipython",
    "version": 3
   },
   "file_extension": ".py",
   "mimetype": "text/x-python",
   "name": "python",
   "nbconvert_exporter": "python",
   "pygments_lexer": "ipython3",
   "version": "3.11.5"
  }
 },
 "nbformat": 4,
 "nbformat_minor": 5
}
