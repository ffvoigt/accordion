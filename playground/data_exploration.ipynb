{
 "cells": [
  {
   "cell_type": "code",
   "execution_count": 1,
   "id": "e06971be",
   "metadata": {
    "scrolled": true
   },
   "outputs": [],
   "source": [
    "import sys\n",
    "import os\n",
    "import numpy as np\n",
    "import napari\n",
    "%matplotlib inline\n",
    "from matplotlib import pyplot as plt  # graphic library, for plots"
   ]
  },
  {
   "cell_type": "code",
   "execution_count": 2,
   "id": "aa4e131a",
   "metadata": {},
   "outputs": [],
   "source": [
    "import filedialogs"
   ]
  },
  {
   "cell_type": "code",
   "execution_count": 3,
   "id": "fb7df1a4",
   "metadata": {},
   "outputs": [],
   "source": [
    "from metavision_core.event_io.raw_reader import RawReader\n",
    "from metavision_core.event_io.py_reader import EventDatReader\n",
    "from metavision_core.event_io import EventsIterator"
   ]
  },
  {
   "cell_type": "code",
   "execution_count": 5,
   "id": "066c5603",
   "metadata": {},
   "outputs": [],
   "source": [
    "path = filedialogs.gui_fname('example_data/')\n",
    "path = path.decode('ascii')"
   ]
  },
  {
   "cell_type": "code",
   "execution_count": 7,
   "id": "ee5d437b",
   "metadata": {},
   "outputs": [
    {
     "name": "stdout",
     "output_type": "stream",
     "text": [
      "RawReader(C:/Users/B0067-WS-2/Documents/code/github-ffvoigt/accordion/playground/example_data/fish_bouts_recording_2023-06-27_10-42-58.raw)\n",
      "current time : 0us done : False\n",
      "current event index : 0\n",
      "_begin_buffer 0,_end_buffer_ 0,  buffer_size 10000000\n"
     ]
    }
   ],
   "source": [
    "record_raw = RawReader(path)\n",
    "print(record_raw)"
   ]
  },
  {
   "cell_type": "code",
   "execution_count": 8,
   "id": "9211ca0e",
   "metadata": {
    "scrolled": false
   },
   "outputs": [
    {
     "name": "stdout",
     "output_type": "stream",
     "text": [
      "[(834, 596, 1,     8214) (925,   4, 0,     9194) (767, 127, 0,     9410)\n",
      " ... (829, 542, 0, 15191063) (771, 162, 0, 15191064)\n",
      " (810, 484, 0, 15191067)]\n"
     ]
    }
   ],
   "source": [
    "events = record_raw.load_n_events(1000000)\n",
    "print(events)"
   ]
  },
  {
   "cell_type": "code",
   "execution_count": 9,
   "id": "42eeb7ee",
   "metadata": {},
   "outputs": [
    {
     "data": {
      "text/plain": [
       "236083"
      ]
     },
     "execution_count": 9,
     "metadata": {},
     "output_type": "execute_result"
    }
   ],
   "source": [
    "len(events)"
   ]
  },
  {
   "cell_type": "code",
   "execution_count": 10,
   "id": "f5186e14",
   "metadata": {},
   "outputs": [],
   "source": [
    "def viz_events(events, height, width):\n",
    "    img = np.full((height, width, 3), 128, dtype=np.uint8)\n",
    "    img[events['y'], events['x']] = 255 * events['p'][:, None]\n",
    "    return img"
   ]
  },
  {
   "cell_type": "code",
   "execution_count": 11,
   "id": "78f66418",
   "metadata": {
    "scrolled": true
   },
   "outputs": [
    {
     "data": {
      "text/plain": [
       "array([1, 0, 0, ..., 0, 0, 0], dtype=int16)"
      ]
     },
     "execution_count": 11,
     "metadata": {},
     "output_type": "execute_result"
    }
   ],
   "source": [
    "events['p']"
   ]
  },
  {
   "cell_type": "code",
   "execution_count": null,
   "id": "6f7a42b9",
   "metadata": {
    "scrolled": true
   },
   "outputs": [],
   "source": [
    "len(events['t'])"
   ]
  },
  {
   "cell_type": "code",
   "execution_count": null,
   "id": "dae9c51f",
   "metadata": {},
   "outputs": [],
   "source": [
    "type(events[4])"
   ]
  },
  {
   "cell_type": "code",
   "execution_count": null,
   "id": "ce8835df",
   "metadata": {
    "scrolled": true
   },
   "outputs": [],
   "source": [
    "events2 = np.array([[events['t'], events['x'], events['y'], events['p']]])\n",
    "events2 = np.array([[events['t'], events['x'], events['y']]])"
   ]
  },
  {
   "cell_type": "code",
   "execution_count": null,
   "id": "43b763ea",
   "metadata": {},
   "outputs": [],
   "source": [
    "events[3][1]"
   ]
  },
  {
   "cell_type": "code",
   "execution_count": null,
   "id": "4d1fc3dd",
   "metadata": {},
   "outputs": [],
   "source": [
    "print(events[2])\n",
    "print(np.roll(events[2],2))"
   ]
  },
  {
   "cell_type": "code",
   "execution_count": null,
   "id": "99716350",
   "metadata": {},
   "outputs": [],
   "source": [
    "type(events2)"
   ]
  },
  {
   "cell_type": "code",
   "execution_count": null,
   "id": "4ca4fb81",
   "metadata": {},
   "outputs": [],
   "source": [
    "events2.shape"
   ]
  },
  {
   "cell_type": "code",
   "execution_count": null,
   "id": "6f65f924",
   "metadata": {},
   "outputs": [],
   "source": [
    "events2"
   ]
  },
  {
   "cell_type": "code",
   "execution_count": null,
   "id": "b96e2b92",
   "metadata": {
    "scrolled": false
   },
   "outputs": [],
   "source": [
    "height, width = record_raw.get_size()\n",
    "\n",
    "# load the next 50 ms worth of events\n",
    "# events = record_raw.load_delta_t(50000)\n",
    "im = viz_events(events, height, width)\n",
    "\n",
    "plt.imshow(im)\n",
    "plt.tight_layout()"
   ]
  },
  {
   "cell_type": "code",
   "execution_count": null,
   "id": "fd3fe024",
   "metadata": {},
   "outputs": [],
   "source": [
    "plt.hist(events['t'], bins=1000)"
   ]
  },
  {
   "cell_type": "code",
   "execution_count": null,
   "id": "6a327b94",
   "metadata": {},
   "outputs": [],
   "source": [
    "intereventintervals = np.diff(events['t'])"
   ]
  },
  {
   "cell_type": "code",
   "execution_count": null,
   "id": "e8688623",
   "metadata": {},
   "outputs": [],
   "source": [
    "plt.hist(intereventintervals, bins=50, range=(0,50))"
   ]
  },
  {
   "cell_type": "markdown",
   "id": "93e1be09",
   "metadata": {},
   "source": [
    "### Numpy arrays have names for columns!"
   ]
  },
  {
   "cell_type": "code",
   "execution_count": null,
   "id": "0399d2f8",
   "metadata": {},
   "outputs": [],
   "source": [
    "events.dtype.names"
   ]
  },
  {
   "cell_type": "markdown",
   "id": "f7c4acef",
   "metadata": {},
   "source": [
    "### Napari plot"
   ]
  },
  {
   "cell_type": "code",
   "execution_count": null,
   "id": "d7999c27",
   "metadata": {},
   "outputs": [],
   "source": [
    "from skimage import data"
   ]
  },
  {
   "cell_type": "code",
   "execution_count": null,
   "id": "db72f5c3",
   "metadata": {},
   "outputs": [],
   "source": [
    "viewer = napari.Viewer()"
   ]
  },
  {
   "cell_type": "code",
   "execution_count": null,
   "id": "169294ea",
   "metadata": {},
   "outputs": [],
   "source": [
    "points = np.array([[1, 100, 100, 2], [2, 200, 200, 4], [3, 300, 100, 4]])"
   ]
  },
  {
   "cell_type": "code",
   "execution_count": null,
   "id": "0c84d64f",
   "metadata": {
    "scrolled": true
   },
   "outputs": [],
   "source": [
    "points_layer = viewer.add_points(events[:10000], size=2)"
   ]
  },
  {
   "cell_type": "code",
   "execution_count": null,
   "id": "b0082d18",
   "metadata": {},
   "outputs": [],
   "source": [
    "record_raw.get_size()"
   ]
  }
 ],
 "metadata": {
  "kernelspec": {
   "display_name": "Python 3 (ipykernel)",
   "language": "python",
   "name": "python3"
  },
  "language_info": {
   "codemirror_mode": {
    "name": "ipython",
    "version": 3
   },
   "file_extension": ".py",
   "mimetype": "text/x-python",
   "name": "python",
   "nbconvert_exporter": "python",
   "pygments_lexer": "ipython3",
   "version": "3.9.16"
  }
 },
 "nbformat": 4,
 "nbformat_minor": 5
}
